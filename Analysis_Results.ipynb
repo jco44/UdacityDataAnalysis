{
 "cells": [
  {
   "cell_type": "markdown",
   "metadata": {
    "deletable": true,
    "editable": true
   },
   "source": [
    "# Abstract\n",
    "\n",
    "This analysis was conducted on passengers traveling aboard the Titanic during its maiden voyage in April 1912. The key objective was to identify any possible variables that may have had an impact on survival. \n",
    "\n",
    "Multiple variables were found to be associated with survival aboard the titanic, notably sex, age, and class.  The analysis identified that women and children traveling in either 1st or 2nd class were the most likely to survive. Adult men and 3rd class passengers of all ages and sexes were the least likely to survive. \n",
    "\n",
    "The results found within the Discussion section below represent a subset of the complete analysis.  Additional details on how the data was prepared and a more comprehensive investigation of individual variables can be found in [Appendix A](#A) and [Appendix B](#B). \n",
    "\n",
    "Please note that this analysis was performed as an academic exercise and additional analysis is required to draw any truly meaningful conclusions.  This study did not include an inferential investigation, nor did it explore causality though experimentation."
   ]
  },
  {
   "cell_type": "markdown",
   "metadata": {
    "deletable": true,
    "editable": true
   },
   "source": [
    "# Introduction\n",
    "\n",
    "\n"
   ]
  },
  {
   "cell_type": "markdown",
   "metadata": {
    "deletable": true,
    "editable": true
   },
   "source": [
    "This analysis was conducted on a retrospective study of 891 Titanic passengers.  The data was provided from [Kaggle](https://www.kaggle.com/c/titanic/data) as part of the Udacity Nanodegree Program. The purpose of this investigation is to identify  correlations in the data related to life and death aboard the Titanic. Specifically, whether sex, age, or money influenced survival on the Titanic."
   ]
  },
  {
   "cell_type": "markdown",
   "metadata": {
    "deletable": true,
    "editable": true
   },
   "source": [
    "# Setup Data"
   ]
  },
  {
   "cell_type": "code",
   "execution_count": 1,
   "metadata": {
    "collapsed": false,
    "deletable": true,
    "editable": true
   },
   "outputs": [
    {
     "name": "stdout",
     "output_type": "stream",
     "text": [
      "Populating the interactive namespace from numpy and matplotlib\n"
     ]
    }
   ],
   "source": [
    "%pylab inline\n",
    "\n",
    "import numpy as np\n",
    "import pandas as pd\n",
    "import seaborn as sns\n",
    "\n",
    "from dataworkflow.data import get_data\n",
    "from dataworkflow.visualize import (freq1_display, freq2_display, freq3_display, freq4_display,\n",
    "                                    freq1_store, freq2_store, freq3_store, freq4_store, \n",
    "                                    ez_bar, ez_graph1, ez_graph2, ez_graph3)\n",
    "\n",
    "titanic = get_data()"
   ]
  },
  {
   "cell_type": "markdown",
   "metadata": {
    "deletable": true,
    "editable": true
   },
   "source": [
    "# Discussion"
   ]
  },
  {
   "cell_type": "markdown",
   "metadata": {
    "deletable": true,
    "editable": true
   },
   "source": [
    "## 1. Did Passenger Sex Impact Survival?    "
   ]
  },
  {
   "cell_type": "markdown",
   "metadata": {
    "deletable": true,
    "editable": true
   },
   "source": [
    "### 1.1 Population Statistics"
   ]
  },
  {
   "cell_type": "code",
   "execution_count": 2,
   "metadata": {
    "collapsed": false,
    "deletable": true,
    "editable": true,
    "scrolled": false
   },
   "outputs": [
    {
     "data": {
      "text/html": [
       "<div>\n",
       "<table border=\"1\" class=\"dataframe\">\n",
       "  <thead>\n",
       "    <tr style=\"text-align: right;\">\n",
       "      <th></th>\n",
       "      <th>Child</th>\n",
       "      <th>Adult</th>\n",
       "      <th>Population</th>\n",
       "    </tr>\n",
       "  </thead>\n",
       "  <tbody>\n",
       "    <tr>\n",
       "      <th>Female</th>\n",
       "      <td>0.486726</td>\n",
       "      <td>0.342762</td>\n",
       "      <td>0.352413</td>\n",
       "    </tr>\n",
       "    <tr>\n",
       "      <th>Male</th>\n",
       "      <td>0.513274</td>\n",
       "      <td>0.657238</td>\n",
       "      <td>0.647587</td>\n",
       "    </tr>\n",
       "  </tbody>\n",
       "</table>\n",
       "</div>"
      ],
      "text/plain": [
       "           Child     Adult  Population\n",
       "Female  0.486726  0.342762    0.352413\n",
       "Male    0.513274  0.657238    0.647587"
      ]
     },
     "execution_count": 2,
     "metadata": {},
     "output_type": "execute_result"
    }
   ],
   "source": [
    "sex_a = freq2_store(titanic['Sex'], titanic['age_group'])\n",
    "         \n",
    "sex_tab1 = sex_a[2].ix[['female', 'male'],['Child','Adult','RowTotals']]\n",
    "\n",
    "sex_tab1.index = ['Female', 'Male']\n",
    "sex_tab1.columns = ['Child','Adult','Population']\n",
    "\n",
    "sex_tab1"
   ]
  },
  {
   "cell_type": "code",
   "execution_count": 3,
   "metadata": {
    "collapsed": false,
    "deletable": true,
    "editable": true
   },
   "outputs": [
    {
     "data": {
      "text/html": [
       "<div>\n",
       "<table border=\"1\" class=\"dataframe\">\n",
       "  <thead>\n",
       "    <tr style=\"text-align: right;\">\n",
       "      <th></th>\n",
       "      <th>Female</th>\n",
       "      <th>Male</th>\n",
       "      <th>Population</th>\n",
       "    </tr>\n",
       "  </thead>\n",
       "  <tbody>\n",
       "    <tr>\n",
       "      <th>Child</th>\n",
       "      <td>0.175159</td>\n",
       "      <td>0.100520</td>\n",
       "      <td>0.126824</td>\n",
       "    </tr>\n",
       "    <tr>\n",
       "      <th>Adult</th>\n",
       "      <td>0.656051</td>\n",
       "      <td>0.684575</td>\n",
       "      <td>0.674523</td>\n",
       "    </tr>\n",
       "    <tr>\n",
       "      <th>Age Unknown</th>\n",
       "      <td>0.168790</td>\n",
       "      <td>0.214905</td>\n",
       "      <td>0.198653</td>\n",
       "    </tr>\n",
       "  </tbody>\n",
       "</table>\n",
       "</div>"
      ],
      "text/plain": [
       "               Female      Male  Population\n",
       "Child        0.175159  0.100520    0.126824\n",
       "Adult        0.656051  0.684575    0.674523\n",
       "Age Unknown  0.168790  0.214905    0.198653"
      ]
     },
     "execution_count": 3,
     "metadata": {},
     "output_type": "execute_result"
    }
   ],
   "source": [
    "sex_tab2 = sex_a[1].ix[['female', 'male', 'Totals'], ['Child', 'Adult', 'Unknown']]\n",
    "\n",
    "sex_tab2.index = ['Female', 'Male', 'Population']\n",
    "sex_tab2.columns = ['Child', 'Adult', 'Age Unknown']\n",
    "\n",
    "sex_tab2.transpose()"
   ]
  },
  {
   "cell_type": "markdown",
   "metadata": {
    "deletable": true,
    "editable": true
   },
   "source": [
    "__Figure 1a:__ (1) Frequency table depicting the percentages of males and females within each age group (Child < 18, Adult => 18), as well as the general population. (2) Frequency table depicting the percentage of children and adults within each of the passenger sexes.  The overall percentage of adults and children in the population has also been included for comparison. \n",
    "\n",
    "_Note: The ship's population consisted of 65% male and 35% female passengers. Male passengers also made up the majority of both adults (66%) and children (51%). Children made up a larger percentage of female passengers (18%) than male passengers (10%).  Each sex had roughly the same percentage of adults – female: 66%, male: 68%._"
   ]
  },
  {
   "cell_type": "code",
   "execution_count": 4,
   "metadata": {
    "collapsed": false,
    "deletable": true,
    "editable": true
   },
   "outputs": [
    {
     "data": {
      "text/html": [
       "<div>\n",
       "<table border=\"1\" class=\"dataframe\">\n",
       "  <thead>\n",
       "    <tr style=\"text-align: right;\">\n",
       "      <th></th>\n",
       "      <th>Female</th>\n",
       "      <th>Male</th>\n",
       "      <th>Population</th>\n",
       "    </tr>\n",
       "  </thead>\n",
       "  <tbody>\n",
       "    <tr>\n",
       "      <th>1st</th>\n",
       "      <td>0.299363</td>\n",
       "      <td>0.211438</td>\n",
       "      <td>0.242424</td>\n",
       "    </tr>\n",
       "    <tr>\n",
       "      <th>2nd</th>\n",
       "      <td>0.242038</td>\n",
       "      <td>0.187175</td>\n",
       "      <td>0.206510</td>\n",
       "    </tr>\n",
       "    <tr>\n",
       "      <th>3rd</th>\n",
       "      <td>0.458599</td>\n",
       "      <td>0.601386</td>\n",
       "      <td>0.551066</td>\n",
       "    </tr>\n",
       "  </tbody>\n",
       "</table>\n",
       "</div>"
      ],
      "text/plain": [
       "       Female      Male  Population\n",
       "1st  0.299363  0.211438    0.242424\n",
       "2nd  0.242038  0.187175    0.206510\n",
       "3rd  0.458599  0.601386    0.551066"
      ]
     },
     "execution_count": 4,
     "metadata": {},
     "output_type": "execute_result"
    },
    {
     "data": {
      "image/png": "[encoded data removed]",
      "text/plain": [
       "<matplotlib.figure.Figure at 0x116480208>"
      ]
     },
     "metadata": {},
     "output_type": "display_data"
    }
   ],
   "source": [
    "sex_c = freq2_store(titanic['Sex'], \n",
    "                    titanic['Pclass'])[1][['1st','2nd', '3rd']]*100\n",
    "sex_c.index = ['Female','Male', 'Population']\n",
    "\n",
    "ez_bar(sex_c, 'Class Distribution', '% of Total')\n",
    "\n",
    "sex_c.transpose()/100"
   ]
  },
  {
   "cell_type": "markdown",
   "metadata": {
    "deletable": true,
    "editable": true
   },
   "source": [
    "__Figure 1b:__ Frequency table and bar graph showing how each sex and the overall population were spread across the 3 classes on the Titanic. \n",
    "\n",
    "_Notes: The majority of both sexes traveled in 3rd class, followed by 1st and then 2nd. The same pattern can be seen in the general population as well. Female passengers were fairly evenly spread across class, with the largest portion in 3rd class (45%). Male passengers were more skewed towards 3rd class. In fact, there were more male passengers in 3rd class than both the 1st and 2nd combined. _"
   ]
  },
  {
   "cell_type": "markdown",
   "metadata": {
    "deletable": true,
    "editable": true
   },
   "source": [
    "### 1.2 Survival Statistics"
   ]
  },
  {
   "cell_type": "code",
   "execution_count": 5,
   "metadata": {
    "collapsed": false,
    "deletable": true,
    "editable": true
   },
   "outputs": [
    {
     "data": {
      "text/html": [
       "<div>\n",
       "<table border=\"1\" class=\"dataframe\">\n",
       "  <thead>\n",
       "    <tr style=\"text-align: right;\">\n",
       "      <th></th>\n",
       "      <th>Female</th>\n",
       "      <th>Male</th>\n",
       "      <th>Population</th>\n",
       "    </tr>\n",
       "  </thead>\n",
       "  <tbody>\n",
       "    <tr>\n",
       "      <th>Died</th>\n",
       "      <td>0.257962</td>\n",
       "      <td>0.811092</td>\n",
       "      <td>0.616162</td>\n",
       "    </tr>\n",
       "    <tr>\n",
       "      <th>Lived</th>\n",
       "      <td>0.742038</td>\n",
       "      <td>0.188908</td>\n",
       "      <td>0.383838</td>\n",
       "    </tr>\n",
       "  </tbody>\n",
       "</table>\n",
       "</div>"
      ],
      "text/plain": [
       "         Female      Male  Population\n",
       "Died   0.257962  0.811092    0.616162\n",
       "Lived  0.742038  0.188908    0.383838"
      ]
     },
     "execution_count": 5,
     "metadata": {},
     "output_type": "execute_result"
    },
    {
     "data": {
      "image/png": "[encoded data removed]",
      "text/plain": [
       "<matplotlib.figure.Figure at 0x1163c00f0>"
      ]
     },
     "metadata": {},
     "output_type": "display_data"
    }
   ],
   "source": [
    "sex_surv = freq2_store(titanic['Survived'],\n",
    "                       titanic['Sex'])[2].ix[['Died', 'Lived']]*100\n",
    "sex_surv.columns = ['Female', 'Male', 'Population']\n",
    "\n",
    "ez_bar(sex_surv.transpose(), 'Death & Survival Rates', '% of Total')\n",
    "\n",
    "sex_surv/100"
   ]
  },
  {
   "cell_type": "markdown",
   "metadata": {
    "deletable": true,
    "editable": true
   },
   "source": [
    "__Figure 1c:__ Frequency table & bar graph depicting passenger survival & death rates for both sexes and the overall population.\n",
    "\n",
    "_Notes: On whole, female passengers (74%) had more than 3x higher survival rates than male passengers (19%). Roughly, 3/4 of female passengers survived aboard the titanic, compared to only 1/5 of male passengers._"
   ]
  },
  {
   "cell_type": "code",
   "execution_count": 6,
   "metadata": {
    "collapsed": false,
    "deletable": true,
    "editable": true
   },
   "outputs": [
    {
     "data": {
      "text/html": [
       "<div>\n",
       "<table border=\"1\" class=\"dataframe\">\n",
       "  <thead>\n",
       "    <tr style=\"text-align: right;\">\n",
       "      <th></th>\n",
       "      <th>Died</th>\n",
       "      <th>Lived</th>\n",
       "      <th>Population</th>\n",
       "    </tr>\n",
       "  </thead>\n",
       "  <tbody>\n",
       "    <tr>\n",
       "      <th>Female</th>\n",
       "      <td>0.147541</td>\n",
       "      <td>0.681287</td>\n",
       "      <td>0.352413</td>\n",
       "    </tr>\n",
       "    <tr>\n",
       "      <th>Male</th>\n",
       "      <td>0.852459</td>\n",
       "      <td>0.318713</td>\n",
       "      <td>0.647587</td>\n",
       "    </tr>\n",
       "  </tbody>\n",
       "</table>\n",
       "</div>"
      ],
      "text/plain": [
       "            Died     Lived  Population\n",
       "Female  0.147541  0.681287    0.352413\n",
       "Male    0.852459  0.318713    0.647587"
      ]
     },
     "execution_count": 6,
     "metadata": {},
     "output_type": "execute_result"
    },
    {
     "data": {
      "image/png": "[encoded data removed]",
      "text/plain": [
       "<matplotlib.figure.Figure at 0x1164493c8>"
      ]
     },
     "metadata": {},
     "output_type": "display_data"
    }
   ],
   "source": [
    "#frq = freq2_store(titanic['Sex'],titanic['Survived'])[2].ix[:-1]\n",
    "\n",
    "sex_s = freq2_store(titanic['Survived'],\n",
    "                    titanic['Sex'])[1][['female','male']]*100\n",
    "sex_s.index = ['Died', 'Lived', 'Population'] \n",
    "sex_s.columns = ['Female','Male']\n",
    "\n",
    "ez_bar(sex_s, 'Distribution of Sexes', '% of Total')\n",
    "\n",
    "sex_s.transpose()/100"
   ]
  },
  {
   "cell_type": "markdown",
   "metadata": {
    "deletable": true,
    "editable": true
   },
   "source": [
    "__Figure 1d:__ Frequency table & bar graph depicting the percentage of each sex who died, survived, and traveled aboard the Titanic.\n",
    "\n",
    "_Notes: Male passengers represented 65% of passengers aboard the Titanic, and only 32% of the survivors.  Female passengers made up 35% of the population, but accounted for 68% of all surviving passengers._"
   ]
  },
  {
   "cell_type": "code",
   "execution_count": 7,
   "metadata": {
    "collapsed": false,
    "deletable": true,
    "editable": true
   },
   "outputs": [
    {
     "data": {
      "text/plain": [
       "<matplotlib.legend.Legend at 0x119900748>"
      ]
     },
     "execution_count": 7,
     "metadata": {},
     "output_type": "execute_result"
    },
    {
     "data": {
      "image/png": "[encoded data removed]",
      "text/plain": [
       "<matplotlib.figure.Figure at 0x116201cf8>"
      ]
     },
     "metadata": {},
     "output_type": "display_data"
    },
    {
     "data": {
      "image/png": "[encoded data removed]",
      "text/plain": [
       "<matplotlib.figure.Figure at 0x11632a588>"
      ]
     },
     "metadata": {},
     "output_type": "display_data"
    },
    {
     "data": {
      "image/png": "[encoded data removed]",
      "text/plain": [
       "<matplotlib.figure.Figure at 0x119900860>"
      ]
     },
     "metadata": {},
     "output_type": "display_data"
    }
   ],
   "source": [
    "ez_graph1(titanic['Sex'],titanic['Pclass'], titanic['Survived'],'1st', iVals=['Female', 'Male', 'Population'])\n",
    "ez_graph1(titanic['Sex'],titanic['Pclass'], titanic['Survived'],'2nd', iVals=['Female', 'Male', 'Population'])\n",
    "ez_graph1(titanic['Sex'],titanic['Pclass'], titanic['Survived'],'3rd', iVals=['Female', 'Male', 'Population'])"
   ]
  },
  {
   "cell_type": "markdown",
   "metadata": {
    "deletable": true,
    "editable": true
   },
   "source": [
    "<a id='1e'></a>\n",
    "__Figure 1e:__ Bar graphs depicting survival rates across each class for the sexes and general population. \n",
    "\n",
    "_Note: Female passengers had the highest survival rates in each class.  Male passengers faced low survival rates across all classes, however 1st  class male passengers were more than twice as likely to survive compared to those traveling in 2nd or 3rd class.  The data on class survival rates for the female population is also very interesting.  It shows that female passengers located in the 1st  (97%) and 2nd (92%) classes were almost certain to survive, while 3rd class travelers lost 50% of their population. The impact of class on survival will be explored further in [Section 3](#3)._"
   ]
  },
  {
   "cell_type": "markdown",
   "metadata": {
    "deletable": true,
    "editable": true
   },
   "source": [
    "### 1.3 Summary \n",
    "\n",
    "Female passengers were found to have higher survival rates across all measured categorizations of the data. Female passengers were also represented in the surviving group at nearly twice the rate they existed in the general population. This evidence strongly suggests that females were more likely than males to survived. Therefore, the conclusion of this analysis is that sex did play a role in survival aboard the Titanic. "
   ]
  },
  {
   "cell_type": "markdown",
   "metadata": {
    "collapsed": true,
    "deletable": true,
    "editable": true
   },
   "source": [
    "## 2. Did Passenger Age Impact Survival?"
   ]
  },
  {
   "cell_type": "markdown",
   "metadata": {
    "collapsed": true,
    "deletable": true,
    "editable": true
   },
   "source": [
    "### 2.1 Population Statisics"
   ]
  },
  {
   "cell_type": "code",
   "execution_count": 8,
   "metadata": {
    "collapsed": false,
    "deletable": true,
    "editable": true
   },
   "outputs": [
    {
     "data": {
      "text/plain": [
       "<matplotlib.text.Text at 0x119b83e10>"
      ]
     },
     "execution_count": 8,
     "metadata": {},
     "output_type": "execute_result"
    },
    {
     "data": {
      "image/png": "[encoded data removed]",
      "text/plain": [
       "<matplotlib.figure.Figure at 0x1198e76d8>"
      ]
     },
     "metadata": {},
     "output_type": "display_data"
    }
   ],
   "source": [
    "sns.boxplot(data=titanic['Age'])\n",
    "ylabel('Passenger Age')"
   ]
  },
  {
   "cell_type": "markdown",
   "metadata": {
    "deletable": true,
    "editable": true
   },
   "source": [
    "__Figure 2a:__ Box & whisker plot of Titanic passenger ages.  \n",
    "\n",
    "_Notes: The average age of passenger on the titanic was 30. Passenger's ages ranged from just under 6 months to 80 years old._"
   ]
  },
  {
   "cell_type": "code",
   "execution_count": 9,
   "metadata": {
    "collapsed": false,
    "deletable": true,
    "editable": true
   },
   "outputs": [
    {
     "data": {
      "text/html": [
       "<div>\n",
       "<table border=\"1\" class=\"dataframe\">\n",
       "  <thead>\n",
       "    <tr style=\"text-align: right;\">\n",
       "      <th></th>\n",
       "      <th>Female</th>\n",
       "      <th>Male</th>\n",
       "      <th>Population</th>\n",
       "    </tr>\n",
       "  </thead>\n",
       "  <tbody>\n",
       "    <tr>\n",
       "      <th>Child</th>\n",
       "      <td>0.175159</td>\n",
       "      <td>0.100520</td>\n",
       "      <td>0.126824</td>\n",
       "    </tr>\n",
       "    <tr>\n",
       "      <th>Adult</th>\n",
       "      <td>0.656051</td>\n",
       "      <td>0.684575</td>\n",
       "      <td>0.674523</td>\n",
       "    </tr>\n",
       "    <tr>\n",
       "      <th>Age Unknown</th>\n",
       "      <td>0.168790</td>\n",
       "      <td>0.214905</td>\n",
       "      <td>0.198653</td>\n",
       "    </tr>\n",
       "  </tbody>\n",
       "</table>\n",
       "</div>"
      ],
      "text/plain": [
       "               Female      Male  Population\n",
       "Child        0.175159  0.100520    0.126824\n",
       "Adult        0.656051  0.684575    0.674523\n",
       "Age Unknown  0.168790  0.214905    0.198653"
      ]
     },
     "execution_count": 9,
     "metadata": {},
     "output_type": "execute_result"
    },
    {
     "data": {
      "image/png": "[encoded data removed]",
      "text/plain": [
       "<matplotlib.figure.Figure at 0x119ce5630>"
      ]
     },
     "metadata": {},
     "output_type": "display_data"
    }
   ],
   "source": [
    "age_sex = freq2_store(titanic['age_group'], \n",
    "                      titanic['Sex'])[2].ix[['Child','Adult','Unknown'],['female','male','RowTotals']]*100\n",
    "\n",
    "age_sex.index = ['Child', 'Adult', 'Age Unknown']\n",
    "age_sex.columns = ['Female','Male', 'Population']\n",
    "\n",
    "ez_bar(age_sex.transpose(), 'Sex Distribution', '% of Total')\n",
    "\n",
    "age_sex/100"
   ]
  },
  {
   "cell_type": "markdown",
   "metadata": {
    "deletable": true,
    "editable": true
   },
   "source": [
    "__Figure 2b:__ Stacked bar graph depicting the percentage of each age group across the sexes and general population.\n",
    "\n",
    "_Notes: Adults (18+) made up 67% of the population, children (under 18) made up 13%, and 20% of the passenger's ages were unknown.  We know from the previous section that the majority of adults were male (66%) and that children were split more evenly between females (49%) and males (51%)._\n"
   ]
  },
  {
   "cell_type": "code",
   "execution_count": 10,
   "metadata": {
    "collapsed": false,
    "deletable": true,
    "editable": true
   },
   "outputs": [
    {
     "name": "stdout",
     "output_type": "stream",
     "text": [
      "Class Dsitribution\n"
     ]
    },
    {
     "data": {
      "text/html": [
       "<div>\n",
       "<table border=\"1\" class=\"dataframe\">\n",
       "  <thead>\n",
       "    <tr style=\"text-align: right;\">\n",
       "      <th></th>\n",
       "      <th>Child</th>\n",
       "      <th>Adult</th>\n",
       "      <th>Population</th>\n",
       "    </tr>\n",
       "  </thead>\n",
       "  <tbody>\n",
       "    <tr>\n",
       "      <th>1st</th>\n",
       "      <td>0.106195</td>\n",
       "      <td>0.289517</td>\n",
       "      <td>0.242424</td>\n",
       "    </tr>\n",
       "    <tr>\n",
       "      <th>2nd</th>\n",
       "      <td>0.203540</td>\n",
       "      <td>0.249584</td>\n",
       "      <td>0.206510</td>\n",
       "    </tr>\n",
       "    <tr>\n",
       "      <th>3rd</th>\n",
       "      <td>0.690265</td>\n",
       "      <td>0.460899</td>\n",
       "      <td>0.551066</td>\n",
       "    </tr>\n",
       "  </tbody>\n",
       "</table>\n",
       "</div>"
      ],
      "text/plain": [
       "        Child     Adult  Population\n",
       "1st  0.106195  0.289517    0.242424\n",
       "2nd  0.203540  0.249584    0.206510\n",
       "3rd  0.690265  0.460899    0.551066"
      ]
     },
     "execution_count": 10,
     "metadata": {},
     "output_type": "execute_result"
    },
    {
     "data": {
      "image/png": "[encoded data removed]",
      "text/plain": [
       "<matplotlib.figure.Figure at 0x119d73ba8>"
      ]
     },
     "metadata": {},
     "output_type": "display_data"
    }
   ],
   "source": [
    "age_cls = freq2_store(titanic['age_group'],\n",
    "                      titanic['Pclass'])[1].ix[[0,1,3],\n",
    "                                               ['1st', '2nd', '3rd']]*100\n",
    "age_cls.index = ['Child', 'Adult', 'Population']\n",
    "\n",
    "ez_bar(age_cls, 'Class Distribution', '% of Total')\n",
    "\n",
    "print('Class Dsitribution')\n",
    "\n",
    "age_cls.transpose()/100"
   ]
  },
  {
   "cell_type": "markdown",
   "metadata": {
    "deletable": true,
    "editable": true
   },
   "source": [
    "__Figure 2c:__ Frequency table and stacked bar graph depicting the class distribution of each age group and of the overall population.\n",
    "\n",
    "_Notes: The majority of adults and children traveled in 3rd class. There were more than twice as many children in 3rd class (69%) than in the 1st (11%) and 2nd (20%) classes combined. Adults were distributed across the classes in a pattern similar to the general population, with the majority in 3rd (46%) class followed by 1st (29%) and then 2nd (25%)._"
   ]
  },
  {
   "cell_type": "markdown",
   "metadata": {
    "deletable": true,
    "editable": true
   },
   "source": [
    "### 2.2 Survival Statistics"
   ]
  },
  {
   "cell_type": "code",
   "execution_count": 11,
   "metadata": {
    "collapsed": false,
    "deletable": true,
    "editable": true
   },
   "outputs": [
    {
     "name": "stdout",
     "output_type": "stream",
     "text": [
      "Death & Survival Rates\n"
     ]
    },
    {
     "data": {
      "text/html": [
       "<div>\n",
       "<table border=\"1\" class=\"dataframe\">\n",
       "  <thead>\n",
       "    <tr style=\"text-align: right;\">\n",
       "      <th></th>\n",
       "      <th>Child</th>\n",
       "      <th>Adult</th>\n",
       "      <th>Population</th>\n",
       "    </tr>\n",
       "  </thead>\n",
       "  <tbody>\n",
       "    <tr>\n",
       "      <th>Died</th>\n",
       "      <td>0.460177</td>\n",
       "      <td>0.618968</td>\n",
       "      <td>0.616162</td>\n",
       "    </tr>\n",
       "    <tr>\n",
       "      <th>Lived</th>\n",
       "      <td>0.539823</td>\n",
       "      <td>0.381032</td>\n",
       "      <td>0.383838</td>\n",
       "    </tr>\n",
       "  </tbody>\n",
       "</table>\n",
       "</div>"
      ],
      "text/plain": [
       "          Child     Adult  Population\n",
       "Died   0.460177  0.618968    0.616162\n",
       "Lived  0.539823  0.381032    0.383838"
      ]
     },
     "execution_count": 11,
     "metadata": {},
     "output_type": "execute_result"
    }
   ],
   "source": [
    "age_surv = freq2_store(titanic['Survived'], titanic['age_group'])\n",
    "pt = age_surv[2].ix[['Died','Lived'],['Child','Adult','RowTotals']]\n",
    "pt.columns = ['Child', 'Adult', 'Population']\n",
    "print('Death & Survival Rates')\n",
    "pt"
   ]
  },
  {
   "cell_type": "code",
   "execution_count": 12,
   "metadata": {
    "collapsed": false,
    "deletable": true,
    "editable": true
   },
   "outputs": [
    {
     "name": "stdout",
     "output_type": "stream",
     "text": [
      "Age Group Distributions\n"
     ]
    },
    {
     "data": {
      "text/html": [
       "<div>\n",
       "<table border=\"1\" class=\"dataframe\">\n",
       "  <thead>\n",
       "    <tr style=\"text-align: right;\">\n",
       "      <th></th>\n",
       "      <th>Died</th>\n",
       "      <th>Lived</th>\n",
       "      <th>Population</th>\n",
       "    </tr>\n",
       "  </thead>\n",
       "  <tbody>\n",
       "    <tr>\n",
       "      <th>Child</th>\n",
       "      <td>0.094718</td>\n",
       "      <td>0.178363</td>\n",
       "      <td>0.126824</td>\n",
       "    </tr>\n",
       "    <tr>\n",
       "      <th>Adult</th>\n",
       "      <td>0.677596</td>\n",
       "      <td>0.669591</td>\n",
       "      <td>0.674523</td>\n",
       "    </tr>\n",
       "    <tr>\n",
       "      <th>Unknown</th>\n",
       "      <td>0.227687</td>\n",
       "      <td>0.152047</td>\n",
       "      <td>0.198653</td>\n",
       "    </tr>\n",
       "  </tbody>\n",
       "</table>\n",
       "</div>"
      ],
      "text/plain": [
       "             Died     Lived  Population\n",
       "Child    0.094718  0.178363    0.126824\n",
       "Adult    0.677596  0.669591    0.674523\n",
       "Unknown  0.227687  0.152047    0.198653"
      ]
     },
     "execution_count": 12,
     "metadata": {},
     "output_type": "execute_result"
    }
   ],
   "source": [
    "ag =age_surv[1][['Child', 'Adult', 'Unknown']].transpose()\n",
    "ag.columns = ['Died','Lived','Population']\n",
    "print('Age Group Distributions')\n",
    "ag"
   ]
  },
  {
   "cell_type": "markdown",
   "metadata": {
    "deletable": true,
    "editable": true
   },
   "source": [
    "__Figure 2d:__ Frequency tables depicting (1) death and survival rates for each age group and (2) distribution of age groups across dead & surviving passengers. Population statistics were added to each table for comparison.\n",
    "\n",
    "_Notes: On average, children had higher survival rates (54%) than adults (38%). Surviving passengers were made up of 18% children, 67% adults, and 15% of an unknown age. Adults were represented in both the dead and surviving passengers at approximately the same rate as they existed in the general population. (~67%) Children were overrepresented in the surviving group (~5%) and underrepresented in the dead. (~3%)"
   ]
  },
  {
   "cell_type": "code",
   "execution_count": 13,
   "metadata": {
    "collapsed": false,
    "deletable": true,
    "editable": true,
    "scrolled": false
   },
   "outputs": [
    {
     "data": {
      "text/plain": [
       "<matplotlib.legend.Legend at 0x11a1e58d0>"
      ]
     },
     "execution_count": 13,
     "metadata": {},
     "output_type": "execute_result"
    },
    {
     "data": {
      "image/png": "[encoded data removed]",
      "text/plain": [
       "<matplotlib.figure.Figure at 0x119fd7588>"
      ]
     },
     "metadata": {},
     "output_type": "display_data"
    },
    {
     "data": {
      "image/png": "[encoded data removed]",
      "text/plain": [
       "<matplotlib.figure.Figure at 0x11a141780>"
      ]
     },
     "metadata": {},
     "output_type": "display_data"
    },
    {
     "data": {
      "image/png": "[encoded data removed]",
      "text/plain": [
       "<matplotlib.figure.Figure at 0x11a1e5208>"
      ]
     },
     "metadata": {},
     "output_type": "display_data"
    }
   ],
   "source": [
    "#create tables\n",
    "tab = freq3_store(titanic['Survived'],titanic['Pclass'], titanic['age_group'])[1]\n",
    "tot_by_class = freq2_store(titanic['Survived'], titanic['Pclass'])[2].ix[['Died', 'Lived'],['1st', '2nd', '3rd']]\n",
    "#1st class\n",
    "tab_1st = tab['1st'].ix[['Died','Lived'],['Child','Adult']]*100\n",
    "tab_1st.index.name = None\n",
    "tab_1st.columns.name = None\n",
    "tab_1st['Population'] = tot_by_class['1st']*100\n",
    "\n",
    "#2nd class\n",
    "tab_2nd = tab['2nd'].ix[['Died','Lived'],['Child','Adult']]*100\n",
    "tab_2nd.index.name = None\n",
    "tab_2nd.columns.name = None \n",
    "tab_2nd['Population'] = tot_by_class['2nd']*100\n",
    "\n",
    "#3rd class\n",
    "tab_3rd = tab['3rd'].ix[['Died','Lived'],['Child','Adult']]*100\n",
    "tab_3rd.index.name = None\n",
    "tab_3rd.columns.name = None\n",
    "tab_3rd['Population'] = tot_by_class['3rd']*100\n",
    "\n",
    "#stacked bar graphs\n",
    "ez_bar(tab_1st.transpose(), '1st Class Death & Survival Rates', '% of Total')\n",
    "ez_bar(tab_2nd.transpose(), '2nd Class Death & Survival Rates', '% of Total')\n",
    "ez_bar(tab_3rd.transpose(), '3rd Class Death & Survival Rates', '% of Total')"
   ]
  },
  {
   "cell_type": "markdown",
   "metadata": {
    "deletable": true,
    "editable": true
   },
   "source": [
    "__Figure 2e:__ Stacked bar graphs displaying death and survival rates by class for each age group and population.\n",
    "\n",
    "_Notes: Children had the highest rates of survival in each class. The largest gap in survival statistics between age groups was found in the upper classes, where adults were more than 4 times as likely to die.  The lowest rates of survival for both adults and children existed in 3rd class.  Interestingly, the same pattern emerges for children as seen previously with female passengers.  Children traveling in the upper classes had a ~91% rate of survival, while those traveling in 3rd class experienced a significantly lower survival rate of 37%.  The impact of class will be explored further in section 3._\n"
   ]
  },
  {
   "cell_type": "code",
   "execution_count": 14,
   "metadata": {
    "collapsed": false,
    "deletable": true,
    "editable": true,
    "scrolled": false
   },
   "outputs": [
    {
     "data": {
      "text/plain": [
       "<matplotlib.legend.Legend at 0x119d8c4e0>"
      ]
     },
     "execution_count": 14,
     "metadata": {},
     "output_type": "execute_result"
    },
    {
     "data": {
      "image/png": "[encoded data removed]",
      "text/plain": [
       "<matplotlib.figure.Figure at 0x119f845c0>"
      ]
     },
     "metadata": {},
     "output_type": "display_data"
    },
    {
     "data": {
      "image/png": "[encoded data removed]",
      "text/plain": [
       "<matplotlib.figure.Figure at 0x119d8c828>"
      ]
     },
     "metadata": {},
     "output_type": "display_data"
    }
   ],
   "source": [
    "age_sex_surv = freq3_store(titanic['Survived'], \n",
    "                           titanic['age_group'], titanic['Sex'])\n",
    "\n",
    "fem_ch = age_sex_surv[1]['Child'].ix[['Died', 'Lived'], ['female']]\n",
    "fem_a = age_sex_surv[1]['Adult'].ix[['Died', 'Lived'], ['female']]\n",
    "fem_total = freq2_store(titanic['Survived'],\n",
    "                        titanic['Sex'])[2].ix[['Died', 'Lived'], ['female']]\n",
    "\n",
    "fem_surv = pd.concat([fem_ch, fem_a, fem_total], axis=1)*100\n",
    "fem_surv.columns = ['Child', 'Adult', 'Population']\n",
    "fem_surv.index.name = None\n",
    "\n",
    "ez_bar(fem_surv.transpose(), 'Female Death & Survival Rates', '% of Total')\n",
    "\n",
    "'----------------------------------------------'\n",
    "\n",
    "male_ch = age_sex_surv[1]['Child'].ix[['Died', 'Lived'], ['male']]\n",
    "male_a = age_sex_surv[1]['Adult'].ix[['Died', 'Lived'], ['male']]\n",
    "male_total = freq2_store(titanic['Survived'],\n",
    "                        titanic['Sex'])[2].ix[['Died', 'Lived'], ['male']]\n",
    "\n",
    "mal_surv = pd.concat([male_ch, male_a, male_total], axis=1)*100\n",
    "mal_surv.columns = ['Child', 'Adult', 'Population']\n",
    "mal_surv.index.name = None\n",
    "\n",
    "ez_bar(mal_surv.transpose(), 'Male Survival & Death Rates', '% of Total')"
   ]
  },
  {
   "cell_type": "markdown",
   "metadata": {
    "deletable": true,
    "editable": true
   },
   "source": [
    "<a id='2f'></a>\n",
    "__Figure 2f:__ Stacked bar graphs depicting male and female survival rates within each age group.  The survival & death rates for each population have also been included for comparison. \n",
    "\n",
    "_Notes: The data on the male population shows that children (40%) had higher survival rates than adults (18%), which is consistent with the previous findings in this analysis. Surprisingly, the data from the female population breaks this trend and provides the first example of adults (77%) with higher survival rates than children (69%).  This will be explored further below. _"
   ]
  },
  {
   "cell_type": "code",
   "execution_count": 15,
   "metadata": {
    "collapsed": false,
    "deletable": true,
    "editable": true,
    "scrolled": false
   },
   "outputs": [
    {
     "data": {
      "image/png": "[encoded data removed]",
      "text/plain": [
       "<matplotlib.figure.Figure at 0x119f750f0>"
      ]
     },
     "metadata": {},
     "output_type": "display_data"
    },
    {
     "data": {
      "image/png": "[encoded data removed]",
      "text/plain": [
       "<matplotlib.figure.Figure at 0x116480d30>"
      ]
     },
     "metadata": {},
     "output_type": "display_data"
    },
    {
     "data": {
      "image/png": "[encoded data removed]",
      "text/plain": [
       "<matplotlib.figure.Figure at 0x119d86ef0>"
      ]
     },
     "metadata": {},
     "output_type": "display_data"
    },
    {
     "data": {
      "image/png": "[encoded data removed]",
      "text/plain": [
       "<matplotlib.figure.Figure at 0x11a4fc2b0>"
      ]
     },
     "metadata": {},
     "output_type": "display_data"
    },
    {
     "data": {
      "image/png": "[encoded data removed]",
      "text/plain": [
       "<matplotlib.figure.Figure at 0x11a5a2550>"
      ]
     },
     "metadata": {},
     "output_type": "display_data"
    },
    {
     "data": {
      "image/png": "[encoded data removed]",
      "text/plain": [
       "<matplotlib.figure.Figure at 0x11a63db00>"
      ]
     },
     "metadata": {},
     "output_type": "display_data"
    }
   ],
   "source": [
    "data = freq4_store(titanic['Survived'],titanic['Pclass'],titanic['Sex'], titanic['age_group'])[1]\n",
    "data_totals = freq3_store(titanic['Survived'], titanic['Pclass'], titanic['Sex'])[1]\n",
    "\n",
    "for sex in ['female', 'male']:\n",
    "    for val in ['1st','2nd','3rd']:\n",
    "        #create data table\n",
    "        table = data[val][sex].ix[['Died', 'Lived'],['Child', 'Adult']]\n",
    "        table['Population'] = data_totals[val][sex]\n",
    "        table.index.name = None\n",
    "        table.columns.name = None\n",
    "        table*100\n",
    "        \n",
    "        graph = ez_bar(table.transpose(), '{} Class, {} Death & Survival Rates'.format(val.capitalize(), \n",
    "                                                                               sex.capitalize()), '% of Total')\n",
    "        "
   ]
  },
  {
   "cell_type": "markdown",
   "metadata": {
    "deletable": true,
    "editable": true
   },
   "source": [
    "<a id='2g'></a>\n",
    "__Figure 2g:__ Bar graphs of death & survival rates for age groups within each class/sex grouping.  The death and survival rates for each class/sex population are also included.\n",
    "\n",
    "_Note: The data shows children had the highest rates of survival in each sex/class population, with the exception of 1st class, female passengers. Figure 2f revealed that on average, female adults had higher survival rates than female children. However, we now see that this only occurred within the 1st class population._\n",
    "\n",
    "_The numbers also show that children and adults traveling in 3rd class had the lowest rates of survival, with the exception of adult males. Adult male passengers traveling in 2nd class had lower survival rates than those in 3rd class, which expands on the findings concerning male averages in [Figure 1e](#1e)._\n",
    "\n"
   ]
  },
  {
   "cell_type": "code",
   "execution_count": 16,
   "metadata": {
    "collapsed": false,
    "deletable": true,
    "editable": true
   },
   "outputs": [
    {
     "data": {
      "text/html": [
       "<div>\n",
       "<table border=\"1\" class=\"dataframe\">\n",
       "  <thead>\n",
       "    <tr style=\"text-align: right;\">\n",
       "      <th></th>\n",
       "      <th>Child</th>\n",
       "      <th>% of Children</th>\n",
       "      <th>Adult</th>\n",
       "      <th>% of Adults</th>\n",
       "    </tr>\n",
       "  </thead>\n",
       "  <tbody>\n",
       "    <tr>\n",
       "      <th>1st</th>\n",
       "      <td>8</td>\n",
       "      <td>0.145455</td>\n",
       "      <td>77</td>\n",
       "      <td>0.373786</td>\n",
       "    </tr>\n",
       "    <tr>\n",
       "      <th>2nd</th>\n",
       "      <td>12</td>\n",
       "      <td>0.218182</td>\n",
       "      <td>62</td>\n",
       "      <td>0.300971</td>\n",
       "    </tr>\n",
       "    <tr>\n",
       "      <th>3rd</th>\n",
       "      <td>35</td>\n",
       "      <td>0.636364</td>\n",
       "      <td>67</td>\n",
       "      <td>0.325243</td>\n",
       "    </tr>\n",
       "    <tr>\n",
       "      <th>All</th>\n",
       "      <td>55</td>\n",
       "      <td>1.000000</td>\n",
       "      <td>206</td>\n",
       "      <td>1.000000</td>\n",
       "    </tr>\n",
       "  </tbody>\n",
       "</table>\n",
       "</div>"
      ],
      "text/plain": [
       "     Child  % of Children  Adult  % of Adults\n",
       "1st      8       0.145455     77     0.373786\n",
       "2nd     12       0.218182     62     0.300971\n",
       "3rd     35       0.636364     67     0.325243\n",
       "All     55       1.000000    206     1.000000"
      ]
     },
     "execution_count": 16,
     "metadata": {},
     "output_type": "execute_result"
    }
   ],
   "source": [
    "data = freq3_store(titanic['Pclass'],\n",
    "            titanic['Sex'],titanic['age_group'])\n",
    "\n",
    "counts = data[0]['female'].ix[['1st', '2nd', '3rd', 'All'], ['Child', 'Adult']]\n",
    "perc = data[1]['female'].ix[['1st', '2nd', '3rd', 'All'], ['Child', 'Adult']]\n",
    "\n",
    "perc.columns = ['% of Children', '% of Adults']\n",
    "\n",
    "table = pd.concat((counts['Child'], perc['% of Children'], counts['Adult'], perc['% of Adults']), axis=1)\n",
    "table.index.name = None\n",
    "\n",
    "table"
   ]
  },
  {
   "cell_type": "code",
   "execution_count": 17,
   "metadata": {
    "collapsed": false,
    "deletable": true,
    "editable": true
   },
   "outputs": [
    {
     "data": {
      "text/html": [
       "<div>\n",
       "<table border=\"1\" class=\"dataframe\">\n",
       "  <thead>\n",
       "    <tr style=\"text-align: right;\">\n",
       "      <th></th>\n",
       "      <th>Child Deaths</th>\n",
       "      <th>Death Rate</th>\n",
       "      <th>Adult Deaths</th>\n",
       "      <th>Death Rate</th>\n",
       "    </tr>\n",
       "    <tr>\n",
       "      <th>Pclass</th>\n",
       "      <th></th>\n",
       "      <th></th>\n",
       "      <th></th>\n",
       "      <th></th>\n",
       "    </tr>\n",
       "  </thead>\n",
       "  <tbody>\n",
       "    <tr>\n",
       "      <th>1st</th>\n",
       "      <td>1</td>\n",
       "      <td>0.125000</td>\n",
       "      <td>2</td>\n",
       "      <td>0.025974</td>\n",
       "    </tr>\n",
       "    <tr>\n",
       "      <th>2nd</th>\n",
       "      <td>0</td>\n",
       "      <td>0.000000</td>\n",
       "      <td>6</td>\n",
       "      <td>0.096774</td>\n",
       "    </tr>\n",
       "    <tr>\n",
       "      <th>3rd</th>\n",
       "      <td>16</td>\n",
       "      <td>0.457143</td>\n",
       "      <td>39</td>\n",
       "      <td>0.582090</td>\n",
       "    </tr>\n",
       "    <tr>\n",
       "      <th>All</th>\n",
       "      <td>17</td>\n",
       "      <td>0.309091</td>\n",
       "      <td>47</td>\n",
       "      <td>0.228155</td>\n",
       "    </tr>\n",
       "  </tbody>\n",
       "</table>\n",
       "</div>"
      ],
      "text/plain": [
       "        Child Deaths  Death Rate  Adult Deaths  Death Rate\n",
       "Pclass                                                    \n",
       "1st                1    0.125000             2    0.025974\n",
       "2nd                0    0.000000             6    0.096774\n",
       "3rd               16    0.457143            39    0.582090\n",
       "All               17    0.309091            47    0.228155"
      ]
     },
     "execution_count": 17,
     "metadata": {},
     "output_type": "execute_result"
    }
   ],
   "source": [
    "fem_data = freq4_store(titanic['Pclass'], \n",
    "                       titanic['Sex'], titanic['Survived'], \n",
    "                       titanic['age_group'])[0]['female']\n",
    "\n",
    "child = fem_data['Died']['Child']\n",
    "child_death = child / table['Child']\n",
    "\n",
    "adult = fem_data['Died']['Adult']\n",
    "adult_death = adult / table['Adult']\n",
    "\n",
    "ftable = pd.concat((child, child_death, adult, adult_death), axis=1)\n",
    "ftable.columns = ['Child Deaths', 'Death Rate', 'Adult Deaths', 'Death Rate']\n",
    "\n",
    "ftable"
   ]
  },
  {
   "cell_type": "markdown",
   "metadata": {
    "deletable": true,
    "editable": true
   },
   "source": [
    "__Figure 2h:__ (1) Frequency table depicting the class distribution of female adults and children.  Values have been listed in counts and as a percent of the total. (2) Frequency table depicting the number of dead passengers and overall death rates of female adults and children in each class.\n",
    "\n",
    "_Note:_ There were almost 4 times as many female adults as children aboard the Titanic. Adult females in first class outnumbered children at nearly 10 to 1.  This explains the higher adult female survival rates seen in [Figure 2g](#2g). With only 8 total female children in first class, a single death dropped the overall survival rate by 13%. While 2 deaths out of 77 total adults decreased the survival rate by only 3%.\n",
    "\n",
    "Female adults were spread fairly even across each class, while children were primarily located in 3rd class. Females traveling in 3rd class from both age groups experienced the highest death rates by a wide margin. The numbers show that 67% of the overall survival rate for adult females was calculated based on 1st & 2nd class survival rates (+90%), while 63% of the overall children’s survival rate was calculated on 3rd class survival rates (54%). These differences in population distributions and the lopsided survival rates explain why we saw higher survival rates for adult females in [Figure 2f](#2f)._ \n"
   ]
  },
  {
   "cell_type": "markdown",
   "metadata": {
    "deletable": true,
    "editable": true
   },
   "source": [
    "### 2.3 Summary\n",
    "\n",
    "On average, passengers under the age of 18 were more likely to survive than adults (18+). Children represented 18% of survivors, while only representing 13% of the population.  Children experienced higher survival rates across each sub-division of the population, with the exception of one.  Upon further examination, the exception can be traced to a small sample size and lurking variable (i.e. class). The conclusion of these findings are that passengers under the age of 18 (i.e. children) were more likely to survive aboard the Titanic."
   ]
  },
  {
   "cell_type": "markdown",
   "metadata": {
    "deletable": true,
    "editable": true
   },
   "source": [
    "<a id='3'></a>\n",
    "## 3. Did Passenger Class Impact Survival?"
   ]
  },
  {
   "cell_type": "markdown",
   "metadata": {
    "deletable": true,
    "editable": true
   },
   "source": [
    "### 3.1 Population Statistics"
   ]
  },
  {
   "cell_type": "code",
   "execution_count": 18,
   "metadata": {
    "collapsed": false,
    "deletable": true,
    "editable": true
   },
   "outputs": [
    {
     "name": "stdout",
     "output_type": "stream",
     "text": [
      "\n",
      " Titanic Class Distribution\n"
     ]
    },
    {
     "data": {
      "text/html": [
       "<div>\n",
       "<table border=\"1\" class=\"dataframe\">\n",
       "  <thead>\n",
       "    <tr style=\"text-align: right;\">\n",
       "      <th>col_0</th>\n",
       "      <th>Count</th>\n",
       "    </tr>\n",
       "  </thead>\n",
       "  <tbody>\n",
       "    <tr>\n",
       "      <th>1st</th>\n",
       "      <td>0.242424</td>\n",
       "    </tr>\n",
       "    <tr>\n",
       "      <th>2nd</th>\n",
       "      <td>0.206510</td>\n",
       "    </tr>\n",
       "    <tr>\n",
       "      <th>3rd</th>\n",
       "      <td>0.551066</td>\n",
       "    </tr>\n",
       "  </tbody>\n",
       "</table>\n",
       "</div>"
      ],
      "text/plain": [
       "col_0     Count\n",
       "1st    0.242424\n",
       "2nd    0.206510\n",
       "3rd    0.551066"
      ]
     },
     "execution_count": 18,
     "metadata": {},
     "output_type": "execute_result"
    }
   ],
   "source": [
    "tab_class = freq1_store(titanic['Pclass'])[1].ix[['1st','2nd','3rd'], ['Count']]\n",
    "\n",
    "tab_class.index.name = None\n",
    "\n",
    "print('\\n Titanic Class Distribution')\n",
    "tab_class"
   ]
  },
  {
   "cell_type": "markdown",
   "metadata": {
    "deletable": true,
    "editable": true
   },
   "source": [
    "__Figure 3a:__ Frequency table displaying percentage of population located within each class. \n",
    "\n",
    "_Note: Passengers aboard the titanic were separated into 3 classes. The majority of passengers traveled in 3rd class (55%) followed by 1st (24%) and 2nd (21%). Previously, we saw that 3rd class also contained the largest proportion of men (60%), women (46%), children (69%) and adults (46%)._"
   ]
  },
  {
   "cell_type": "markdown",
   "metadata": {
    "deletable": true,
    "editable": true
   },
   "source": [
    "### 3.2 Survival Statistics"
   ]
  },
  {
   "cell_type": "code",
   "execution_count": 19,
   "metadata": {
    "collapsed": false,
    "deletable": true,
    "editable": true
   },
   "outputs": [
    {
     "data": {
      "text/html": [
       "<div>\n",
       "<table border=\"1\" class=\"dataframe\">\n",
       "  <thead>\n",
       "    <tr style=\"text-align: right;\">\n",
       "      <th></th>\n",
       "      <th>Died</th>\n",
       "      <th>Lived</th>\n",
       "      <th>Population</th>\n",
       "    </tr>\n",
       "  </thead>\n",
       "  <tbody>\n",
       "    <tr>\n",
       "      <th>1st</th>\n",
       "      <td>14.571949</td>\n",
       "      <td>39.766082</td>\n",
       "      <td>24.242424</td>\n",
       "    </tr>\n",
       "    <tr>\n",
       "      <th>2nd</th>\n",
       "      <td>17.668488</td>\n",
       "      <td>25.438596</td>\n",
       "      <td>20.650954</td>\n",
       "    </tr>\n",
       "    <tr>\n",
       "      <th>3rd</th>\n",
       "      <td>67.759563</td>\n",
       "      <td>34.795322</td>\n",
       "      <td>55.106622</td>\n",
       "    </tr>\n",
       "  </tbody>\n",
       "</table>\n",
       "</div>"
      ],
      "text/plain": [
       "          Died      Lived  Population\n",
       "1st  14.571949  39.766082   24.242424\n",
       "2nd  17.668488  25.438596   20.650954\n",
       "3rd  67.759563  34.795322   55.106622"
      ]
     },
     "execution_count": 19,
     "metadata": {},
     "output_type": "execute_result"
    },
    {
     "data": {
      "image/png": "[encoded data removed]",
      "text/plain": [
       "<matplotlib.figure.Figure at 0x11a635470>"
      ]
     },
     "metadata": {},
     "output_type": "display_data"
    }
   ],
   "source": [
    "graph_data = (freq2_store(titanic['Survived'],titanic['Pclass'])\n",
    "              [1][['1st', '2nd', '3rd']])*100\n",
    "\n",
    "graph_data.index = ['Died', 'Lived', 'Population']\n",
    "\n",
    "ez_bar(graph_data, 'Class Distribution', '% of total')\n",
    "\n",
    "graph_data.transpose()"
   ]
  },
  {
   "cell_type": "markdown",
   "metadata": {
    "deletable": true,
    "editable": true
   },
   "source": [
    "__Figure 3b:__ Frequency table & bar graph showing class distribution within the dead & surviving populations. The class breakdown for the entire population has been included for comparison. \n",
    "\n",
    "_Note: The majority of passengers who died aboard the titanic were traveling in 3rd class (68%). When comparing the dead & surviving passenger distributions to the population we see that 3rd class passengers accounted for a larger portion of the dead (+13%) and a smaller portion of the living (-20%). 1st and 2nd class followed the exact opposite pattern, accounting for less of the dead (-9%, -3%) and more of the survivors. (+16%, +4%)_\n"
   ]
  },
  {
   "cell_type": "code",
   "execution_count": 20,
   "metadata": {
    "collapsed": false,
    "deletable": true,
    "editable": true
   },
   "outputs": [
    {
     "data": {
      "text/html": [
       "<div>\n",
       "<table border=\"1\" class=\"dataframe\">\n",
       "  <thead>\n",
       "    <tr style=\"text-align: right;\">\n",
       "      <th></th>\n",
       "      <th>1st</th>\n",
       "      <th>2nd</th>\n",
       "      <th>3rd</th>\n",
       "      <th>Population</th>\n",
       "    </tr>\n",
       "  </thead>\n",
       "  <tbody>\n",
       "    <tr>\n",
       "      <th>Died</th>\n",
       "      <td>0.37037</td>\n",
       "      <td>0.527174</td>\n",
       "      <td>0.757637</td>\n",
       "      <td>0.616162</td>\n",
       "    </tr>\n",
       "    <tr>\n",
       "      <th>Lived</th>\n",
       "      <td>0.62963</td>\n",
       "      <td>0.472826</td>\n",
       "      <td>0.242363</td>\n",
       "      <td>0.383838</td>\n",
       "    </tr>\n",
       "  </tbody>\n",
       "</table>\n",
       "</div>"
      ],
      "text/plain": [
       "           1st       2nd       3rd  Population\n",
       "Died   0.37037  0.527174  0.757637    0.616162\n",
       "Lived  0.62963  0.472826  0.242363    0.383838"
      ]
     },
     "execution_count": 20,
     "metadata": {},
     "output_type": "execute_result"
    },
    {
     "data": {
      "image/png": "[encoded data removed]",
      "text/plain": [
       "<matplotlib.figure.Figure at 0x11a4c3908>"
      ]
     },
     "metadata": {},
     "output_type": "display_data"
    }
   ],
   "source": [
    "tb = freq2_store(titanic['Pclass'], \n",
    "                 titanic['Survived'])[1][['Died','Lived']]*100\n",
    "tb.index = ['1st', '2nd', '3rd', 'Population']\n",
    "\n",
    "ez_bar(tb,'Death & Survival Rates', '% of total')\n",
    "\n",
    "tb.transpose()/100"
   ]
  },
  {
   "cell_type": "markdown",
   "metadata": {
    "deletable": true,
    "editable": true
   },
   "source": [
    "__Figure 3c:__ Frequency table & bar graph depicting death & survival rates for each class and the overall population.\n",
    "\n",
    "_Note: Passengers traveling in 1st class were most likely to survive (63%) and passengers traveling 3rd class were least likely to survive (24%). Death rates for 3rd class passengers (76%) were slightly more than double that of 1st class passengers (37%). A familiar trend appears when comparing class rates against the population, 3rd class passengers have lower survival and higher death rates, while 1st and 2nd class passengers experience the opposite._"
   ]
  },
  {
   "cell_type": "code",
   "execution_count": 21,
   "metadata": {
    "collapsed": false,
    "deletable": true,
    "editable": true,
    "scrolled": false
   },
   "outputs": [
    {
     "data": {
      "text/plain": [
       "<matplotlib.legend.Legend at 0x11a55a198>"
      ]
     },
     "execution_count": 21,
     "metadata": {},
     "output_type": "execute_result"
    },
    {
     "data": {
      "image/png": "[encoded data removed]",
      "text/plain": [
       "<matplotlib.figure.Figure at 0x11a2129e8>"
      ]
     },
     "metadata": {},
     "output_type": "display_data"
    },
    {
     "data": {
      "image/png": "[encoded data removed]",
      "text/plain": [
       "<matplotlib.figure.Figure at 0x11a5a2470>"
      ]
     },
     "metadata": {},
     "output_type": "display_data"
    },
    {
     "data": {
      "image/png": "[encoded data removed]",
      "text/plain": [
       "<matplotlib.figure.Figure at 0x11a217f28>"
      ]
     },
     "metadata": {},
     "output_type": "display_data"
    },
    {
     "data": {
      "image/png": "[encoded data removed]",
      "text/plain": [
       "<matplotlib.figure.Figure at 0x119771f28>"
      ]
     },
     "metadata": {},
     "output_type": "display_data"
    }
   ],
   "source": [
    "ez_graph3(titanic['Survived'], \n",
    "         titanic['age_group'],titanic['Pclass'], \n",
    "         'Child', 'Child Survival & Death Rates')\n",
    "\n",
    "ez_graph3(titanic['Survived'], \n",
    "          titanic['Sex'],titanic['Pclass'], \n",
    "          'female', 'Female Survival & Death Rates')\n",
    "\n",
    "ez_graph3(titanic['Survived'], \n",
    "         titanic['age_group'],titanic['Pclass'], \n",
    "         'Adult', 'Adult Survival & Death Rates')\n",
    "\n",
    "ez_graph3(titanic['Survived'], \n",
    "         titanic['Sex'],titanic['Pclass'], \n",
    "         'male', 'Male Survival & Death Rates')\n",
    "\n",
    "\n"
   ]
  },
  {
   "cell_type": "markdown",
   "metadata": {
    "deletable": true,
    "editable": true
   },
   "source": [
    "<a id='3d'></a> \n",
    "__Figure 3d:__ Bar graphs depicting death and survival rates across classes within each sex and age group. The population rates for each sex and age group were also added for comparison. \n",
    "\n",
    "_Note: Again we see that 3rd class passengers experienced the lowest survival rates across each sex and age groups.  The largest imblance is found within children, who survived at rates of 92% (1st) and 91%(2nd) in the upper classes and just 37% in 3rd class.  A similar trend is seen in the female population, with 1st and 2nd class survival rates of 97% & 92%, respectively, compared to only 50% in 3rd class. Adult data followed suit, with survival rates of 64% in 1st class, 41% in 2nd, and 20% in 3rd.  Interestingly, the male passenger data slighty deviated from this pattern. The highest survival rates still belonged to 1st class passengers (37%), however the survival rates for 2nd class (16%) were nearly as low as 3rd class (14%).__  "
   ]
  },
  {
   "cell_type": "code",
   "execution_count": 22,
   "metadata": {
    "collapsed": false,
    "deletable": true,
    "editable": true
   },
   "outputs": [
    {
     "data": {
      "text/plain": [
       "(            Died     Lived  Population\n",
       " Pclass                                \n",
       " 1st     0.169355  0.484716    0.289517\n",
       " 2nd     0.236559  0.270742    0.249584\n",
       " 3rd     0.594086  0.244541    0.460899,\n",
       " <matplotlib.legend.Legend at 0x119b88cf8>)"
      ]
     },
     "execution_count": 22,
     "metadata": {},
     "output_type": "execute_result"
    },
    {
     "data": {
      "image/png": "[encoded data removed]",
      "text/plain": [
       "<matplotlib.figure.Figure at 0x1164b7c88>"
      ]
     },
     "metadata": {},
     "output_type": "display_data"
    }
   ],
   "source": [
    "ez_graph2(titanic['Pclass'], \n",
    "          titanic['age_group'], titanic['Survived'],\n",
    "         'Adult', 'Adult Class Distribution')"
   ]
  },
  {
   "cell_type": "code",
   "execution_count": 23,
   "metadata": {
    "collapsed": false,
    "deletable": true,
    "editable": true
   },
   "outputs": [
    {
     "data": {
      "text/plain": [
       "(            Died     Lived  Population\n",
       " Pclass                                \n",
       " 1st     0.019231  0.180328    0.106195\n",
       " 2nd     0.038462  0.344262    0.203540\n",
       " 3rd     0.942308  0.475410    0.690265,\n",
       " <matplotlib.legend.Legend at 0x11a0d12e8>)"
      ]
     },
     "execution_count": 23,
     "metadata": {},
     "output_type": "execute_result"
    },
    {
     "data": {
      "image/png": "[encoded data removed]",
      "text/plain": [
       "<matplotlib.figure.Figure at 0x11a28b780>"
      ]
     },
     "metadata": {},
     "output_type": "display_data"
    }
   ],
   "source": [
    "ez_graph2(titanic['Pclass'], \n",
    "          titanic['age_group'], titanic['Survived'],\n",
    "         'Child', 'Child Class Distribution')"
   ]
  },
  {
   "cell_type": "code",
   "execution_count": 24,
   "metadata": {
    "collapsed": false,
    "deletable": true,
    "editable": true,
    "scrolled": false
   },
   "outputs": [
    {
     "data": {
      "text/plain": [
       "(            Died     Lived  Population\n",
       " Pclass                                \n",
       " 1st     0.164530  0.412844    0.211438\n",
       " 2nd     0.194444  0.155963    0.187175\n",
       " 3rd     0.641026  0.431193    0.601386,\n",
       " <matplotlib.legend.Legend at 0x119dbc320>)"
      ]
     },
     "execution_count": 24,
     "metadata": {},
     "output_type": "execute_result"
    },
    {
     "data": {
      "image/png": "[encoded data removed]",
      "text/plain": [
       "<matplotlib.figure.Figure at 0x119fa3a58>"
      ]
     },
     "metadata": {},
     "output_type": "display_data"
    }
   ],
   "source": [
    "ez_graph2(titanic['Pclass'], \n",
    "          titanic['Sex'], titanic['Survived'],\n",
    "         'male', 'Male Class Distribution')"
   ]
  },
  {
   "cell_type": "code",
   "execution_count": 25,
   "metadata": {
    "collapsed": false,
    "deletable": true,
    "editable": true
   },
   "outputs": [
    {
     "data": {
      "text/plain": [
       "(            Died     Lived  Population\n",
       " Pclass                                \n",
       " 1st     0.037037  0.390558    0.299363\n",
       " 2nd     0.074074  0.300429    0.242038\n",
       " 3rd     0.888889  0.309013    0.458599,\n",
       " <matplotlib.legend.Legend at 0x11a5276d8>)"
      ]
     },
     "execution_count": 25,
     "metadata": {},
     "output_type": "execute_result"
    },
    {
     "data": {
      "image/png": "[encoded data removed]",
      "text/plain": [
       "<matplotlib.figure.Figure at 0x11a526a90>"
      ]
     },
     "metadata": {},
     "output_type": "display_data"
    }
   ],
   "source": [
    "ez_graph2(titanic['Pclass'], \n",
    "          titanic['Sex'], titanic['Survived'],\n",
    "         'female', 'Female Class Distribution')"
   ]
  },
  {
   "cell_type": "markdown",
   "metadata": {
    "deletable": true,
    "editable": true
   },
   "source": [
    "__Figure 3E:__ Frequency tables & bar graphs depicting the class distribution of passengers who died, survived, and existed within each sex and age group.\n",
    "\n",
    "_Note: The numbers show the majority of dead passengers from each group were traveling in 3rd class - adults (59%), children (94%), males (64%), females (88%). When comparing these numbers to the population statistics, we see that 3rd class passengers were overrepresented in each case. The most lopsided numbers are found with children, whose 3rd class travelers accounting for 94% of the dead and only 68% of the population._\n",
    "\n",
    "_The data also shows that 1st class passengers made up the largest portion of surviving adults (48%) and females (39%). In both cases, first class passengers appeared at higher percentages than they did in their respective populations. Men on the other hand had nearly as many 1st (41%) and 3rd (43%) class survivors. However, this is misleading as there were nearly 3 times as many male passengers traveling in 3rd class (60%) as there were in 1st (21%). The majority of surviving children were traveling in 2nd (34%) and 3rd (48%) class, but this too is misleading. In comparison to the rate they appeared in the population, both 1st (+7%) and 2nd (+14%) class survivors were overrepresented, while 3rd class (-21%) survivors were underrepresented. _"
   ]
  },
  {
   "cell_type": "code",
   "execution_count": 26,
   "metadata": {
    "collapsed": false,
    "deletable": true,
    "editable": true,
    "scrolled": false
   },
   "outputs": [
    {
     "name": "stdout",
     "output_type": "stream",
     "text": [
      "\n",
      "\n",
      " Female (Child) Death & Survival Rates \n",
      "\n",
      "          1st  2nd       3rd  Population\n",
      "Died   0.125  0.0  0.457143    0.309091\n",
      "Lived  0.875  1.0  0.542857    0.690909\n",
      "\n",
      "\n",
      " Female (Adult) Death & Survival Rates \n",
      "\n",
      "             1st       2nd      3rd  Population\n",
      "Died   0.025974  0.096774  0.58209    0.228155\n",
      "Lived  0.974026  0.903226  0.41791    0.771845\n",
      "\n",
      "\n",
      " Male (Child) Death & Survival Rates \n",
      "\n",
      "        1st       2nd       3rd  Population\n",
      "Died   0.0  0.181818  0.767442    0.603448\n",
      "Lived  1.0  0.818182  0.232558    0.396552\n",
      "\n",
      "\n",
      " Male (Adult) Death & Survival Rates \n",
      "\n",
      "             1st       2nd       3rd  Population\n",
      "Died   0.628866  0.931818  0.866667    0.822785\n",
      "Lived  0.371134  0.068182  0.133333    0.177215\n"
     ]
    }
   ],
   "source": [
    "#Death & Survival rates by class for each Sex/Age Group\n",
    "\n",
    "data = freq4_store(titanic['Survived'],titanic['age_group'],titanic['Sex'],titanic['Pclass'])[1]\n",
    "\n",
    "\n",
    "data_totals = freq3_store(titanic['Survived'], titanic['age_group'], titanic['Sex'])[1]\n",
    "\n",
    "for sex in ['female', 'male']:\n",
    "    for val in ['Child', 'Adult']:\n",
    "        #create data table\n",
    "        table = data[val][sex].ix[['Died', 'Lived'],['1st', '2nd', '3rd']]\n",
    "        table['Population'] = data_totals[val][sex]\n",
    "        table.index.name = None\n",
    "        table.columns.name = None\n",
    "        table*100\n",
    "        \n",
    "        print (\"\\n\\n {} ({}) Death & Survival Rates \\n\\n\".format(sex.capitalize(),val), table)\n",
    "    \n",
    "        \n",
    "      \n",
    "\n"
   ]
  },
  {
   "cell_type": "markdown",
   "metadata": {
    "deletable": true,
    "editable": true
   },
   "source": [
    "__Figure 3f:__ Frequency table of death & survival rates by class for each sex/age group pairing.  The death and survival rates for each population is also included for comparison.\n",
    "\n",
    "_Note: The 3rd class passengers from each sex/age grouping experienced higher than average death rates and lower than average survival rates in comparison to their populations.  The 1st class passengers from each of these groups experienced the opposite, with below average death rates and above average survival rates._ \n",
    "\n",
    "_Upper class (1st & 2nd) passengers experienced the highest survival rates across each sex/age grouping, with the exception of adult males. This is line with our findings from [Figure 3d](#3d). However, we now see the reason male passengers didn't fit the pattern was due to the high mortality rate of 2nd class, adult males.  In fact, this is the only instance where 3rd class passengers had higher survival rates than 2nd class. The effect of this on the overall male population was partially offset by the children, whose survival rates along class lines matched the trend seen in the other population sub-groups._"
   ]
  },
  {
   "cell_type": "code",
   "execution_count": 27,
   "metadata": {
    "collapsed": false,
    "deletable": true,
    "editable": true
   },
   "outputs": [
    {
     "name": "stdout",
     "output_type": "stream",
     "text": [
      "\n",
      " Class Distribution of Female (Child) Passengers  \n",
      "\n",
      "          Died     Lived  Population\n",
      "1st  0.058824  0.184211    0.145455\n",
      "2nd  0.000000  0.315789    0.218182\n",
      "3rd  0.941176  0.500000    0.636364\n",
      "\n",
      " Class Distribution of Female (Adult) Passengers  \n",
      "\n",
      "          Died     Lived  Population\n",
      "1st  0.042553  0.471698    0.373786\n",
      "2nd  0.127660  0.352201    0.300971\n",
      "3rd  0.829787  0.176101    0.325243\n",
      "\n",
      " Class Distribution of Male (Child) Passengers  \n",
      "\n",
      "          Died     Lived  Population\n",
      "1st  0.000000  0.173913    0.068966\n",
      "2nd  0.057143  0.391304    0.189655\n",
      "3rd  0.942857  0.434783    0.741379\n",
      "\n",
      " Class Distribution of Male (Adult) Passengers  \n",
      "\n",
      "          Died     Lived  Population\n",
      "1st  0.187692  0.514286    0.245570\n",
      "2nd  0.252308  0.085714    0.222785\n",
      "3rd  0.560000  0.400000    0.531646\n"
     ]
    }
   ],
   "source": [
    "#Death/Survival Rates Per Sex/Age Group\n",
    "\n",
    "data = freq4_store(titanic['Pclass'], titanic['Sex'], titanic['age_group'],titanic['Survived'])[1]\n",
    "\n",
    "totals = freq3_store(titanic['Pclass'], titanic['Sex'], titanic['age_group'])[1]\n",
    "\n",
    "for sex in ['female', 'male']:\n",
    "    for val in ['Child', 'Adult']:\n",
    "        #create data table\n",
    "        table = data[sex][val].ix[['1st', '2nd', '3rd']]\n",
    "        table['Population'] = totals[sex][val]\n",
    "        table.index.name = None\n",
    "        table.columns.name = None\n",
    "        table*100\n",
    "\n",
    "        print (\"\\n Class Distribution of {} ({}) Passengers  \\n\\n\".format(sex.capitalize(),val), table)\n",
    "        "
   ]
  },
  {
   "cell_type": "markdown",
   "metadata": {
    "deletable": true,
    "editable": true
   },
   "source": [
    "__Figure 3G:__ Frequency tables depicting class distribution of the dead and surviving passengers for each sex/age grouping.  The class distribution for each sex/age groups population has also been included for comparison.\n",
    "\n",
    "_Note:  Passengers from 3rd class represent a larger portion of the dead and smaller portion of the survivors than they do in their respective populations for each of the sex/age groupings. The most dramatic swing is seen in the adult female population, whose 3rd class passengers accounted for 83% of the dead and only 33% of the population.  The data for 1st class passengers in each sex/age group was reversed. They accounted for a smaller percentage of the dead and larger percentage of the survivors than existed in their entire populations.  The largest discrepancy was found in adult males, with 51% of the survivors traveling in 1st class compared to only 25% of the overall population._\n"
   ]
  },
  {
   "cell_type": "markdown",
   "metadata": {
    "deletable": true,
    "editable": true
   },
   "source": [
    "### 3.3 Summary"
   ]
  },
  {
   "cell_type": "markdown",
   "metadata": {
    "deletable": true,
    "editable": true
   },
   "source": [
    "A clear pattern emerged along class lines when analyzing the data set. In nearly every instance, we saw the highest chances of survival existed in 1st class, followed by 2nd, and then 3rd.  We also saw that 1st and 2nd class passengers represented a larger percentage of survivors and a lower percentage of the dead than they did in the population. While the 3rd class passengers experienced the opposite, they were underrepresented in the survivors and overrepresented in the dead compared to their population rates. This data indicates that class played a major role in survival aboard the titanic. The 1st and 2nd classes yielded much higher chances for survival, while traveling in 3rd class resulted in a higher likelihood of death.\n"
   ]
  },
  {
   "cell_type": "markdown",
   "metadata": {
    "deletable": true,
    "editable": true
   },
   "source": [
    "# Conclusion"
   ]
  },
  {
   "cell_type": "markdown",
   "metadata": {
    "deletable": true,
    "editable": true
   },
   "source": [
    "Of the 891 passengers in this dataset, 549 (62%) perished aboard the Titanic. The analysis of this data determined that living and dying was largely dependent on the passengers age, sex, and class.  Passengers who were female, under the age of 18, or traveling in 1st class were much more likely to survive than their counterparts. Adult males and passengers traveling in 3rd class were the least likely to survive aboard the Titanic.  The next step. required for this analysis is to identify if any of these findings are statistically significant.  Any results found to be statistically significant will require further testing/experimentation to assess causation."
   ]
  },
  {
   "cell_type": "markdown",
   "metadata": {
    "deletable": true,
    "editable": true
   },
   "source": [
    "<a id='A'></a>\n",
    "# Appendix A\n",
    "\n",
    "## Data Preperation (Data Wrangling)\n",
    "This appendix contains the initial exploration of passenger data from [Kaggle](https://www.kaggle.com/c/titanic/data) and all modifications made to the dataset for this analysis.  Changes to the original dataset have been packaged into the dataworkflow.data module. "
   ]
  },
  {
   "cell_type": "code",
   "execution_count": 28,
   "metadata": {
    "collapsed": false,
    "deletable": true,
    "editable": true
   },
   "outputs": [],
   "source": [
    "path = '/Users/jco/Desktop/data_science/Udacity/project_2/Titanic/train.csv'\n",
    "\n",
    "titanic = pd.read_csv(path)"
   ]
  },
  {
   "cell_type": "markdown",
   "metadata": {},
   "source": [
    "### Explore Data"
   ]
  },
  {
   "cell_type": "markdown",
   "metadata": {
    "collapsed": true,
    "deletable": true,
    "editable": true
   },
   "source": [
    "__Dimension/Type__"
   ]
  },
  {
   "cell_type": "code",
   "execution_count": 29,
   "metadata": {
    "collapsed": false
   },
   "outputs": [
    {
     "data": {
      "text/plain": [
       "(891, 12)"
      ]
     },
     "execution_count": 29,
     "metadata": {},
     "output_type": "execute_result"
    }
   ],
   "source": [
    "titanic.shape"
   ]
  },
  {
   "cell_type": "code",
   "execution_count": 30,
   "metadata": {
    "collapsed": false,
    "scrolled": true
   },
   "outputs": [
    {
     "name": "stdout",
     "output_type": "stream",
     "text": [
      "<class 'pandas.core.frame.DataFrame'>\n",
      "RangeIndex: 891 entries, 0 to 890\n",
      "Data columns (total 12 columns):\n",
      "PassengerId    891 non-null int64\n",
      "Survived       891 non-null int64\n",
      "Pclass         891 non-null int64\n",
      "Name           891 non-null object\n",
      "Sex            891 non-null object\n",
      "Age            714 non-null float64\n",
      "SibSp          891 non-null int64\n",
      "Parch          891 non-null int64\n",
      "Ticket         891 non-null object\n",
      "Fare           891 non-null float64\n",
      "Cabin          204 non-null object\n",
      "Embarked       889 non-null object\n",
      "dtypes: float64(2), int64(5), object(5)\n",
      "memory usage: 83.6+ KB\n"
     ]
    }
   ],
   "source": [
    "titanic.info()"
   ]
  },
  {
   "cell_type": "markdown",
   "metadata": {},
   "source": [
    "__Sample__"
   ]
  },
  {
   "cell_type": "code",
   "execution_count": 31,
   "metadata": {
    "collapsed": false
   },
   "outputs": [
    {
     "data": {
      "text/html": [
       "<div>\n",
       "<table border=\"1\" class=\"dataframe\">\n",
       "  <thead>\n",
       "    <tr style=\"text-align: right;\">\n",
       "      <th></th>\n",
       "      <th>PassengerId</th>\n",
       "      <th>Survived</th>\n",
       "      <th>Pclass</th>\n",
       "      <th>Name</th>\n",
       "      <th>Sex</th>\n",
       "      <th>Age</th>\n",
       "      <th>SibSp</th>\n",
       "      <th>Parch</th>\n",
       "      <th>Ticket</th>\n",
       "      <th>Fare</th>\n",
       "      <th>Cabin</th>\n",
       "      <th>Embarked</th>\n",
       "    </tr>\n",
       "  </thead>\n",
       "  <tbody>\n",
       "    <tr>\n",
       "      <th>0</th>\n",
       "      <td>1</td>\n",
       "      <td>0</td>\n",
       "      <td>3</td>\n",
       "      <td>Braund, Mr. Owen Harris</td>\n",
       "      <td>male</td>\n",
       "      <td>22.0</td>\n",
       "      <td>1</td>\n",
       "      <td>0</td>\n",
       "      <td>A/5 21171</td>\n",
       "      <td>7.2500</td>\n",
       "      <td>NaN</td>\n",
       "      <td>S</td>\n",
       "    </tr>\n",
       "    <tr>\n",
       "      <th>1</th>\n",
       "      <td>2</td>\n",
       "      <td>1</td>\n",
       "      <td>1</td>\n",
       "      <td>Cumings, Mrs. John Bradley (Florence Briggs Th...</td>\n",
       "      <td>female</td>\n",
       "      <td>38.0</td>\n",
       "      <td>1</td>\n",
       "      <td>0</td>\n",
       "      <td>PC 17599</td>\n",
       "      <td>71.2833</td>\n",
       "      <td>C85</td>\n",
       "      <td>C</td>\n",
       "    </tr>\n",
       "    <tr>\n",
       "      <th>2</th>\n",
       "      <td>3</td>\n",
       "      <td>1</td>\n",
       "      <td>3</td>\n",
       "      <td>Heikkinen, Miss. Laina</td>\n",
       "      <td>female</td>\n",
       "      <td>26.0</td>\n",
       "      <td>0</td>\n",
       "      <td>0</td>\n",
       "      <td>STON/O2. 3101282</td>\n",
       "      <td>7.9250</td>\n",
       "      <td>NaN</td>\n",
       "      <td>S</td>\n",
       "    </tr>\n",
       "    <tr>\n",
       "      <th>3</th>\n",
       "      <td>4</td>\n",
       "      <td>1</td>\n",
       "      <td>1</td>\n",
       "      <td>Futrelle, Mrs. Jacques Heath (Lily May Peel)</td>\n",
       "      <td>female</td>\n",
       "      <td>35.0</td>\n",
       "      <td>1</td>\n",
       "      <td>0</td>\n",
       "      <td>113803</td>\n",
       "      <td>53.1000</td>\n",
       "      <td>C123</td>\n",
       "      <td>S</td>\n",
       "    </tr>\n",
       "    <tr>\n",
       "      <th>4</th>\n",
       "      <td>5</td>\n",
       "      <td>0</td>\n",
       "      <td>3</td>\n",
       "      <td>Allen, Mr. William Henry</td>\n",
       "      <td>male</td>\n",
       "      <td>35.0</td>\n",
       "      <td>0</td>\n",
       "      <td>0</td>\n",
       "      <td>373450</td>\n",
       "      <td>8.0500</td>\n",
       "      <td>NaN</td>\n",
       "      <td>S</td>\n",
       "    </tr>\n",
       "  </tbody>\n",
       "</table>\n",
       "</div>"
      ],
      "text/plain": [
       "   PassengerId  Survived  Pclass  \\\n",
       "0            1         0       3   \n",
       "1            2         1       1   \n",
       "2            3         1       3   \n",
       "3            4         1       1   \n",
       "4            5         0       3   \n",
       "\n",
       "                                                Name     Sex   Age  SibSp  \\\n",
       "0                            Braund, Mr. Owen Harris    male  22.0      1   \n",
       "1  Cumings, Mrs. John Bradley (Florence Briggs Th...  female  38.0      1   \n",
       "2                             Heikkinen, Miss. Laina  female  26.0      0   \n",
       "3       Futrelle, Mrs. Jacques Heath (Lily May Peel)  female  35.0      1   \n",
       "4                           Allen, Mr. William Henry    male  35.0      0   \n",
       "\n",
       "   Parch            Ticket     Fare Cabin Embarked  \n",
       "0      0         A/5 21171   7.2500   NaN        S  \n",
       "1      0          PC 17599  71.2833   C85        C  \n",
       "2      0  STON/O2. 3101282   7.9250   NaN        S  \n",
       "3      0            113803  53.1000  C123        S  \n",
       "4      0            373450   8.0500   NaN        S  "
      ]
     },
     "execution_count": 31,
     "metadata": {},
     "output_type": "execute_result"
    }
   ],
   "source": [
    "titanic.head()"
   ]
  },
  {
   "cell_type": "markdown",
   "metadata": {},
   "source": [
    "__Summary Stats__"
   ]
  },
  {
   "cell_type": "code",
   "execution_count": 32,
   "metadata": {
    "collapsed": false
   },
   "outputs": [
    {
     "data": {
      "text/html": [
       "<div>\n",
       "<table border=\"1\" class=\"dataframe\">\n",
       "  <thead>\n",
       "    <tr style=\"text-align: right;\">\n",
       "      <th></th>\n",
       "      <th>PassengerId</th>\n",
       "      <th>Survived</th>\n",
       "      <th>Pclass</th>\n",
       "      <th>Age</th>\n",
       "      <th>SibSp</th>\n",
       "      <th>Parch</th>\n",
       "      <th>Fare</th>\n",
       "    </tr>\n",
       "  </thead>\n",
       "  <tbody>\n",
       "    <tr>\n",
       "      <th>count</th>\n",
       "      <td>891.000000</td>\n",
       "      <td>891.000000</td>\n",
       "      <td>891.000000</td>\n",
       "      <td>714.000000</td>\n",
       "      <td>891.000000</td>\n",
       "      <td>891.000000</td>\n",
       "      <td>891.000000</td>\n",
       "    </tr>\n",
       "    <tr>\n",
       "      <th>mean</th>\n",
       "      <td>446.000000</td>\n",
       "      <td>0.383838</td>\n",
       "      <td>2.308642</td>\n",
       "      <td>29.699118</td>\n",
       "      <td>0.523008</td>\n",
       "      <td>0.381594</td>\n",
       "      <td>32.204208</td>\n",
       "    </tr>\n",
       "    <tr>\n",
       "      <th>std</th>\n",
       "      <td>257.353842</td>\n",
       "      <td>0.486592</td>\n",
       "      <td>0.836071</td>\n",
       "      <td>14.526497</td>\n",
       "      <td>1.102743</td>\n",
       "      <td>0.806057</td>\n",
       "      <td>49.693429</td>\n",
       "    </tr>\n",
       "    <tr>\n",
       "      <th>min</th>\n",
       "      <td>1.000000</td>\n",
       "      <td>0.000000</td>\n",
       "      <td>1.000000</td>\n",
       "      <td>0.420000</td>\n",
       "      <td>0.000000</td>\n",
       "      <td>0.000000</td>\n",
       "      <td>0.000000</td>\n",
       "    </tr>\n",
       "    <tr>\n",
       "      <th>25%</th>\n",
       "      <td>223.500000</td>\n",
       "      <td>0.000000</td>\n",
       "      <td>2.000000</td>\n",
       "      <td>20.125000</td>\n",
       "      <td>0.000000</td>\n",
       "      <td>0.000000</td>\n",
       "      <td>7.910400</td>\n",
       "    </tr>\n",
       "    <tr>\n",
       "      <th>50%</th>\n",
       "      <td>446.000000</td>\n",
       "      <td>0.000000</td>\n",
       "      <td>3.000000</td>\n",
       "      <td>28.000000</td>\n",
       "      <td>0.000000</td>\n",
       "      <td>0.000000</td>\n",
       "      <td>14.454200</td>\n",
       "    </tr>\n",
       "    <tr>\n",
       "      <th>75%</th>\n",
       "      <td>668.500000</td>\n",
       "      <td>1.000000</td>\n",
       "      <td>3.000000</td>\n",
       "      <td>38.000000</td>\n",
       "      <td>1.000000</td>\n",
       "      <td>0.000000</td>\n",
       "      <td>31.000000</td>\n",
       "    </tr>\n",
       "    <tr>\n",
       "      <th>max</th>\n",
       "      <td>891.000000</td>\n",
       "      <td>1.000000</td>\n",
       "      <td>3.000000</td>\n",
       "      <td>80.000000</td>\n",
       "      <td>8.000000</td>\n",
       "      <td>6.000000</td>\n",
       "      <td>512.329200</td>\n",
       "    </tr>\n",
       "  </tbody>\n",
       "</table>\n",
       "</div>"
      ],
      "text/plain": [
       "       PassengerId    Survived      Pclass         Age       SibSp  \\\n",
       "count   891.000000  891.000000  891.000000  714.000000  891.000000   \n",
       "mean    446.000000    0.383838    2.308642   29.699118    0.523008   \n",
       "std     257.353842    0.486592    0.836071   14.526497    1.102743   \n",
       "min       1.000000    0.000000    1.000000    0.420000    0.000000   \n",
       "25%     223.500000    0.000000    2.000000   20.125000    0.000000   \n",
       "50%     446.000000    0.000000    3.000000   28.000000    0.000000   \n",
       "75%     668.500000    1.000000    3.000000   38.000000    1.000000   \n",
       "max     891.000000    1.000000    3.000000   80.000000    8.000000   \n",
       "\n",
       "            Parch        Fare  \n",
       "count  891.000000  891.000000  \n",
       "mean     0.381594   32.204208  \n",
       "std      0.806057   49.693429  \n",
       "min      0.000000    0.000000  \n",
       "25%      0.000000    7.910400  \n",
       "50%      0.000000   14.454200  \n",
       "75%      0.000000   31.000000  \n",
       "max      6.000000  512.329200  "
      ]
     },
     "execution_count": 32,
     "metadata": {},
     "output_type": "execute_result"
    }
   ],
   "source": [
    "#Numerical Summary\n",
    "titanic.describe() "
   ]
  },
  {
   "cell_type": "code",
   "execution_count": 33,
   "metadata": {
    "collapsed": false
   },
   "outputs": [
    {
     "data": {
      "text/html": [
       "<div>\n",
       "<table border=\"1\" class=\"dataframe\">\n",
       "  <thead>\n",
       "    <tr style=\"text-align: right;\">\n",
       "      <th></th>\n",
       "      <th>Name</th>\n",
       "      <th>Sex</th>\n",
       "      <th>Ticket</th>\n",
       "      <th>Cabin</th>\n",
       "      <th>Embarked</th>\n",
       "    </tr>\n",
       "  </thead>\n",
       "  <tbody>\n",
       "    <tr>\n",
       "      <th>count</th>\n",
       "      <td>891</td>\n",
       "      <td>891</td>\n",
       "      <td>891</td>\n",
       "      <td>204</td>\n",
       "      <td>889</td>\n",
       "    </tr>\n",
       "    <tr>\n",
       "      <th>unique</th>\n",
       "      <td>891</td>\n",
       "      <td>2</td>\n",
       "      <td>681</td>\n",
       "      <td>147</td>\n",
       "      <td>3</td>\n",
       "    </tr>\n",
       "    <tr>\n",
       "      <th>top</th>\n",
       "      <td>Saad, Mr. Khalil</td>\n",
       "      <td>male</td>\n",
       "      <td>1601</td>\n",
       "      <td>C23 C25 C27</td>\n",
       "      <td>S</td>\n",
       "    </tr>\n",
       "    <tr>\n",
       "      <th>freq</th>\n",
       "      <td>1</td>\n",
       "      <td>577</td>\n",
       "      <td>7</td>\n",
       "      <td>4</td>\n",
       "      <td>644</td>\n",
       "    </tr>\n",
       "  </tbody>\n",
       "</table>\n",
       "</div>"
      ],
      "text/plain": [
       "                    Name   Sex Ticket        Cabin Embarked\n",
       "count                891   891    891          204      889\n",
       "unique               891     2    681          147        3\n",
       "top     Saad, Mr. Khalil  male   1601  C23 C25 C27        S\n",
       "freq                   1   577      7            4      644"
      ]
     },
     "execution_count": 33,
     "metadata": {},
     "output_type": "execute_result"
    }
   ],
   "source": [
    "#Categorical Summary\n",
    "cat_data = titanic.dtypes[titanic.dtypes == 'object'].index\n",
    "\n",
    "titanic[cat_data].describe()"
   ]
  },
  {
   "cell_type": "markdown",
   "metadata": {},
   "source": [
    "### Evaluate Variables"
   ]
  },
  {
   "cell_type": "markdown",
   "metadata": {},
   "source": [
    "__PassangerID__\n",
    "\n",
    "* Full set of data (891)\n",
    "* Unique numerical values for every passenger\n",
    "* Does not appear relevant for analysis \n",
    "\n",
    "_Decision_: __Delete__"
   ]
  },
  {
   "cell_type": "code",
   "execution_count": 34,
   "metadata": {
    "collapsed": false
   },
   "outputs": [
    {
     "data": {
      "text/plain": [
       "count    891.000000\n",
       "mean     446.000000\n",
       "std      257.353842\n",
       "min        1.000000\n",
       "25%      223.500000\n",
       "50%      446.000000\n",
       "75%      668.500000\n",
       "max      891.000000\n",
       "Name: PassengerId, dtype: float64"
      ]
     },
     "execution_count": 34,
     "metadata": {},
     "output_type": "execute_result"
    }
   ],
   "source": [
    "titanic['PassengerId'].describe()"
   ]
  },
  {
   "cell_type": "markdown",
   "metadata": {},
   "source": [
    "__Survived__\n",
    "\n",
    "* Full set of data (891)\n",
    "* Categorical values stored as numbers - 1(lived), 0(Died)\n",
    "* Key field for analysis\n",
    "\n",
    "Decision: __Modify__ convert to category, replace nums with text (Died, Lived)"
   ]
  },
  {
   "cell_type": "code",
   "execution_count": 35,
   "metadata": {
    "collapsed": false
   },
   "outputs": [
    {
     "data": {
      "text/plain": [
       "count    891.000000\n",
       "mean       0.383838\n",
       "std        0.486592\n",
       "min        0.000000\n",
       "25%        0.000000\n",
       "50%        0.000000\n",
       "75%        1.000000\n",
       "max        1.000000\n",
       "Name: Survived, dtype: float64"
      ]
     },
     "execution_count": 35,
     "metadata": {},
     "output_type": "execute_result"
    }
   ],
   "source": [
    "titanic['Survived'].describe()"
   ]
  },
  {
   "cell_type": "markdown",
   "metadata": {},
   "source": [
    "__Pclass__\n",
    "\n",
    "* Full set of data\n",
    "* Categorical Data stored as numerical 1=1st Class, 2=2nd Class, 3=3rd Class\n",
    "* Interesting variable for analysis\n",
    "\n",
    "Decision: __Modify__ convert to ordered category, replace nums with text (1st, 2nd, 3rd)"
   ]
  },
  {
   "cell_type": "code",
   "execution_count": 36,
   "metadata": {
    "collapsed": false
   },
   "outputs": [
    {
     "data": {
      "text/plain": [
       "count    891.000000\n",
       "mean       2.308642\n",
       "std        0.836071\n",
       "min        1.000000\n",
       "25%        2.000000\n",
       "50%        3.000000\n",
       "75%        3.000000\n",
       "max        3.000000\n",
       "Name: Pclass, dtype: float64"
      ]
     },
     "execution_count": 36,
     "metadata": {},
     "output_type": "execute_result"
    }
   ],
   "source": [
    "titanic['Pclass'].describe()"
   ]
  },
  {
   "cell_type": "markdown",
   "metadata": {},
   "source": [
    "__Name__\n",
    "\n",
    "* No missing values\n",
    "* All unique \n",
    "* Seperate variables exist for identifying passangers w/ family members\n",
    "* Does not appear relevant for analysis \n",
    "\n",
    "Decision: __Delete__"
   ]
  },
  {
   "cell_type": "code",
   "execution_count": 37,
   "metadata": {
    "collapsed": false
   },
   "outputs": [
    {
     "data": {
      "text/plain": [
       "count                  891\n",
       "unique                 891\n",
       "top       Saad, Mr. Khalil\n",
       "freq                     1\n",
       "Name: Name, dtype: object"
      ]
     },
     "execution_count": 37,
     "metadata": {},
     "output_type": "execute_result"
    }
   ],
   "source": [
    "titanic['Name'].describe()"
   ]
  },
  {
   "cell_type": "markdown",
   "metadata": {},
   "source": [
    "__Sex__\n",
    "\n",
    "* No missing values\n",
    "* Stored as object vs. category\n",
    "* Interesting variable for analysis\n",
    "\n",
    "Decision: __Modify__ keep values, convert dtype to category"
   ]
  },
  {
   "cell_type": "code",
   "execution_count": 38,
   "metadata": {
    "collapsed": false
   },
   "outputs": [
    {
     "data": {
      "text/plain": [
       "count      891\n",
       "unique       2\n",
       "top       male\n",
       "freq       577\n",
       "Name: Sex, dtype: object"
      ]
     },
     "execution_count": 38,
     "metadata": {},
     "output_type": "execute_result"
    }
   ],
   "source": [
    "titanic['Sex'].describe()"
   ]
  },
  {
   "cell_type": "code",
   "execution_count": 39,
   "metadata": {
    "collapsed": false
   },
   "outputs": [
    {
     "data": {
      "text/plain": [
       "dtype('O')"
      ]
     },
     "execution_count": 39,
     "metadata": {},
     "output_type": "execute_result"
    }
   ],
   "source": [
    "titanic['Sex'].dtype"
   ]
  },
  {
   "cell_type": "markdown",
   "metadata": {},
   "source": [
    "__Age__\n",
    "\n",
    "* Missing data (177, 714/891)\n",
    "* Contains estimates for ages under 1 \n",
    "* interesting var, can also be used to create alternate interesting vars\n",
    "\n",
    "Decision: __Transform__ keep current vals, keep missing data empyt for now, Create new variable for Child, Adults(>18), and Unknown "
   ]
  },
  {
   "cell_type": "code",
   "execution_count": 40,
   "metadata": {
    "collapsed": false
   },
   "outputs": [
    {
     "data": {
      "text/plain": [
       "count    714.000000\n",
       "mean      29.699118\n",
       "std       14.526497\n",
       "min        0.420000\n",
       "25%       20.125000\n",
       "50%       28.000000\n",
       "75%       38.000000\n",
       "max       80.000000\n",
       "Name: Age, dtype: float64"
      ]
     },
     "execution_count": 40,
     "metadata": {},
     "output_type": "execute_result"
    }
   ],
   "source": [
    "titanic['Age'].describe()"
   ]
  },
  {
   "cell_type": "markdown",
   "metadata": {},
   "source": [
    "__SibSp__\n",
    "\n",
    "* Variable for # of sibling or spouses aboard\n",
    "* No missing values\n",
    "* Would be interesting to use for identification of passengers with family\n",
    "\n",
    "Decision: __Merge__ combine with Parch to create new variables identifying passengers traveling with family and how many"
   ]
  },
  {
   "cell_type": "code",
   "execution_count": 41,
   "metadata": {
    "collapsed": false
   },
   "outputs": [
    {
     "data": {
      "text/plain": [
       "count    891.000000\n",
       "mean       0.523008\n",
       "std        1.102743\n",
       "min        0.000000\n",
       "25%        0.000000\n",
       "50%        0.000000\n",
       "75%        1.000000\n",
       "max        8.000000\n",
       "Name: SibSp, dtype: float64"
      ]
     },
     "execution_count": 41,
     "metadata": {},
     "output_type": "execute_result"
    }
   ],
   "source": [
    "titanic['SibSp'].describe()"
   ]
  },
  {
   "cell_type": "markdown",
   "metadata": {},
   "source": [
    "__Parch__\n",
    "\n",
    "* variable for # of parents or childeren aboard\n",
    "* no missing values\n",
    "* Would be interesting to use for identification of passengers w/ fam\n",
    "\n",
    "Decision: __Merge__ combine with SibSp to create new var identifying passengers w/ fam & count"
   ]
  },
  {
   "cell_type": "code",
   "execution_count": 42,
   "metadata": {
    "collapsed": false
   },
   "outputs": [
    {
     "data": {
      "text/plain": [
       "count    891.000000\n",
       "mean       0.381594\n",
       "std        0.806057\n",
       "min        0.000000\n",
       "25%        0.000000\n",
       "50%        0.000000\n",
       "75%        0.000000\n",
       "max        6.000000\n",
       "Name: Parch, dtype: float64"
      ]
     },
     "execution_count": 42,
     "metadata": {},
     "output_type": "execute_result"
    }
   ],
   "source": [
    "titanic['Parch'].describe()"
   ]
  },
  {
   "cell_type": "markdown",
   "metadata": {},
   "source": [
    "__Ticket__\n",
    "\n",
    "* No missing values\n",
    "* Mix of unique and duplicates (681 uni, 310 dupes)\n",
    "* Mix of alphanumeric and numeric values\n",
    "* Does not appear relevant for analysis \n",
    "\n",
    "Decision: __Delete__"
   ]
  },
  {
   "cell_type": "code",
   "execution_count": 43,
   "metadata": {
    "collapsed": false
   },
   "outputs": [
    {
     "data": {
      "text/plain": [
       "count      891\n",
       "unique     681\n",
       "top       1601\n",
       "freq         7\n",
       "Name: Ticket, dtype: object"
      ]
     },
     "execution_count": 43,
     "metadata": {},
     "output_type": "execute_result"
    }
   ],
   "source": [
    "titanic['Ticket'].describe()"
   ]
  },
  {
   "cell_type": "code",
   "execution_count": 44,
   "metadata": {
    "collapsed": false
   },
   "outputs": [
    {
     "data": {
      "text/plain": [
       "0            A/5 21171\n",
       "1             PC 17599\n",
       "2     STON/O2. 3101282\n",
       "3               113803\n",
       "4               373450\n",
       "5               330877\n",
       "6                17463\n",
       "7               349909\n",
       "8               347742\n",
       "9               237736\n",
       "10             PP 9549\n",
       "11              113783\n",
       "12           A/5. 2151\n",
       "13              347082\n",
       "14              350406\n",
       "Name: Ticket, dtype: object"
      ]
     },
     "execution_count": 44,
     "metadata": {},
     "output_type": "execute_result"
    }
   ],
   "source": [
    "titanic['Ticket'].head(15)"
   ]
  },
  {
   "cell_type": "markdown",
   "metadata": {},
   "source": [
    "__Fare__\n",
    "\n",
    "* No missing values \n",
    "* Relevent for analysis \n",
    "\n",
    "Decision: __Keep__"
   ]
  },
  {
   "cell_type": "code",
   "execution_count": 45,
   "metadata": {
    "collapsed": false
   },
   "outputs": [
    {
     "data": {
      "text/plain": [
       "count    891.000000\n",
       "mean      32.204208\n",
       "std       49.693429\n",
       "min        0.000000\n",
       "25%        7.910400\n",
       "50%       14.454200\n",
       "75%       31.000000\n",
       "max      512.329200\n",
       "Name: Fare, dtype: float64"
      ]
     },
     "execution_count": 45,
     "metadata": {},
     "output_type": "execute_result"
    }
   ],
   "source": [
    "titanic['Fare'].describe()"
   ]
  },
  {
   "cell_type": "markdown",
   "metadata": {},
   "source": [
    "__Cabin__\n",
    "\n",
    "* Missing large number of values (687, 204/891)\n",
    "* Mix of unique(147) and duplicated(57) data\n",
    "* Appears to be too little data for analysis\n",
    "\n",
    "Decision: __Delete__"
   ]
  },
  {
   "cell_type": "code",
   "execution_count": 46,
   "metadata": {
    "collapsed": false
   },
   "outputs": [
    {
     "data": {
      "text/plain": [
       "count             204\n",
       "unique            147\n",
       "top       C23 C25 C27\n",
       "freq                4\n",
       "Name: Cabin, dtype: object"
      ]
     },
     "execution_count": 46,
     "metadata": {},
     "output_type": "execute_result"
    }
   ],
   "source": [
    "titanic['Cabin'].describe()"
   ]
  },
  {
   "cell_type": "code",
   "execution_count": 47,
   "metadata": {
    "collapsed": false
   },
   "outputs": [
    {
     "data": {
      "text/plain": [
       "0      NaN\n",
       "1      C85\n",
       "2      NaN\n",
       "3     C123\n",
       "4      NaN\n",
       "5      NaN\n",
       "6      E46\n",
       "7      NaN\n",
       "8      NaN\n",
       "9      NaN\n",
       "10      G6\n",
       "11    C103\n",
       "12     NaN\n",
       "13     NaN\n",
       "14     NaN\n",
       "Name: Cabin, dtype: object"
      ]
     },
     "execution_count": 47,
     "metadata": {},
     "output_type": "execute_result"
    }
   ],
   "source": [
    "titanic['Cabin'].head(15)"
   ]
  },
  {
   "cell_type": "markdown",
   "metadata": {},
   "source": [
    "__Embarked__\n",
    "\n",
    "* Missing 2 values\n",
    "* Categorical stored as Object\n",
    "* Useful for analysis\n",
    "\n",
    "Decision: __Modify__ keep values, update dtype to category"
   ]
  },
  {
   "cell_type": "code",
   "execution_count": 48,
   "metadata": {
    "collapsed": false
   },
   "outputs": [
    {
     "data": {
      "text/plain": [
       "count     889\n",
       "unique      3\n",
       "top         S\n",
       "freq      644\n",
       "Name: Embarked, dtype: object"
      ]
     },
     "execution_count": 48,
     "metadata": {},
     "output_type": "execute_result"
    }
   ],
   "source": [
    "titanic['Embarked'].describe()"
   ]
  },
  {
   "cell_type": "code",
   "execution_count": 49,
   "metadata": {
    "collapsed": false
   },
   "outputs": [
    {
     "data": {
      "text/plain": [
       "dtype('O')"
      ]
     },
     "execution_count": 49,
     "metadata": {},
     "output_type": "execute_result"
    }
   ],
   "source": [
    "titanic['Embarked'].dtype"
   ]
  },
  {
   "cell_type": "markdown",
   "metadata": {},
   "source": [
    "### Update/Add Variables"
   ]
  },
  {
   "cell_type": "markdown",
   "metadata": {},
   "source": [
    "__Numerical Category Data__"
   ]
  },
  {
   "cell_type": "code",
   "execution_count": 50,
   "metadata": {
    "collapsed": false
   },
   "outputs": [
    {
     "data": {
      "text/html": [
       "<div>\n",
       "<table border=\"1\" class=\"dataframe\">\n",
       "  <thead>\n",
       "    <tr style=\"text-align: right;\">\n",
       "      <th></th>\n",
       "      <th>counts</th>\n",
       "      <th>freqs</th>\n",
       "    </tr>\n",
       "    <tr>\n",
       "      <th>categories</th>\n",
       "      <th></th>\n",
       "      <th></th>\n",
       "    </tr>\n",
       "  </thead>\n",
       "  <tbody>\n",
       "    <tr>\n",
       "      <th>Died</th>\n",
       "      <td>549</td>\n",
       "      <td>0.616162</td>\n",
       "    </tr>\n",
       "    <tr>\n",
       "      <th>Lived</th>\n",
       "      <td>342</td>\n",
       "      <td>0.383838</td>\n",
       "    </tr>\n",
       "  </tbody>\n",
       "</table>\n",
       "</div>"
      ],
      "text/plain": [
       "            counts     freqs\n",
       "categories                  \n",
       "Died           549  0.616162\n",
       "Lived          342  0.383838"
      ]
     },
     "execution_count": 50,
     "metadata": {},
     "output_type": "execute_result"
    }
   ],
   "source": [
    "#Survived\n",
    "new_survived = pd.Categorical(titanic['Survived'])\n",
    "new_survived = new_survived.rename_categories(['Died', 'Lived'])\n",
    "\n",
    "new_survived.describe()"
   ]
  },
  {
   "cell_type": "code",
   "execution_count": 51,
   "metadata": {
    "collapsed": false
   },
   "outputs": [
    {
     "data": {
      "text/html": [
       "<div>\n",
       "<table border=\"1\" class=\"dataframe\">\n",
       "  <thead>\n",
       "    <tr style=\"text-align: right;\">\n",
       "      <th></th>\n",
       "      <th>counts</th>\n",
       "      <th>freqs</th>\n",
       "    </tr>\n",
       "    <tr>\n",
       "      <th>categories</th>\n",
       "      <th></th>\n",
       "      <th></th>\n",
       "    </tr>\n",
       "  </thead>\n",
       "  <tbody>\n",
       "    <tr>\n",
       "      <th>1st</th>\n",
       "      <td>216</td>\n",
       "      <td>0.242424</td>\n",
       "    </tr>\n",
       "    <tr>\n",
       "      <th>2nd</th>\n",
       "      <td>184</td>\n",
       "      <td>0.206510</td>\n",
       "    </tr>\n",
       "    <tr>\n",
       "      <th>3rd</th>\n",
       "      <td>491</td>\n",
       "      <td>0.551066</td>\n",
       "    </tr>\n",
       "  </tbody>\n",
       "</table>\n",
       "</div>"
      ],
      "text/plain": [
       "            counts     freqs\n",
       "categories                  \n",
       "1st            216  0.242424\n",
       "2nd            184  0.206510\n",
       "3rd            491  0.551066"
      ]
     },
     "execution_count": 51,
     "metadata": {},
     "output_type": "execute_result"
    }
   ],
   "source": [
    "#Pclass\n",
    "new_pclass = pd.Categorical(titanic['Pclass'], ordered=True)\n",
    "new_pclass = new_pclass.rename_categories(['1st','2nd','3rd'])\n",
    "\n",
    "new_pclass.describe()"
   ]
  },
  {
   "cell_type": "code",
   "execution_count": 52,
   "metadata": {
    "collapsed": false
   },
   "outputs": [
    {
     "name": "stdout",
     "output_type": "stream",
     "text": [
      "category category\n"
     ]
    }
   ],
   "source": [
    "#Replace with categorical data\n",
    "titanic['Survived'] = new_survived\n",
    "titanic['Pclass'] = new_pclass\n",
    "\n",
    "#sanity check\n",
    "print (titanic['Survived'].dtype, titanic['Pclass'].dtype)"
   ]
  },
  {
   "cell_type": "markdown",
   "metadata": {},
   "source": [
    "__Update dtype__"
   ]
  },
  {
   "cell_type": "code",
   "execution_count": 53,
   "metadata": {
    "collapsed": false
   },
   "outputs": [
    {
     "name": "stdout",
     "output_type": "stream",
     "text": [
      "category category\n"
     ]
    }
   ],
   "source": [
    "titanic['Sex'] = pd.Series(titanic['Sex'], dtype='category')\n",
    "titanic['Embarked'] = pd.Series(titanic['Embarked'], dtype='category')\n",
    "\n",
    "#sanity check\n",
    "print(titanic['Sex'].dtype, titanic['Embarked'].dtype)"
   ]
  },
  {
   "cell_type": "code",
   "execution_count": 54,
   "metadata": {
    "collapsed": false
   },
   "outputs": [
    {
     "data": {
      "text/plain": [
       "Index(['female', 'male'], dtype='object')"
      ]
     },
     "execution_count": 54,
     "metadata": {},
     "output_type": "execute_result"
    }
   ],
   "source": [
    "titanic['Sex'].unique()\n",
    "titanic['Sex'].cat.categories"
   ]
  },
  {
   "cell_type": "markdown",
   "metadata": {},
   "source": [
    "__Create New Variables__"
   ]
  },
  {
   "cell_type": "code",
   "execution_count": 55,
   "metadata": {
    "collapsed": true
   },
   "outputs": [],
   "source": [
    "#Family Count\n",
    "titanic['FamilyTot'] = titanic['SibSp'] + titanic['Parch']"
   ]
  },
  {
   "cell_type": "code",
   "execution_count": 56,
   "metadata": {
    "collapsed": false
   },
   "outputs": [
    {
     "data": {
      "text/plain": [
       "count        891\n",
       "unique         2\n",
       "top       Single\n",
       "freq         537\n",
       "Name: FamilyTot, dtype: object"
      ]
     },
     "execution_count": 56,
     "metadata": {},
     "output_type": "execute_result"
    }
   ],
   "source": [
    "#Single or Family Variable\n",
    "bins = [-1,0,np.inf]\n",
    "labels = ['Single','Family']\n",
    "fam_status = pd.cut(titanic['FamilyTot'], bins, labels=labels)\n",
    "\n",
    "fam_status.describe() #sanity check"
   ]
  },
  {
   "cell_type": "code",
   "execution_count": 57,
   "metadata": {
    "collapsed": true
   },
   "outputs": [],
   "source": [
    "#Add FamStatus\n",
    "titanic['FamStatus'] = fam_status"
   ]
  },
  {
   "cell_type": "code",
   "execution_count": 58,
   "metadata": {
    "collapsed": false
   },
   "outputs": [
    {
     "data": {
      "text/plain": [
       "count       714\n",
       "unique        2\n",
       "top       Adult\n",
       "freq        601\n",
       "Name: Age, dtype: object"
      ]
     },
     "execution_count": 58,
     "metadata": {},
     "output_type": "execute_result"
    }
   ],
   "source": [
    "#Adult (>18) or Child (<18) Var\n",
    "bins = [0, 17, 1000, np.inf]\n",
    "labels = ['Child', 'Adult', 'Unknown']\n",
    "age_groups = pd.cut(titanic['Age'], bins, labels=labels) \n",
    "\n",
    "age_groups.describe() #sanity check"
   ]
  },
  {
   "cell_type": "code",
   "execution_count": 59,
   "metadata": {
    "collapsed": true
   },
   "outputs": [],
   "source": [
    "#Add age_groups\n",
    "titanic['age_group'] = age_groups"
   ]
  },
  {
   "cell_type": "code",
   "execution_count": 60,
   "metadata": {
    "collapsed": false
   },
   "outputs": [
    {
     "data": {
      "text/html": [
       "<div>\n",
       "<table border=\"1\" class=\"dataframe\">\n",
       "  <thead>\n",
       "    <tr style=\"text-align: right;\">\n",
       "      <th></th>\n",
       "      <th>PassengerId</th>\n",
       "      <th>Survived</th>\n",
       "      <th>Pclass</th>\n",
       "      <th>Name</th>\n",
       "      <th>Sex</th>\n",
       "      <th>Age</th>\n",
       "      <th>SibSp</th>\n",
       "      <th>Parch</th>\n",
       "      <th>Ticket</th>\n",
       "      <th>Fare</th>\n",
       "      <th>Cabin</th>\n",
       "      <th>Embarked</th>\n",
       "      <th>FamilyTot</th>\n",
       "      <th>FamStatus</th>\n",
       "      <th>age_group</th>\n",
       "    </tr>\n",
       "  </thead>\n",
       "  <tbody>\n",
       "    <tr>\n",
       "      <th>0</th>\n",
       "      <td>1</td>\n",
       "      <td>Died</td>\n",
       "      <td>3rd</td>\n",
       "      <td>Braund, Mr. Owen Harris</td>\n",
       "      <td>male</td>\n",
       "      <td>22.0</td>\n",
       "      <td>1</td>\n",
       "      <td>0</td>\n",
       "      <td>A/5 21171</td>\n",
       "      <td>7.2500</td>\n",
       "      <td>NaN</td>\n",
       "      <td>S</td>\n",
       "      <td>1</td>\n",
       "      <td>Family</td>\n",
       "      <td>Adult</td>\n",
       "    </tr>\n",
       "    <tr>\n",
       "      <th>1</th>\n",
       "      <td>2</td>\n",
       "      <td>Lived</td>\n",
       "      <td>1st</td>\n",
       "      <td>Cumings, Mrs. John Bradley (Florence Briggs Th...</td>\n",
       "      <td>female</td>\n",
       "      <td>38.0</td>\n",
       "      <td>1</td>\n",
       "      <td>0</td>\n",
       "      <td>PC 17599</td>\n",
       "      <td>71.2833</td>\n",
       "      <td>C85</td>\n",
       "      <td>C</td>\n",
       "      <td>1</td>\n",
       "      <td>Family</td>\n",
       "      <td>Adult</td>\n",
       "    </tr>\n",
       "    <tr>\n",
       "      <th>2</th>\n",
       "      <td>3</td>\n",
       "      <td>Lived</td>\n",
       "      <td>3rd</td>\n",
       "      <td>Heikkinen, Miss. Laina</td>\n",
       "      <td>female</td>\n",
       "      <td>26.0</td>\n",
       "      <td>0</td>\n",
       "      <td>0</td>\n",
       "      <td>STON/O2. 3101282</td>\n",
       "      <td>7.9250</td>\n",
       "      <td>NaN</td>\n",
       "      <td>S</td>\n",
       "      <td>0</td>\n",
       "      <td>Single</td>\n",
       "      <td>Adult</td>\n",
       "    </tr>\n",
       "    <tr>\n",
       "      <th>3</th>\n",
       "      <td>4</td>\n",
       "      <td>Lived</td>\n",
       "      <td>1st</td>\n",
       "      <td>Futrelle, Mrs. Jacques Heath (Lily May Peel)</td>\n",
       "      <td>female</td>\n",
       "      <td>35.0</td>\n",
       "      <td>1</td>\n",
       "      <td>0</td>\n",
       "      <td>113803</td>\n",
       "      <td>53.1000</td>\n",
       "      <td>C123</td>\n",
       "      <td>S</td>\n",
       "      <td>1</td>\n",
       "      <td>Family</td>\n",
       "      <td>Adult</td>\n",
       "    </tr>\n",
       "    <tr>\n",
       "      <th>4</th>\n",
       "      <td>5</td>\n",
       "      <td>Died</td>\n",
       "      <td>3rd</td>\n",
       "      <td>Allen, Mr. William Henry</td>\n",
       "      <td>male</td>\n",
       "      <td>35.0</td>\n",
       "      <td>0</td>\n",
       "      <td>0</td>\n",
       "      <td>373450</td>\n",
       "      <td>8.0500</td>\n",
       "      <td>NaN</td>\n",
       "      <td>S</td>\n",
       "      <td>0</td>\n",
       "      <td>Single</td>\n",
       "      <td>Adult</td>\n",
       "    </tr>\n",
       "  </tbody>\n",
       "</table>\n",
       "</div>"
      ],
      "text/plain": [
       "   PassengerId Survived Pclass  \\\n",
       "0            1     Died    3rd   \n",
       "1            2    Lived    1st   \n",
       "2            3    Lived    3rd   \n",
       "3            4    Lived    1st   \n",
       "4            5     Died    3rd   \n",
       "\n",
       "                                                Name     Sex   Age  SibSp  \\\n",
       "0                            Braund, Mr. Owen Harris    male  22.0      1   \n",
       "1  Cumings, Mrs. John Bradley (Florence Briggs Th...  female  38.0      1   \n",
       "2                             Heikkinen, Miss. Laina  female  26.0      0   \n",
       "3       Futrelle, Mrs. Jacques Heath (Lily May Peel)  female  35.0      1   \n",
       "4                           Allen, Mr. William Henry    male  35.0      0   \n",
       "\n",
       "   Parch            Ticket     Fare Cabin Embarked  FamilyTot FamStatus  \\\n",
       "0      0         A/5 21171   7.2500   NaN        S          1    Family   \n",
       "1      0          PC 17599  71.2833   C85        C          1    Family   \n",
       "2      0  STON/O2. 3101282   7.9250   NaN        S          0    Single   \n",
       "3      0            113803  53.1000  C123        S          1    Family   \n",
       "4      0            373450   8.0500   NaN        S          0    Single   \n",
       "\n",
       "  age_group  \n",
       "0     Adult  \n",
       "1     Adult  \n",
       "2     Adult  \n",
       "3     Adult  \n",
       "4     Adult  "
      ]
     },
     "execution_count": 60,
     "metadata": {},
     "output_type": "execute_result"
    }
   ],
   "source": [
    "titanic.head() #sanity check"
   ]
  },
  {
   "cell_type": "markdown",
   "metadata": {},
   "source": [
    "### Delete Variables"
   ]
  },
  {
   "cell_type": "code",
   "execution_count": 61,
   "metadata": {
    "collapsed": false
   },
   "outputs": [],
   "source": [
    "# Remove PassengerId, Name, Ticket, Cabin\n",
    "\n",
    "titanic.drop(['PassengerId', 'Name', 'Ticket', 'Cabin'], axis=1, inplace=True)"
   ]
  },
  {
   "cell_type": "code",
   "execution_count": 62,
   "metadata": {
    "collapsed": false
   },
   "outputs": [
    {
     "data": {
      "text/html": [
       "<div>\n",
       "<table border=\"1\" class=\"dataframe\">\n",
       "  <thead>\n",
       "    <tr style=\"text-align: right;\">\n",
       "      <th></th>\n",
       "      <th>Survived</th>\n",
       "      <th>Pclass</th>\n",
       "      <th>Sex</th>\n",
       "      <th>Age</th>\n",
       "      <th>SibSp</th>\n",
       "      <th>Parch</th>\n",
       "      <th>Fare</th>\n",
       "      <th>Embarked</th>\n",
       "      <th>FamilyTot</th>\n",
       "      <th>FamStatus</th>\n",
       "      <th>age_group</th>\n",
       "    </tr>\n",
       "  </thead>\n",
       "  <tbody>\n",
       "    <tr>\n",
       "      <th>0</th>\n",
       "      <td>Died</td>\n",
       "      <td>3rd</td>\n",
       "      <td>male</td>\n",
       "      <td>22.0</td>\n",
       "      <td>1</td>\n",
       "      <td>0</td>\n",
       "      <td>7.2500</td>\n",
       "      <td>S</td>\n",
       "      <td>1</td>\n",
       "      <td>Family</td>\n",
       "      <td>Adult</td>\n",
       "    </tr>\n",
       "    <tr>\n",
       "      <th>1</th>\n",
       "      <td>Lived</td>\n",
       "      <td>1st</td>\n",
       "      <td>female</td>\n",
       "      <td>38.0</td>\n",
       "      <td>1</td>\n",
       "      <td>0</td>\n",
       "      <td>71.2833</td>\n",
       "      <td>C</td>\n",
       "      <td>1</td>\n",
       "      <td>Family</td>\n",
       "      <td>Adult</td>\n",
       "    </tr>\n",
       "    <tr>\n",
       "      <th>2</th>\n",
       "      <td>Lived</td>\n",
       "      <td>3rd</td>\n",
       "      <td>female</td>\n",
       "      <td>26.0</td>\n",
       "      <td>0</td>\n",
       "      <td>0</td>\n",
       "      <td>7.9250</td>\n",
       "      <td>S</td>\n",
       "      <td>0</td>\n",
       "      <td>Single</td>\n",
       "      <td>Adult</td>\n",
       "    </tr>\n",
       "    <tr>\n",
       "      <th>3</th>\n",
       "      <td>Lived</td>\n",
       "      <td>1st</td>\n",
       "      <td>female</td>\n",
       "      <td>35.0</td>\n",
       "      <td>1</td>\n",
       "      <td>0</td>\n",
       "      <td>53.1000</td>\n",
       "      <td>S</td>\n",
       "      <td>1</td>\n",
       "      <td>Family</td>\n",
       "      <td>Adult</td>\n",
       "    </tr>\n",
       "    <tr>\n",
       "      <th>4</th>\n",
       "      <td>Died</td>\n",
       "      <td>3rd</td>\n",
       "      <td>male</td>\n",
       "      <td>35.0</td>\n",
       "      <td>0</td>\n",
       "      <td>0</td>\n",
       "      <td>8.0500</td>\n",
       "      <td>S</td>\n",
       "      <td>0</td>\n",
       "      <td>Single</td>\n",
       "      <td>Adult</td>\n",
       "    </tr>\n",
       "  </tbody>\n",
       "</table>\n",
       "</div>"
      ],
      "text/plain": [
       "  Survived Pclass     Sex   Age  SibSp  Parch     Fare Embarked  FamilyTot  \\\n",
       "0     Died    3rd    male  22.0      1      0   7.2500        S          1   \n",
       "1    Lived    1st  female  38.0      1      0  71.2833        C          1   \n",
       "2    Lived    3rd  female  26.0      0      0   7.9250        S          0   \n",
       "3    Lived    1st  female  35.0      1      0  53.1000        S          1   \n",
       "4     Died    3rd    male  35.0      0      0   8.0500        S          0   \n",
       "\n",
       "  FamStatus age_group  \n",
       "0    Family     Adult  \n",
       "1    Family     Adult  \n",
       "2    Single     Adult  \n",
       "3    Family     Adult  \n",
       "4    Single     Adult  "
      ]
     },
     "execution_count": 62,
     "metadata": {},
     "output_type": "execute_result"
    }
   ],
   "source": [
    "titanic.head() #sanity"
   ]
  },
  {
   "cell_type": "markdown",
   "metadata": {},
   "source": [
    "<a id='B'></a>\n",
    "# Appendix B\n",
    "\n",
    "## Exploration of Data Relationships\n",
    "This appendix contains the exploration of relationships between different variables.  The majority of the analysis was centered on the search for correlations to death and/or survival.\n",
    "The dataworkflow.visualize module contains the majority of the functions used in this section for manipulating and displaying the data.\n",
    "\n",
    "The majority of functions used for manipulating and displaying data in this analysis were created in the dataworkflow.visualize module. "
   ]
  },
  {
   "cell_type": "code",
   "execution_count": 63,
   "metadata": {
    "collapsed": true
   },
   "outputs": [],
   "source": [
    "titanic = get_data()"
   ]
  },
  {
   "cell_type": "code",
   "execution_count": 64,
   "metadata": {
    "collapsed": false
   },
   "outputs": [
    {
     "data": {
      "text/html": [
       "<div>\n",
       "<table border=\"1\" class=\"dataframe\">\n",
       "  <thead>\n",
       "    <tr style=\"text-align: right;\">\n",
       "      <th></th>\n",
       "      <th>Survived</th>\n",
       "      <th>Pclass</th>\n",
       "      <th>Sex</th>\n",
       "      <th>Age</th>\n",
       "      <th>SibSp</th>\n",
       "      <th>Parch</th>\n",
       "      <th>Fare</th>\n",
       "      <th>Embarked</th>\n",
       "      <th>FamilyTot</th>\n",
       "      <th>FamStatus</th>\n",
       "      <th>age_group</th>\n",
       "    </tr>\n",
       "  </thead>\n",
       "  <tbody>\n",
       "    <tr>\n",
       "      <th>0</th>\n",
       "      <td>Died</td>\n",
       "      <td>3rd</td>\n",
       "      <td>male</td>\n",
       "      <td>22.0</td>\n",
       "      <td>1</td>\n",
       "      <td>0</td>\n",
       "      <td>7.2500</td>\n",
       "      <td>S</td>\n",
       "      <td>1</td>\n",
       "      <td>Family</td>\n",
       "      <td>Adult</td>\n",
       "    </tr>\n",
       "    <tr>\n",
       "      <th>1</th>\n",
       "      <td>Lived</td>\n",
       "      <td>1st</td>\n",
       "      <td>female</td>\n",
       "      <td>38.0</td>\n",
       "      <td>1</td>\n",
       "      <td>0</td>\n",
       "      <td>71.2833</td>\n",
       "      <td>C</td>\n",
       "      <td>1</td>\n",
       "      <td>Family</td>\n",
       "      <td>Adult</td>\n",
       "    </tr>\n",
       "    <tr>\n",
       "      <th>2</th>\n",
       "      <td>Lived</td>\n",
       "      <td>3rd</td>\n",
       "      <td>female</td>\n",
       "      <td>26.0</td>\n",
       "      <td>0</td>\n",
       "      <td>0</td>\n",
       "      <td>7.9250</td>\n",
       "      <td>S</td>\n",
       "      <td>0</td>\n",
       "      <td>Single</td>\n",
       "      <td>Adult</td>\n",
       "    </tr>\n",
       "    <tr>\n",
       "      <th>3</th>\n",
       "      <td>Lived</td>\n",
       "      <td>1st</td>\n",
       "      <td>female</td>\n",
       "      <td>35.0</td>\n",
       "      <td>1</td>\n",
       "      <td>0</td>\n",
       "      <td>53.1000</td>\n",
       "      <td>S</td>\n",
       "      <td>1</td>\n",
       "      <td>Family</td>\n",
       "      <td>Adult</td>\n",
       "    </tr>\n",
       "    <tr>\n",
       "      <th>4</th>\n",
       "      <td>Died</td>\n",
       "      <td>3rd</td>\n",
       "      <td>male</td>\n",
       "      <td>35.0</td>\n",
       "      <td>0</td>\n",
       "      <td>0</td>\n",
       "      <td>8.0500</td>\n",
       "      <td>S</td>\n",
       "      <td>0</td>\n",
       "      <td>Single</td>\n",
       "      <td>Adult</td>\n",
       "    </tr>\n",
       "    <tr>\n",
       "      <th>5</th>\n",
       "      <td>Died</td>\n",
       "      <td>3rd</td>\n",
       "      <td>male</td>\n",
       "      <td>NaN</td>\n",
       "      <td>0</td>\n",
       "      <td>0</td>\n",
       "      <td>8.4583</td>\n",
       "      <td>Q</td>\n",
       "      <td>0</td>\n",
       "      <td>Single</td>\n",
       "      <td>Unknown</td>\n",
       "    </tr>\n",
       "    <tr>\n",
       "      <th>6</th>\n",
       "      <td>Died</td>\n",
       "      <td>1st</td>\n",
       "      <td>male</td>\n",
       "      <td>54.0</td>\n",
       "      <td>0</td>\n",
       "      <td>0</td>\n",
       "      <td>51.8625</td>\n",
       "      <td>S</td>\n",
       "      <td>0</td>\n",
       "      <td>Single</td>\n",
       "      <td>Adult</td>\n",
       "    </tr>\n",
       "    <tr>\n",
       "      <th>7</th>\n",
       "      <td>Died</td>\n",
       "      <td>3rd</td>\n",
       "      <td>male</td>\n",
       "      <td>2.0</td>\n",
       "      <td>3</td>\n",
       "      <td>1</td>\n",
       "      <td>21.0750</td>\n",
       "      <td>S</td>\n",
       "      <td>4</td>\n",
       "      <td>Family</td>\n",
       "      <td>Child</td>\n",
       "    </tr>\n",
       "    <tr>\n",
       "      <th>8</th>\n",
       "      <td>Lived</td>\n",
       "      <td>3rd</td>\n",
       "      <td>female</td>\n",
       "      <td>27.0</td>\n",
       "      <td>0</td>\n",
       "      <td>2</td>\n",
       "      <td>11.1333</td>\n",
       "      <td>S</td>\n",
       "      <td>2</td>\n",
       "      <td>Family</td>\n",
       "      <td>Adult</td>\n",
       "    </tr>\n",
       "    <tr>\n",
       "      <th>9</th>\n",
       "      <td>Lived</td>\n",
       "      <td>2nd</td>\n",
       "      <td>female</td>\n",
       "      <td>14.0</td>\n",
       "      <td>1</td>\n",
       "      <td>0</td>\n",
       "      <td>30.0708</td>\n",
       "      <td>C</td>\n",
       "      <td>1</td>\n",
       "      <td>Family</td>\n",
       "      <td>Child</td>\n",
       "    </tr>\n",
       "  </tbody>\n",
       "</table>\n",
       "</div>"
      ],
      "text/plain": [
       "  Survived Pclass     Sex   Age  SibSp  Parch     Fare Embarked  FamilyTot  \\\n",
       "0     Died    3rd    male  22.0      1      0   7.2500        S          1   \n",
       "1    Lived    1st  female  38.0      1      0  71.2833        C          1   \n",
       "2    Lived    3rd  female  26.0      0      0   7.9250        S          0   \n",
       "3    Lived    1st  female  35.0      1      0  53.1000        S          1   \n",
       "4     Died    3rd    male  35.0      0      0   8.0500        S          0   \n",
       "5     Died    3rd    male   NaN      0      0   8.4583        Q          0   \n",
       "6     Died    1st    male  54.0      0      0  51.8625        S          0   \n",
       "7     Died    3rd    male   2.0      3      1  21.0750        S          4   \n",
       "8    Lived    3rd  female  27.0      0      2  11.1333        S          2   \n",
       "9    Lived    2nd  female  14.0      1      0  30.0708        C          1   \n",
       "\n",
       "  FamStatus age_group  \n",
       "0    Family     Adult  \n",
       "1    Family     Adult  \n",
       "2    Single     Adult  \n",
       "3    Family     Adult  \n",
       "4    Single     Adult  \n",
       "5    Single   Unknown  \n",
       "6    Single     Adult  \n",
       "7    Family     Child  \n",
       "8    Family     Adult  \n",
       "9    Family     Child  "
      ]
     },
     "execution_count": 64,
     "metadata": {},
     "output_type": "execute_result"
    }
   ],
   "source": [
    "titanic.head(10) #sanity"
   ]
  },
  {
   "cell_type": "markdown",
   "metadata": {},
   "source": [
    "### Summary of Findings"
   ]
  },
  {
   "cell_type": "markdown",
   "metadata": {},
   "source": [
    "__Survival__\n",
    "* Majority of passengers died (62%)\n",
    "\n",
    "__Sex v. Survival__\n",
    "* Majority of dead were male (85%) | Male = 65% pop\n",
    "* Majority of survivers were female (68%) | Female = 35% pop\n",
    "* 74% of Females survived vs. 19% of Males\n",
    "\n",
    "__Age_Group v. Survival__\n",
    "* Majority of dead and surviving pass were adults (68%, 67%) | adults = 67% of pop\n",
    "* Fairly high death rates among each group - Child(46%), Adult(62%), Unknown(71%)\n",
    "* Survival | Pop Rates\n",
    " * Child (54%) | (13%)\n",
    " * Adult (38%) | (67%)\n",
    " * Unknown (29%) | (20%)\n",
    "\n",
    "__Class v. Survival__\n",
    "* Class breakdown\n",
    " * 1st (24%), 2nd (21%), 3rd (55%)\n",
    "* Class survival rates\n",
    " * 1st (63%), 2nd (47%), 3rd (24%)\n",
    "* Surviving passanger class\n",
    " * 1st (40%), 2nd (25%), 3rd (35%) \n",
    "* 3rd class accounted for 68% of the dead while only making up 55% of the total pop\n",
    "* 3rd class had the highest mortality rate, almost double that of 1st\n",
    "\n",
    "__FamilyStatus v. Survival__\n",
    "* Family (40%) vs. Single (60%)\n",
    "* 51% survival rate w/family vs. 30% Single\n",
    "* 68% of dead passangers were traveling alone\n",
    "\n",
    "__Port v. Survival__\n",
    "* % by port\n",
    " * Cherbourg (19%), Queenstown (9%), Southhampton (72%)\n",
    "* Port Death Rate\n",
    " * Cherbourg (45%), Queenstown (61%), Southhampton (66%)\n",
    "* The majority of those who lived (64%) and died(77%) hailed from Southhampton\n",
    "* 27% of survived were from Cherbourg v. 19% of pop\n",
    "\n",
    "__Fare v. Survival__\n",
    "* Mean Fare (Survivers | Dead)\n",
    "  * \\$48.39 | \\$22.12\n",
    "* Median Fare (Survivers | Dead)\n",
    "  * \\$26 | \\$10.50 \n",
    "* Much larger variation in surviving fares (Survivers | Dead)\n",
    "  * std = \\$66.60 | \\$31.39\n",
    "\n",
    "__Class & Sex v. Survival__\n",
    "* Female \n",
    "  * Death Rate\n",
    "    * 1st (3%), 2nd (8%), 3rd (50%)\n",
    "  * Survival's Class | pop%\n",
    "    * 1st - 39% | 29%\n",
    "    * 2nd - 30% | 24%\n",
    "    * 3rd - 31% | 46%\n",
    " * 89% (72/81) of dead Females came from 3rd class\n",
    "* Male \n",
    "  * Death Rate\n",
    "    * 1st (63%), 2nd (84%), 3rd (86%)\n",
    "  * Survival's Class | pop%\n",
    "    * 1st - 41% | 21% \n",
    "    * 2nd - 16% | 19%\n",
    "    * 3rd - 43% | 60%\n",
    " * 64% (300/468) of dead males came from 3rd class\n",
    " * Apprx. the same amount of men lived from 1st class (45) as 3rd (47)\n",
    "\n",
    "__AgeGroup & Sex v. Survival__\n",
    "* Adult\n",
    "  * Female survival (77%) v. Male survival (18%)\n",
    "  * 58% of dead females | 66% of female pop\n",
    "  * 69% of dead males   | 68% of male pop\n",
    "* Child \n",
    "  * Female survival (69%) v. Male survival (40%)\n",
    "  * 21% of dead females | 18% of female pop\n",
    "  * 8% of dead males    | 10% of male pop\n",
    "* Unknown\n",
    "  * Female Survival (68%) v. Male survival (13%) \n",
    "  * 21% of dead females | 17% of female pop \n",
    "  * 23% of dead males   | 22% of male pop\n",
    "  \n",
    "__Class & AgeGroup v. Survival__\n",
    "* Adult\n",
    "  *  Death\n",
    "    * Rates: 1st (36%) | 2nd (59%) | 3rd (80%)\n",
    "    * 59% (221/372) of dead adults were from 3rd class\n",
    "  * Surviver's class | Total pop%\n",
    "    * 1st 49% | 29%\n",
    "    * 2nd 27% | 25%\n",
    "    * 3rd 24% | 46%\n",
    "* Child\n",
    "  * Death \n",
    "    * Rates: 1st (8%), 2nd (9%), 3rd (63%)\n",
    "    * 94% (49/52) of dead childeren were from 3rd class\n",
    "  * Surviver's Class | Total Pop%\n",
    "    * 1st 18% | 11%\n",
    "    * 2nd 34% | 20%\n",
    "    * 3rd 48% | 69%\n",
    "  * 94% of dead children were from 3rd class  \n",
    "* Unknown\n",
    "  * Death\n",
    "    * Rates: 1st (53%), 2nd (64%), 3rd (75%) \n",
    "    * 82% of dead unknown age_groups were from 3rd class\n",
    "  * Surviver's Class | Total Pop%\n",
    "    * 1st 27% | 17% \n",
    "    * 2nd 8%  | 6%\n",
    "    * 3rd 65% | 77%\n",
    "\n",
    "__Class, AgeGroup, Sex v. Survival__\n",
    "* Death\n",
    "  * Adult Female | Male\n",
    "    * Rates: 1st (3%|63%), 2nd (10%|93%), 3rd (58%|87%)\n",
    "    * 93% (39/42) of dead female adults came from 3rd class | 33% of adult females were from 3rd class\n",
    "    * 56% of dead male adults were 3rd class   | 53% of adult males were 3rd class\n",
    "  * Child Female | Male\n",
    "    * Rates: 1st (13%|0%), 2nd (0%|18%), 3rd (46%|77%)\n",
    "    * 94% (16/17) of dead female children were 3rd class | 64% of female children were 3rd class\n",
    "    * 94% (33/35) of dead male children were 3rd class   | 74% of male children were 3rd class\n",
    "  * Unknown  Female | Male\n",
    "    * Rates: 1st (0%|76%), 2nd (0|78%), 3rd (40%|90%)\n",
    "    * 100% of dead females of unknown age were 3rd class | 58% of females of unknown age were 3rd class\n",
    "    * 79% of dead males of unknown age were 3rd class    | 76% of males of unknown age were 3rd class\n",
    "* Survival \n",
    "  * Breakdown (1% rounding error)\n",
    "    * Adults  \n",
    "     * 1st Class Female | Male: 22% | 10%\n",
    "     * 2nd Class Female | Male: 16% |  2%\n",
    "     * 3rd Class Female | Male:  8% |  8%\n",
    "   * Child\n",
    "     * 1st Class Female | Male:  2% |  1%\n",
    "     * 2nd Class Female | Male:  4% |  3%\n",
    "     * 3rd Class Female | Male:  6% |  3%\n",
    "   * Unknown\n",
    "     * 1st Class Female | Male:  3% |  1%\n",
    "     * 2nd Class Female | Male:  1% |  1%\n",
    "     * 3rd Class Female | Male:  7% |  3%\n",
    "    "
   ]
  },
  {
   "cell_type": "markdown",
   "metadata": {},
   "source": [
    "### Data Analysis"
   ]
  },
  {
   "cell_type": "code",
   "execution_count": 65,
   "metadata": {
    "collapsed": false
   },
   "outputs": [
    {
     "data": {
      "text/plain": [
       "count      891\n",
       "unique       2\n",
       "top       Died\n",
       "freq       549\n",
       "Name: Survived, dtype: object"
      ]
     },
     "execution_count": 65,
     "metadata": {},
     "output_type": "execute_result"
    }
   ],
   "source": [
    "titanic['Survived'].describe()"
   ]
  },
  {
   "cell_type": "code",
   "execution_count": 66,
   "metadata": {
    "collapsed": false
   },
   "outputs": [
    {
     "data": {
      "text/plain": [
       "[Died, Lived]\n",
       "Categories (2, object): [Died, Lived]"
      ]
     },
     "execution_count": 66,
     "metadata": {},
     "output_type": "execute_result"
    }
   ],
   "source": [
    "titanic['Survived'].unique()"
   ]
  },
  {
   "cell_type": "code",
   "execution_count": 67,
   "metadata": {
    "collapsed": false
   },
   "outputs": [
    {
     "name": "stdout",
     "output_type": "stream",
     "text": [
      "\n",
      "-------------Counts------\n",
      " col_0     Count  All\n",
      "Survived            \n",
      "Died        549  549\n",
      "Lived       342  342\n",
      "All         891  891\n",
      "\n",
      "--------%Total-----------\n",
      " col_0        Count       All\n",
      "Survived                    \n",
      "Died      0.616162  0.616162\n",
      "Lived     0.383838  0.383838\n",
      "All       1.000000  1.000000\n"
     ]
    }
   ],
   "source": [
    "freq1_display(titanic['Survived'])"
   ]
  },
  {
   "cell_type": "markdown",
   "metadata": {},
   "source": [
    "_Survived by Sex__"
   ]
  },
  {
   "cell_type": "code",
   "execution_count": 68,
   "metadata": {
    "collapsed": false
   },
   "outputs": [
    {
     "name": "stdout",
     "output_type": "stream",
     "text": [
      "\n",
      "-------Counts-------\n",
      "            female  male  RowTotals\n",
      "Died           81   468        549\n",
      "Lived         233   109        342\n",
      "ColTotals     314   577        891\n",
      "\n",
      "-------Row%--------\n",
      "              female      male  RowTotals\n",
      "Died       0.147541  0.852459        1.0\n",
      "Lived      0.681287  0.318713        1.0\n",
      "ColTotals  0.352413  0.647587        1.0\n",
      "\n",
      "-------Col%---------\n",
      "\n",
      "              female      male  RowTotals\n",
      "Died       0.257962  0.811092   0.616162\n",
      "Lived      0.742038  0.188908   0.383838\n",
      "ColTotals  1.000000  1.000000   1.000000\n",
      "\n",
      "------Stacked Bar Graph------\n",
      " Axes(0.125,0.125;0.775x0.755)\n"
     ]
    },
    {
     "data": {
      "image/png": "[encoded data removed]",
      "text/plain": [
       "<matplotlib.figure.Figure at 0x11b3241d0>"
      ]
     },
     "metadata": {},
     "output_type": "display_data"
    }
   ],
   "source": [
    "freq2_display(titanic['Survived'], titanic['Sex'])"
   ]
  },
  {
   "cell_type": "markdown",
   "metadata": {},
   "source": [
    "_Sex & Class_"
   ]
  },
  {
   "cell_type": "code",
   "execution_count": 69,
   "metadata": {
    "collapsed": false
   },
   "outputs": [
    {
     "name": "stdout",
     "output_type": "stream",
     "text": [
      "\n",
      "-------Counts-------\n",
      "            1st  2nd  3rd  RowTotals\n",
      "female      94   76  144        314\n",
      "male       122  108  347        577\n",
      "ColTotals  216  184  491        891\n",
      "\n",
      "-------Row%--------\n",
      "                 1st       2nd       3rd  RowTotals\n",
      "female     0.299363  0.242038  0.458599        1.0\n",
      "male       0.211438  0.187175  0.601386        1.0\n",
      "ColTotals  0.242424  0.206510  0.551066        1.0\n",
      "\n",
      "-------Col%---------\n",
      "\n",
      "                 1st       2nd       3rd  RowTotals\n",
      "female     0.435185  0.413043  0.293279   0.352413\n",
      "male       0.564815  0.586957  0.706721   0.647587\n",
      "ColTotals  1.000000  1.000000  1.000000   1.000000\n",
      "\n",
      "------Stacked Bar Graph------\n",
      " Axes(0.125,0.125;0.775x0.755)\n"
     ]
    },
    {
     "data": {
      "image/png": "[encoded data removed]",
      "text/plain": [
       "<matplotlib.figure.Figure at 0x119db2828>"
      ]
     },
     "metadata": {},
     "output_type": "display_data"
    }
   ],
   "source": [
    "freq2_display(titanic['Sex'], titanic['Pclass'])"
   ]
  },
  {
   "cell_type": "markdown",
   "metadata": {},
   "source": [
    "_Sex & Age Group_"
   ]
  },
  {
   "cell_type": "code",
   "execution_count": 70,
   "metadata": {
    "collapsed": false
   },
   "outputs": [
    {
     "name": "stdout",
     "output_type": "stream",
     "text": [
      "\n",
      "-------Counts-------\n",
      "            Child  Adult  Unknown  RowTotals\n",
      "female        55    206       53        314\n",
      "male          58    395      124        577\n",
      "ColTotals    113    601      177        891\n",
      "\n",
      "-------Row%--------\n",
      "               Child     Adult   Unknown  RowTotals\n",
      "female     0.175159  0.656051  0.168790        1.0\n",
      "male       0.100520  0.684575  0.214905        1.0\n",
      "ColTotals  0.126824  0.674523  0.198653        1.0\n",
      "\n",
      "-------Col%---------\n",
      "\n",
      "               Child     Adult   Unknown  RowTotals\n",
      "female     0.486726  0.342762  0.299435   0.352413\n",
      "male       0.513274  0.657238  0.700565   0.647587\n",
      "ColTotals  1.000000  1.000000  1.000000   1.000000\n",
      "\n",
      "------Stacked Bar Graph------\n",
      " Axes(0.125,0.125;0.775x0.755)\n"
     ]
    },
    {
     "data": {
      "image/png": "[encoded data removed]",
      "text/plain": [
       "<matplotlib.figure.Figure at 0x11a626208>"
      ]
     },
     "metadata": {},
     "output_type": "display_data"
    }
   ],
   "source": [
    "freq2_display(titanic['Sex'], titanic['age_group'])"
   ]
  },
  {
   "cell_type": "markdown",
   "metadata": {},
   "source": [
    "_Survived by AgeGroup_"
   ]
  },
  {
   "cell_type": "code",
   "execution_count": 71,
   "metadata": {
    "collapsed": false
   },
   "outputs": [
    {
     "name": "stdout",
     "output_type": "stream",
     "text": [
      "\n",
      "-------Counts-------\n",
      "            Child  Adult  Unknown  RowTotals\n",
      "Died          52    372      125        549\n",
      "Lived         61    229       52        342\n",
      "ColTotals    113    601      177        891\n",
      "\n",
      "-------Row%--------\n",
      "               Child     Adult   Unknown  RowTotals\n",
      "Died       0.094718  0.677596  0.227687        1.0\n",
      "Lived      0.178363  0.669591  0.152047        1.0\n",
      "ColTotals  0.126824  0.674523  0.198653        1.0\n",
      "\n",
      "-------Col%---------\n",
      "\n",
      "               Child     Adult   Unknown  RowTotals\n",
      "Died       0.460177  0.618968  0.706215   0.616162\n",
      "Lived      0.539823  0.381032  0.293785   0.383838\n",
      "ColTotals  1.000000  1.000000  1.000000   1.000000\n",
      "\n",
      "------Stacked Bar Graph------\n",
      " Axes(0.125,0.125;0.775x0.755)\n"
     ]
    },
    {
     "data": {
      "image/png": "[encoded data removed]",
      "text/plain": [
       "<matplotlib.figure.Figure at 0x11a525668>"
      ]
     },
     "metadata": {},
     "output_type": "display_data"
    }
   ],
   "source": [
    "freq2_display(titanic['Survived'], titanic['age_group'])"
   ]
  },
  {
   "cell_type": "markdown",
   "metadata": {},
   "source": [
    "_Class & Age Group_"
   ]
  },
  {
   "cell_type": "code",
   "execution_count": 72,
   "metadata": {
    "collapsed": false
   },
   "outputs": [
    {
     "name": "stdout",
     "output_type": "stream",
     "text": [
      "\n",
      "-------Counts-------\n",
      "            Child  Adult  Unknown  RowTotals\n",
      "1st           12    174       30        216\n",
      "2nd           23    150       11        184\n",
      "3rd           78    277      136        491\n",
      "ColTotals    113    601      177        891\n",
      "\n",
      "-------Row%--------\n",
      "               Child     Adult   Unknown  RowTotals\n",
      "1st        0.055556  0.805556  0.138889        1.0\n",
      "2nd        0.125000  0.815217  0.059783        1.0\n",
      "3rd        0.158859  0.564155  0.276986        1.0\n",
      "ColTotals  0.126824  0.674523  0.198653        1.0\n",
      "\n",
      "-------Col%---------\n",
      "\n",
      "               Child     Adult   Unknown  RowTotals\n",
      "1st        0.106195  0.289517  0.169492   0.242424\n",
      "2nd        0.203540  0.249584  0.062147   0.206510\n",
      "3rd        0.690265  0.460899  0.768362   0.551066\n",
      "ColTotals  1.000000  1.000000  1.000000   1.000000\n",
      "\n",
      "------Stacked Bar Graph------\n",
      " Axes(0.125,0.125;0.775x0.755)\n"
     ]
    },
    {
     "data": {
      "image/png": "[encoded data removed]",
      "text/plain": [
       "<matplotlib.figure.Figure at 0x11b0db080>"
      ]
     },
     "metadata": {},
     "output_type": "display_data"
    }
   ],
   "source": [
    "freq2_display(titanic['Pclass'], titanic['age_group'])"
   ]
  },
  {
   "cell_type": "markdown",
   "metadata": {},
   "source": [
    "_Survived by Age_"
   ]
  },
  {
   "cell_type": "code",
   "execution_count": 73,
   "metadata": {
    "collapsed": false
   },
   "outputs": [
    {
     "name": "stdout",
     "output_type": "stream",
     "text": [
      "--------Lived------\n",
      " count    290.000000\n",
      "mean      28.343690\n",
      "std       14.950952\n",
      "min        0.420000\n",
      "25%       19.000000\n",
      "50%       28.000000\n",
      "75%       36.000000\n",
      "max       80.000000\n",
      "Name: Age, dtype: float64\n",
      "\n",
      "--------Died--------\n",
      " count    424.000000\n",
      "mean      30.626179\n",
      "std       14.172110\n",
      "min        1.000000\n",
      "25%       21.000000\n",
      "50%       28.000000\n",
      "75%       39.000000\n",
      "max       74.000000\n",
      "Name: Age, dtype: float64\n"
     ]
    }
   ],
   "source": [
    "lived_age = titanic['Age'][titanic['Survived'] == 'Lived'].reset_index(drop=True)\n",
    "died_age = titanic['Age'][titanic['Survived'] == 'Died'].reset_index(drop=True)\n",
    "\n",
    "print('--------Lived------\\n', lived_age.describe(), end='\\n\\n')\n",
    "print('--------Died--------\\n',died_age.describe())"
   ]
  },
  {
   "cell_type": "code",
   "execution_count": 74,
   "metadata": {
    "collapsed": false
   },
   "outputs": [
    {
     "data": {
      "text/plain": [
       "<matplotlib.axes._subplots.AxesSubplot at 0x11b05b780>"
      ]
     },
     "execution_count": 74,
     "metadata": {},
     "output_type": "execute_result"
    },
    {
     "data": {
      "image/png": "[encoded data removed]",
      "text/plain": [
       "<matplotlib.figure.Figure at 0x1197712b0>"
      ]
     },
     "metadata": {},
     "output_type": "display_data"
    }
   ],
   "source": [
    "sns.boxplot(data=[lived_age, died_age])"
   ]
  },
  {
   "cell_type": "markdown",
   "metadata": {},
   "source": [
    "__Survival by Class_"
   ]
  },
  {
   "cell_type": "code",
   "execution_count": 75,
   "metadata": {
    "collapsed": false
   },
   "outputs": [
    {
     "name": "stdout",
     "output_type": "stream",
     "text": [
      "\n",
      "-------Counts-------\n",
      "            1st  2nd  3rd  RowTotals\n",
      "Died        80   97  372        549\n",
      "Lived      136   87  119        342\n",
      "ColTotals  216  184  491        891\n",
      "\n",
      "-------Row%--------\n",
      "                 1st       2nd       3rd  RowTotals\n",
      "Died       0.145719  0.176685  0.677596        1.0\n",
      "Lived      0.397661  0.254386  0.347953        1.0\n",
      "ColTotals  0.242424  0.206510  0.551066        1.0\n",
      "\n",
      "-------Col%---------\n",
      "\n",
      "                1st       2nd       3rd  RowTotals\n",
      "Died       0.37037  0.527174  0.757637   0.616162\n",
      "Lived      0.62963  0.472826  0.242363   0.383838\n",
      "ColTotals  1.00000  1.000000  1.000000   1.000000\n",
      "\n",
      "------Stacked Bar Graph------\n",
      " Axes(0.125,0.125;0.775x0.755)\n"
     ]
    },
    {
     "data": {
      "image/png": "[encoded data removed]",
      "text/plain": [
       "<matplotlib.figure.Figure at 0x11a829c50>"
      ]
     },
     "metadata": {},
     "output_type": "display_data"
    }
   ],
   "source": [
    "freq2_display(titanic['Survived'], titanic['Pclass'])"
   ]
  },
  {
   "cell_type": "markdown",
   "metadata": {},
   "source": [
    "_Survival by FamilyStatus_"
   ]
  },
  {
   "cell_type": "code",
   "execution_count": 76,
   "metadata": {
    "collapsed": false
   },
   "outputs": [
    {
     "name": "stdout",
     "output_type": "stream",
     "text": [
      "\n",
      "-------Counts-------\n",
      "            Single  Family  RowTotals\n",
      "Died          374     175        549\n",
      "Lived         163     179        342\n",
      "ColTotals     537     354        891\n",
      "\n",
      "-------Row%--------\n",
      "              Single    Family  RowTotals\n",
      "Died       0.681239  0.318761        1.0\n",
      "Lived      0.476608  0.523392        1.0\n",
      "ColTotals  0.602694  0.397306        1.0\n",
      "\n",
      "-------Col%---------\n",
      "\n",
      "              Single   Family  RowTotals\n",
      "Died       0.696462  0.49435   0.616162\n",
      "Lived      0.303538  0.50565   0.383838\n",
      "ColTotals  1.000000  1.00000   1.000000\n",
      "\n",
      "------Stacked Bar Graph------\n",
      " Axes(0.125,0.125;0.775x0.755)\n"
     ]
    },
    {
     "data": {
      "image/png": "[encoded data removed]",
      "text/plain": [
       "<matplotlib.figure.Figure at 0x11b292550>"
      ]
     },
     "metadata": {},
     "output_type": "display_data"
    }
   ],
   "source": [
    "freq2_display(titanic['Survived'], titanic['FamStatus'])"
   ]
  },
  {
   "cell_type": "markdown",
   "metadata": {},
   "source": [
    "_Survival by Port_"
   ]
  },
  {
   "cell_type": "code",
   "execution_count": 77,
   "metadata": {
    "collapsed": false
   },
   "outputs": [
    {
     "name": "stdout",
     "output_type": "stream",
     "text": [
      "\n",
      "-------Counts-------\n",
      "              C   Q    S  RowTotals\n",
      "Died        75  47  427        549\n",
      "Lived       93  30  217        340\n",
      "ColTotals  168  77  644        889\n",
      "\n",
      "-------Row%--------\n",
      "                   C         Q         S  RowTotals\n",
      "Died       0.136612  0.085610  0.777778        1.0\n",
      "Lived      0.273529  0.088235  0.638235        1.0\n",
      "ColTotals  0.188976  0.086614  0.724409        1.0\n",
      "\n",
      "-------Col%---------\n",
      "\n",
      "                   C        Q         S  RowTotals\n",
      "Died       0.446429  0.61039  0.663043   0.617548\n",
      "Lived      0.553571  0.38961  0.336957   0.382452\n",
      "ColTotals  1.000000  1.00000  1.000000   1.000000\n",
      "\n",
      "------Stacked Bar Graph------\n",
      " Axes(0.125,0.125;0.775x0.755)\n"
     ]
    },
    {
     "data": {
      "image/png": "[encoded data removed]",
      "text/plain": [
       "<matplotlib.figure.Figure at 0x11a4fc8d0>"
      ]
     },
     "metadata": {},
     "output_type": "display_data"
    }
   ],
   "source": [
    "freq2_display(titanic['Survived'], titanic['Embarked'])"
   ]
  },
  {
   "cell_type": "markdown",
   "metadata": {},
   "source": [
    "_Survival by Fare_"
   ]
  },
  {
   "cell_type": "code",
   "execution_count": 78,
   "metadata": {
    "collapsed": false
   },
   "outputs": [
    {
     "name": "stdout",
     "output_type": "stream",
     "text": [
      "\n",
      "--------------Lived-----------\n",
      " count    342.000000\n",
      "mean      48.395408\n",
      "std       66.596998\n",
      "min        0.000000\n",
      "25%       12.475000\n",
      "50%       26.000000\n",
      "75%       57.000000\n",
      "max      512.329200\n",
      "Name: Fare, dtype: float64\n",
      "\n",
      "--------------Died-------------\n",
      " count    549.000000\n",
      "mean      22.117887\n",
      "std       31.388207\n",
      "min        0.000000\n",
      "25%        7.854200\n",
      "50%       10.500000\n",
      "75%       26.000000\n",
      "max      263.000000\n",
      "Name: Fare, dtype: float64\n"
     ]
    }
   ],
   "source": [
    "lived_fares = titanic['Fare'][titanic['Survived']=='Lived'].reset_index(drop=True)\n",
    "died_fares = titanic['Fare'][titanic['Survived']=='Died'].reset_index(drop=True)\n",
    "\n",
    "print('\\n--------------Lived-----------\\n', lived_fares.describe())\n",
    "print('\\n--------------Died-------------\\n', died_fares.describe())"
   ]
  },
  {
   "cell_type": "code",
   "execution_count": 79,
   "metadata": {
    "collapsed": false
   },
   "outputs": [
    {
     "data": {
      "text/plain": [
       "<matplotlib.axes._subplots.AxesSubplot at 0x11a8c5f98>"
      ]
     },
     "execution_count": 79,
     "metadata": {},
     "output_type": "execute_result"
    },
    {
     "data": {
      "image/png": "[encoded data removed]",
      "text/plain": [
       "<matplotlib.figure.Figure at 0x116380668>"
      ]
     },
     "metadata": {},
     "output_type": "display_data"
    }
   ],
   "source": [
    "sns.boxplot(data=[lived_fares, died_fares])"
   ]
  },
  {
   "cell_type": "code",
   "execution_count": 80,
   "metadata": {
    "collapsed": false
   },
   "outputs": [
    {
     "data": {
      "text/plain": [
       "<matplotlib.axes._subplots.AxesSubplot at 0x11b08f9e8>"
      ]
     },
     "execution_count": 80,
     "metadata": {},
     "output_type": "execute_result"
    },
    {
     "data": {
      "image/png": "[encoded data removed]",
      "text/plain": [
       "<matplotlib.figure.Figure at 0x119f6e3c8>"
      ]
     },
     "metadata": {},
     "output_type": "display_data"
    }
   ],
   "source": [
    "sns.distplot(lived_fares, rug=True)"
   ]
  },
  {
   "cell_type": "code",
   "execution_count": 81,
   "metadata": {
    "collapsed": false
   },
   "outputs": [
    {
     "data": {
      "text/plain": [
       "<matplotlib.axes._subplots.AxesSubplot at 0x11b6a0f28>"
      ]
     },
     "execution_count": 81,
     "metadata": {},
     "output_type": "execute_result"
    },
    {
     "data": {
      "image/png": "[encoded data removed]",
      "text/plain": [
       "<matplotlib.figure.Figure at 0x11b6b2630>"
      ]
     },
     "metadata": {},
     "output_type": "display_data"
    }
   ],
   "source": [
    "sns.distplot(died_fares, rug=True)"
   ]
  },
  {
   "cell_type": "markdown",
   "metadata": {},
   "source": [
    "_Survival by Class & Sex_"
   ]
  },
  {
   "cell_type": "code",
   "execution_count": 82,
   "metadata": {
    "collapsed": false
   },
   "outputs": [
    {
     "name": "stdout",
     "output_type": "stream",
     "text": [
      "\n",
      "------------Counts----------\n",
      " Pclass      1st         2nd         3rd       All\n",
      "Sex      female male female male female male     \n",
      "Survived                                         \n",
      "Died          3   77      6   91     72  300  549\n",
      "Lived        91   45     70   17     72   47  342\n",
      "All          94  122     76  108    144  347  891\n",
      "\n",
      "-----------Col%--------------\n",
      " Pclass         1st                 2nd              3rd                 All\n",
      "Sex         female      male    female      male female      male          \n",
      "Survived                                                                   \n",
      "Died      0.031915  0.631148  0.078947  0.842593    0.5  0.864553  0.616162\n",
      "Lived     0.968085  0.368852  0.921053  0.157407    0.5  0.135447  0.383838\n",
      "All       1.000000  1.000000  1.000000  1.000000    1.0  1.000000  1.000000\n"
     ]
    }
   ],
   "source": [
    "freq3_display(titanic['Survived'],titanic['Pclass'],titanic['Sex'])"
   ]
  },
  {
   "cell_type": "markdown",
   "metadata": {},
   "source": [
    "_Survival by AgeGroup & Sex_"
   ]
  },
  {
   "cell_type": "code",
   "execution_count": 83,
   "metadata": {
    "collapsed": false
   },
   "outputs": [
    {
     "name": "stdout",
     "output_type": "stream",
     "text": [
      "\n",
      "------------Counts----------\n",
      " age_group  Child       Adult      Unknown       All\n",
      "Sex       female male female male  female male     \n",
      "Survived                                           \n",
      "Died          17   35     47  325      17  108  549\n",
      "Lived         38   23    159   70      36   16  342\n",
      "All           55   58    206  395      53  124  891\n",
      "\n",
      "-----------Col%--------------\n",
      " age_group     Child               Adult             Unknown            \\\n",
      "Sex          female      male    female      male    female      male   \n",
      "Survived                                                                \n",
      "Died       0.309091  0.603448  0.228155  0.822785  0.320755  0.870968   \n",
      "Lived      0.690909  0.396552  0.771845  0.177215  0.679245  0.129032   \n",
      "All        1.000000  1.000000  1.000000  1.000000  1.000000  1.000000   \n",
      "\n",
      "age_group       All  \n",
      "Sex                  \n",
      "Survived             \n",
      "Died       0.616162  \n",
      "Lived      0.383838  \n",
      "All        1.000000  \n"
     ]
    }
   ],
   "source": [
    "freq3_display(titanic['Survived'], titanic['age_group'], titanic['Sex'])"
   ]
  },
  {
   "cell_type": "markdown",
   "metadata": {},
   "source": [
    "_Survival by Class & AgeGroup_"
   ]
  },
  {
   "cell_type": "code",
   "execution_count": 84,
   "metadata": {
    "collapsed": false
   },
   "outputs": [
    {
     "name": "stdout",
     "output_type": "stream",
     "text": [
      "\n",
      "------------Counts----------\n",
      " Pclass      1st                 2nd                 3rd                All\n",
      "age_group Child Adult Unknown Child Adult Unknown Child Adult Unknown     \n",
      "Survived                                                                  \n",
      "Died          1    63      16     2    88       7    49   221     102  549\n",
      "Lived        11   111      14    21    62       4    29    56      34  342\n",
      "All          12   174      30    23   150      11    78   277     136  891\n",
      "\n",
      "-----------Col%--------------\n",
      " Pclass          1st                           2nd                      \\\n",
      "age_group     Child     Adult   Unknown     Child     Adult   Unknown   \n",
      "Survived                                                                \n",
      "Died       0.083333  0.362069  0.533333  0.086957  0.586667  0.636364   \n",
      "Lived      0.916667  0.637931  0.466667  0.913043  0.413333  0.363636   \n",
      "All        1.000000  1.000000  1.000000  1.000000  1.000000  1.000000   \n",
      "\n",
      "Pclass          3rd                         All  \n",
      "age_group     Child     Adult Unknown            \n",
      "Survived                                         \n",
      "Died       0.628205  0.797834    0.75  0.616162  \n",
      "Lived      0.371795  0.202166    0.25  0.383838  \n",
      "All        1.000000  1.000000    1.00  1.000000  \n"
     ]
    }
   ],
   "source": [
    "freq3_display(titanic['Survived'], titanic['Pclass'], titanic['age_group'])"
   ]
  },
  {
   "cell_type": "markdown",
   "metadata": {},
   "source": [
    "_Survival by Class, Sex, AgeGroup_"
   ]
  },
  {
   "cell_type": "code",
   "execution_count": 85,
   "metadata": {
    "collapsed": false
   },
   "outputs": [
    {
     "name": "stdout",
     "output_type": "stream",
     "text": [
      "\n",
      "----------Counts---------\n",
      "\n",
      " Pclass       1st                                  2nd                   \\\n",
      "age_group  Child       Adult      Unknown       Child       Adult        \n",
      "Sex       female male female male  female male female male female male   \n",
      "Survived                                                                 \n",
      "Died           1    0      2   61       0   16      0    2      6   82   \n",
      "Lived          7    4     75   36       9    5     12    9     56    6   \n",
      "All            8    4     77   97       9   21     12   11     62   88   \n",
      "\n",
      "Pclass                    3rd                                All  \n",
      "age_group Unknown       Child       Adult      Unknown            \n",
      "Sex        female male female male female male  female male       \n",
      "Survived                                                          \n",
      "Died            0    7     16   33     39  182      17   85  549  \n",
      "Lived           2    2     19   10     28   28      25    9  342  \n",
      "All             2    9     35   43     67  210      42   94  891  \n",
      "\n",
      "---------------Col%----------\n",
      " Pclass       1st                                               2nd            \\\n",
      "age_group  Child          Adult           Unknown            Child             \n",
      "Sex       female male    female      male  female      male female      male   \n",
      "Survived                                                                       \n",
      "Died       0.125  0.0  0.025974  0.628866     0.0  0.761905    0.0  0.181818   \n",
      "Lived      0.875  1.0  0.974026  0.371134     1.0  0.238095    1.0  0.818182   \n",
      "All        1.000  1.0  1.000000  1.000000     1.0  1.000000    1.0  1.000000   \n",
      "\n",
      "Pclass                                                3rd                     \\\n",
      "age_group     Adult           Unknown               Child              Adult   \n",
      "Sex          female      male  female      male    female      male   female   \n",
      "Survived                                                                       \n",
      "Died       0.096774  0.931818     0.0  0.777778  0.457143  0.767442  0.58209   \n",
      "Lived      0.903226  0.068182     1.0  0.222222  0.542857  0.232558  0.41791   \n",
      "All        1.000000  1.000000     1.0  1.000000  1.000000  1.000000  1.00000   \n",
      "\n",
      "Pclass                                        All  \n",
      "age_group             Unknown                      \n",
      "Sex            male    female      male            \n",
      "Survived                                           \n",
      "Died       0.866667  0.404762  0.904255  0.616162  \n",
      "Lived      0.133333  0.595238  0.095745  0.383838  \n",
      "All        1.000000  1.000000  1.000000  1.000000  \n"
     ]
    }
   ],
   "source": [
    "freq4_display(titanic['Survived'],titanic['Pclass'],titanic['age_group'],titanic['Sex'])"
   ]
  },
  {
   "cell_type": "code",
   "execution_count": 86,
   "metadata": {
    "collapsed": false
   },
   "outputs": [
    {
     "data": {
      "text/html": [
       "<div>\n",
       "<table border=\"1\" class=\"dataframe\">\n",
       "  <thead>\n",
       "    <tr>\n",
       "      <th>age_group</th>\n",
       "      <th colspan=\"2\" halign=\"left\">Child</th>\n",
       "      <th colspan=\"2\" halign=\"left\">Adult</th>\n",
       "      <th colspan=\"2\" halign=\"left\">Unknown</th>\n",
       "    </tr>\n",
       "    <tr>\n",
       "      <th>Sex</th>\n",
       "      <th>female</th>\n",
       "      <th>male</th>\n",
       "      <th>female</th>\n",
       "      <th>male</th>\n",
       "      <th>female</th>\n",
       "      <th>male</th>\n",
       "    </tr>\n",
       "    <tr>\n",
       "      <th>Survived</th>\n",
       "      <th></th>\n",
       "      <th></th>\n",
       "      <th></th>\n",
       "      <th></th>\n",
       "      <th></th>\n",
       "      <th></th>\n",
       "    </tr>\n",
       "  </thead>\n",
       "  <tbody>\n",
       "    <tr>\n",
       "      <th>Died</th>\n",
       "      <td>0.125</td>\n",
       "      <td>0.0</td>\n",
       "      <td>0.025974</td>\n",
       "      <td>0.628866</td>\n",
       "      <td>0.0</td>\n",
       "      <td>0.761905</td>\n",
       "    </tr>\n",
       "    <tr>\n",
       "      <th>Lived</th>\n",
       "      <td>0.875</td>\n",
       "      <td>1.0</td>\n",
       "      <td>0.974026</td>\n",
       "      <td>0.371134</td>\n",
       "      <td>1.0</td>\n",
       "      <td>0.238095</td>\n",
       "    </tr>\n",
       "    <tr>\n",
       "      <th>All</th>\n",
       "      <td>1.000</td>\n",
       "      <td>1.0</td>\n",
       "      <td>1.000000</td>\n",
       "      <td>1.000000</td>\n",
       "      <td>1.0</td>\n",
       "      <td>1.000000</td>\n",
       "    </tr>\n",
       "  </tbody>\n",
       "</table>\n",
       "</div>"
      ],
      "text/plain": [
       "age_group  Child          Adult           Unknown          \n",
       "Sex       female male    female      male  female      male\n",
       "Survived                                                   \n",
       "Died       0.125  0.0  0.025974  0.628866     0.0  0.761905\n",
       "Lived      0.875  1.0  0.974026  0.371134     1.0  0.238095\n",
       "All        1.000  1.0  1.000000  1.000000     1.0  1.000000"
      ]
     },
     "execution_count": 86,
     "metadata": {},
     "output_type": "execute_result"
    }
   ],
   "source": [
    "surv_class_sex_age = freq4_store(titanic['Survived'],titanic['Pclass'],titanic['age_group'],titanic['Sex'])\n",
    "\n",
    "surv_class_sex_age[1]['1st']/surv_class_sex_age[1]['1st'].ix['All']\n"
   ]
  },
  {
   "cell_type": "code",
   "execution_count": 87,
   "metadata": {
    "collapsed": false
   },
   "outputs": [
    {
     "data": {
      "text/html": [
       "<div>\n",
       "<table border=\"1\" class=\"dataframe\">\n",
       "  <thead>\n",
       "    <tr>\n",
       "      <th>age_group</th>\n",
       "      <th colspan=\"2\" halign=\"left\">Child</th>\n",
       "      <th colspan=\"2\" halign=\"left\">Adult</th>\n",
       "      <th colspan=\"2\" halign=\"left\">Unknown</th>\n",
       "    </tr>\n",
       "    <tr>\n",
       "      <th>Sex</th>\n",
       "      <th>female</th>\n",
       "      <th>male</th>\n",
       "      <th>female</th>\n",
       "      <th>male</th>\n",
       "      <th>female</th>\n",
       "      <th>male</th>\n",
       "    </tr>\n",
       "    <tr>\n",
       "      <th>Survived</th>\n",
       "      <th></th>\n",
       "      <th></th>\n",
       "      <th></th>\n",
       "      <th></th>\n",
       "      <th></th>\n",
       "      <th></th>\n",
       "    </tr>\n",
       "  </thead>\n",
       "  <tbody>\n",
       "    <tr>\n",
       "      <th>Died</th>\n",
       "      <td>0.0</td>\n",
       "      <td>0.181818</td>\n",
       "      <td>0.096774</td>\n",
       "      <td>0.931818</td>\n",
       "      <td>0.0</td>\n",
       "      <td>0.777778</td>\n",
       "    </tr>\n",
       "    <tr>\n",
       "      <th>Lived</th>\n",
       "      <td>1.0</td>\n",
       "      <td>0.818182</td>\n",
       "      <td>0.903226</td>\n",
       "      <td>0.068182</td>\n",
       "      <td>1.0</td>\n",
       "      <td>0.222222</td>\n",
       "    </tr>\n",
       "    <tr>\n",
       "      <th>All</th>\n",
       "      <td>1.0</td>\n",
       "      <td>1.000000</td>\n",
       "      <td>1.000000</td>\n",
       "      <td>1.000000</td>\n",
       "      <td>1.0</td>\n",
       "      <td>1.000000</td>\n",
       "    </tr>\n",
       "  </tbody>\n",
       "</table>\n",
       "</div>"
      ],
      "text/plain": [
       "age_group  Child               Adult           Unknown          \n",
       "Sex       female      male    female      male  female      male\n",
       "Survived                                                        \n",
       "Died         0.0  0.181818  0.096774  0.931818     0.0  0.777778\n",
       "Lived        1.0  0.818182  0.903226  0.068182     1.0  0.222222\n",
       "All          1.0  1.000000  1.000000  1.000000     1.0  1.000000"
      ]
     },
     "execution_count": 87,
     "metadata": {},
     "output_type": "execute_result"
    }
   ],
   "source": [
    "surv_class_sex_age[1]['2nd']/surv_class_sex_age[1]['2nd'].ix['All']"
   ]
  },
  {
   "cell_type": "code",
   "execution_count": 88,
   "metadata": {
    "collapsed": false
   },
   "outputs": [
    {
     "data": {
      "text/html": [
       "<div>\n",
       "<table border=\"1\" class=\"dataframe\">\n",
       "  <thead>\n",
       "    <tr>\n",
       "      <th>age_group</th>\n",
       "      <th colspan=\"2\" halign=\"left\">Child</th>\n",
       "      <th colspan=\"2\" halign=\"left\">Adult</th>\n",
       "      <th colspan=\"2\" halign=\"left\">Unknown</th>\n",
       "    </tr>\n",
       "    <tr>\n",
       "      <th>Sex</th>\n",
       "      <th>female</th>\n",
       "      <th>male</th>\n",
       "      <th>female</th>\n",
       "      <th>male</th>\n",
       "      <th>female</th>\n",
       "      <th>male</th>\n",
       "    </tr>\n",
       "    <tr>\n",
       "      <th>Survived</th>\n",
       "      <th></th>\n",
       "      <th></th>\n",
       "      <th></th>\n",
       "      <th></th>\n",
       "      <th></th>\n",
       "      <th></th>\n",
       "    </tr>\n",
       "  </thead>\n",
       "  <tbody>\n",
       "    <tr>\n",
       "      <th>Died</th>\n",
       "      <td>0.457143</td>\n",
       "      <td>0.767442</td>\n",
       "      <td>0.58209</td>\n",
       "      <td>0.866667</td>\n",
       "      <td>0.404762</td>\n",
       "      <td>0.904255</td>\n",
       "    </tr>\n",
       "    <tr>\n",
       "      <th>Lived</th>\n",
       "      <td>0.542857</td>\n",
       "      <td>0.232558</td>\n",
       "      <td>0.41791</td>\n",
       "      <td>0.133333</td>\n",
       "      <td>0.595238</td>\n",
       "      <td>0.095745</td>\n",
       "    </tr>\n",
       "    <tr>\n",
       "      <th>All</th>\n",
       "      <td>1.000000</td>\n",
       "      <td>1.000000</td>\n",
       "      <td>1.00000</td>\n",
       "      <td>1.000000</td>\n",
       "      <td>1.000000</td>\n",
       "      <td>1.000000</td>\n",
       "    </tr>\n",
       "  </tbody>\n",
       "</table>\n",
       "</div>"
      ],
      "text/plain": [
       "age_group     Child              Adult             Unknown          \n",
       "Sex          female      male   female      male    female      male\n",
       "Survived                                                            \n",
       "Died       0.457143  0.767442  0.58209  0.866667  0.404762  0.904255\n",
       "Lived      0.542857  0.232558  0.41791  0.133333  0.595238  0.095745\n",
       "All        1.000000  1.000000  1.00000  1.000000  1.000000  1.000000"
      ]
     },
     "execution_count": 88,
     "metadata": {},
     "output_type": "execute_result"
    }
   ],
   "source": [
    "surv_class_sex_age[1]['3rd']/surv_class_sex_age[1]['3rd'].ix['All']"
   ]
  }
 ],
 "metadata": {
  "anaconda-cloud": {},
  "kernelspec": {
   "display_name": "Python [conda env:udacity_p2]",
   "language": "python",
   "name": "conda-env-udacity_p2-py"
  },
  "language_info": {
   "codemirror_mode": {
    "name": "ipython",
    "version": 3
   },
   "file_extension": ".py",
   "mimetype": "text/x-python",
   "name": "python",
   "nbconvert_exporter": "python",
   "pygments_lexer": "ipython3",
   "version": "3.6.1"
  }
 },
 "nbformat": 4,
 "nbformat_minor": 2
}
