{
 "cells": [
  {
   "cell_type": "markdown",
   "metadata": {
    "deletable": true,
    "editable": true
   },
   "source": [
    "# Setup"
   ]
  },
  {
   "cell_type": "code",
   "execution_count": 86,
   "metadata": {
    "collapsed": false,
    "deletable": true,
    "editable": true
   },
   "outputs": [
    {
     "name": "stdout",
     "output_type": "stream",
     "text": [
      "Populating the interactive namespace from numpy and matplotlib\n"
     ]
    }
   ],
   "source": [
    "import numpy as np\n",
    "import pandas as pd\n",
    "import seaborn as sns\n",
    "\n",
    "import io\n",
    "from nbformat import current\n",
    "\n",
    "%pylab inline"
   ]
  },
  {
   "cell_type": "code",
   "execution_count": 208,
   "metadata": {
    "collapsed": false,
    "deletable": true,
    "editable": true
   },
   "outputs": [],
   "source": [
    "#Import notebook with analysis methods\n",
    "\n",
    "def execute_notebook(nbfile):\n",
    "    \n",
    "    with io.open(nbfile) as f:\n",
    "        nb = current.read(f, 'json')\n",
    "    \n",
    "    ip = get_ipython()\n",
    "    \n",
    "    for cell in nb.worksheets[0].cells:\n",
    "        if cell.cell_type != 'code':\n",
    "            continue\n",
    "        ip.run_cell(cell.input)\n",
    "        \n",
    "execute_notebook('Analysis_Methods.ipynb')"
   ]
  },
  {
   "cell_type": "code",
   "execution_count": 103,
   "metadata": {
    "collapsed": false,
    "deletable": true,
    "editable": true
   },
   "outputs": [],
   "source": [
    "path = '/Users/jco/Desktop/data_science/Udacity/project_2/Titanic/titanic1.csv'\n",
    "titanic = pd.read_csv(path)\n",
    "\n",
    "fix_dtypes(titanic)"
   ]
  },
  {
   "cell_type": "code",
   "execution_count": 104,
   "metadata": {
    "collapsed": false,
    "deletable": true,
    "editable": true
   },
   "outputs": [
    {
     "data": {
      "text/html": [
       "<div>\n",
       "<table border=\"1\" class=\"dataframe\">\n",
       "  <thead>\n",
       "    <tr style=\"text-align: right;\">\n",
       "      <th></th>\n",
       "      <th>Survived</th>\n",
       "      <th>Pclass</th>\n",
       "      <th>Sex</th>\n",
       "      <th>Age</th>\n",
       "      <th>SibSp</th>\n",
       "      <th>Parch</th>\n",
       "      <th>Fare</th>\n",
       "      <th>Embarked</th>\n",
       "      <th>FamilyTot</th>\n",
       "      <th>FamStatus</th>\n",
       "      <th>age_group</th>\n",
       "    </tr>\n",
       "  </thead>\n",
       "  <tbody>\n",
       "    <tr>\n",
       "      <th>0</th>\n",
       "      <td>Died</td>\n",
       "      <td>3rd</td>\n",
       "      <td>male</td>\n",
       "      <td>22.0</td>\n",
       "      <td>1</td>\n",
       "      <td>0</td>\n",
       "      <td>7.2500</td>\n",
       "      <td>S</td>\n",
       "      <td>1</td>\n",
       "      <td>Family</td>\n",
       "      <td>Adult</td>\n",
       "    </tr>\n",
       "    <tr>\n",
       "      <th>1</th>\n",
       "      <td>Lived</td>\n",
       "      <td>1st</td>\n",
       "      <td>female</td>\n",
       "      <td>38.0</td>\n",
       "      <td>1</td>\n",
       "      <td>0</td>\n",
       "      <td>71.2833</td>\n",
       "      <td>C</td>\n",
       "      <td>1</td>\n",
       "      <td>Family</td>\n",
       "      <td>Adult</td>\n",
       "    </tr>\n",
       "    <tr>\n",
       "      <th>2</th>\n",
       "      <td>Lived</td>\n",
       "      <td>3rd</td>\n",
       "      <td>female</td>\n",
       "      <td>26.0</td>\n",
       "      <td>0</td>\n",
       "      <td>0</td>\n",
       "      <td>7.9250</td>\n",
       "      <td>S</td>\n",
       "      <td>0</td>\n",
       "      <td>Single</td>\n",
       "      <td>Adult</td>\n",
       "    </tr>\n",
       "    <tr>\n",
       "      <th>3</th>\n",
       "      <td>Lived</td>\n",
       "      <td>1st</td>\n",
       "      <td>female</td>\n",
       "      <td>35.0</td>\n",
       "      <td>1</td>\n",
       "      <td>0</td>\n",
       "      <td>53.1000</td>\n",
       "      <td>S</td>\n",
       "      <td>1</td>\n",
       "      <td>Family</td>\n",
       "      <td>Adult</td>\n",
       "    </tr>\n",
       "    <tr>\n",
       "      <th>4</th>\n",
       "      <td>Died</td>\n",
       "      <td>3rd</td>\n",
       "      <td>male</td>\n",
       "      <td>35.0</td>\n",
       "      <td>0</td>\n",
       "      <td>0</td>\n",
       "      <td>8.0500</td>\n",
       "      <td>S</td>\n",
       "      <td>0</td>\n",
       "      <td>Single</td>\n",
       "      <td>Adult</td>\n",
       "    </tr>\n",
       "    <tr>\n",
       "      <th>5</th>\n",
       "      <td>Died</td>\n",
       "      <td>3rd</td>\n",
       "      <td>male</td>\n",
       "      <td>NaN</td>\n",
       "      <td>0</td>\n",
       "      <td>0</td>\n",
       "      <td>8.4583</td>\n",
       "      <td>Q</td>\n",
       "      <td>0</td>\n",
       "      <td>Single</td>\n",
       "      <td>Unknown</td>\n",
       "    </tr>\n",
       "    <tr>\n",
       "      <th>6</th>\n",
       "      <td>Died</td>\n",
       "      <td>1st</td>\n",
       "      <td>male</td>\n",
       "      <td>54.0</td>\n",
       "      <td>0</td>\n",
       "      <td>0</td>\n",
       "      <td>51.8625</td>\n",
       "      <td>S</td>\n",
       "      <td>0</td>\n",
       "      <td>Single</td>\n",
       "      <td>Adult</td>\n",
       "    </tr>\n",
       "    <tr>\n",
       "      <th>7</th>\n",
       "      <td>Died</td>\n",
       "      <td>3rd</td>\n",
       "      <td>male</td>\n",
       "      <td>2.0</td>\n",
       "      <td>3</td>\n",
       "      <td>1</td>\n",
       "      <td>21.0750</td>\n",
       "      <td>S</td>\n",
       "      <td>4</td>\n",
       "      <td>Family</td>\n",
       "      <td>Child</td>\n",
       "    </tr>\n",
       "    <tr>\n",
       "      <th>8</th>\n",
       "      <td>Lived</td>\n",
       "      <td>3rd</td>\n",
       "      <td>female</td>\n",
       "      <td>27.0</td>\n",
       "      <td>0</td>\n",
       "      <td>2</td>\n",
       "      <td>11.1333</td>\n",
       "      <td>S</td>\n",
       "      <td>2</td>\n",
       "      <td>Family</td>\n",
       "      <td>Adult</td>\n",
       "    </tr>\n",
       "    <tr>\n",
       "      <th>9</th>\n",
       "      <td>Lived</td>\n",
       "      <td>2nd</td>\n",
       "      <td>female</td>\n",
       "      <td>14.0</td>\n",
       "      <td>1</td>\n",
       "      <td>0</td>\n",
       "      <td>30.0708</td>\n",
       "      <td>C</td>\n",
       "      <td>1</td>\n",
       "      <td>Family</td>\n",
       "      <td>Child</td>\n",
       "    </tr>\n",
       "  </tbody>\n",
       "</table>\n",
       "</div>"
      ],
      "text/plain": [
       "  Survived Pclass     Sex   Age  SibSp  Parch     Fare Embarked  FamilyTot  \\\n",
       "0     Died    3rd    male  22.0      1      0   7.2500        S          1   \n",
       "1    Lived    1st  female  38.0      1      0  71.2833        C          1   \n",
       "2    Lived    3rd  female  26.0      0      0   7.9250        S          0   \n",
       "3    Lived    1st  female  35.0      1      0  53.1000        S          1   \n",
       "4     Died    3rd    male  35.0      0      0   8.0500        S          0   \n",
       "5     Died    3rd    male   NaN      0      0   8.4583        Q          0   \n",
       "6     Died    1st    male  54.0      0      0  51.8625        S          0   \n",
       "7     Died    3rd    male   2.0      3      1  21.0750        S          4   \n",
       "8    Lived    3rd  female  27.0      0      2  11.1333        S          2   \n",
       "9    Lived    2nd  female  14.0      1      0  30.0708        C          1   \n",
       "\n",
       "  FamStatus age_group  \n",
       "0    Family     Adult  \n",
       "1    Family     Adult  \n",
       "2    Single     Adult  \n",
       "3    Family     Adult  \n",
       "4    Single     Adult  \n",
       "5    Single   Unknown  \n",
       "6    Single     Adult  \n",
       "7    Family     Child  \n",
       "8    Family     Adult  \n",
       "9    Family     Child  "
      ]
     },
     "execution_count": 104,
     "metadata": {},
     "output_type": "execute_result"
    }
   ],
   "source": [
    "titanic.head(10) #sanity"
   ]
  },
  {
   "cell_type": "markdown",
   "metadata": {
    "deletable": true,
    "editable": true
   },
   "source": [
    "# Analysis\n",
    "\n",
    "__Survival__\n",
    "* Majority of passengers died (62%)\n",
    "\n",
    "__Sex v. Survival__\n",
    "* Majority of dead were male (85%) | Male = 65% pop\n",
    "* Majority of survivers were female (68%) | Female = 35% pop\n",
    "* 74% of Females survived vs. 19% of Males\n",
    "\n",
    "__Age_Group v. Survival__\n",
    "* Majority of dead and surviving pass were adults (68%, 67%) | adults = 67% of pop\n",
    "* Fairly high death rates among each group - Child(46%), Adult(62%), Unknown(71%)\n",
    "* Survival | Pop Rates\n",
    " * Child (54%) | (13%)\n",
    " * Adult (38%) | (67%)\n",
    " * Unknown (29%) | (20%)\n",
    "\n",
    "__Class v. Survival__\n",
    "* Class breakdown\n",
    " * 1st (24%), 2nd (21%), 3rd (55%)\n",
    "* Class survival rates\n",
    " * 1st (63%), 2nd (47%), 3rd (24%)\n",
    "* Surviving passanger class\n",
    " * 1st (40%), 2nd (25%), 3rd (35%) \n",
    "* 3rd class accounted for 68% of the dead while only making up 55% of the total pop\n",
    "* 3rd class had the highest mortality rate, almost double that of 1st\n",
    "\n",
    "__FamilyStatus v. Survival__\n",
    "* Family (40%) vs. Single (60%)\n",
    "* 51% survival rate w/family vs. 30% Single\n",
    "* 68% of dead passangers were traveling alone\n",
    "\n",
    "__Port v. Survival__\n",
    "* Pass% by port\n",
    " * Cherbourg (19%), Queenstown (9%), Southhampton (72%)\n",
    "* Port Death Rate\n",
    " * Cherbourg (45%), Queenstown (61%), Southhampton (66%)\n",
    "* The majority of those who lived (64%) and died(77%) hailed from Southhampton\n",
    "* 27% of survived were from Cherbourg v. 19% of pop\n",
    "\n",
    "__Fare v. Survival__\n",
    "* Mean Fare (Survivers | Dead)\n",
    "  * \\$48.39 | \\$22.12\n",
    "* Median Fare (Survivers | Dead)\n",
    "  * \\$26 | \\$10.50 \n",
    "* Much larger variation in surviving fares (Survivers | Dead)\n",
    "  * std = \\$66.60 | \\$31.39\n",
    "\n",
    "__Class & Sex v. Survival__\n",
    "* Female \n",
    "  * Death Rate\n",
    "    * 1st (3%), 2nd (8%), 3rd (50%)\n",
    "  * Survival's Class | pop%\n",
    "    * 1st - 39% | 29%\n",
    "    * 2nd - 30% | 24%\n",
    "    * 3rd - 31% | 46%\n",
    " * 89% (72/81) of dead Females came from 3rd class\n",
    "* Male \n",
    "  * Death Rate\n",
    "    * 1st (63%), 2nd (84%), 3rd (86%)\n",
    "  * Survival's Class | pop%\n",
    "    * 1st - 41% | 21% \n",
    "    * 2nd - 16% | 19%\n",
    "    * 3rd - 43% | 60%\n",
    " * 64% (300/468) of dead males came from 3rd class\n",
    " * Apprx. the same amount of men lived from 1st class (45) as 3rd (47)\n",
    "\n",
    "__AgeGroup & Sex v. Survival__\n",
    "* Adult\n",
    "  * Female survival (77%) v. Male survival (18%)\n",
    "  * 58% of dead females | 66% of female pop\n",
    "  * 69% of dead males   | 68% of male pop\n",
    "* Child \n",
    "  * Female survival (69%) v. Male survival (40%)\n",
    "  * 21% of dead females | 18% of female pop\n",
    "  * 8% of dead males    | 10% of male pop\n",
    "* Unknown\n",
    "  * Female Survival (68%) v. Male survival (13%) \n",
    "  * 21% of dead females | 17% of female pop \n",
    "  * 23% of dead males   | 22% of male pop\n",
    "  \n",
    "__Class & AgeGroup v. Survival__\n",
    "* Adult\n",
    "  *  Death\n",
    "    * Rates: 1st (36%) | 2nd (59%) | 3rd (80%)\n",
    "    * 59% (221/372) of dead adults were from 3rd class\n",
    "  * Surviver's class | Total pop%\n",
    "    * 1st 49% | 29%\n",
    "    * 2nd 27% | 25%\n",
    "    * 3rd 24% | 46%\n",
    "* Child\n",
    "  * Death \n",
    "    * Rates: 1st (8%), 2nd (9%), 3rd (63%)\n",
    "    * 94% (49/52) of dead childeren were from 3rd class\n",
    "  * Surviver's Class | Total Pop%\n",
    "    * 1st 18% | 11%\n",
    "    * 2nd 34% | 20%\n",
    "    * 3rd 48% | 69%\n",
    "  * 94% of dead children were from 3rd class  \n",
    "* Unknown\n",
    "  * Death\n",
    "    * Rates: 1st (53%), 2nd (64%), 3rd (75%) \n",
    "    * 82% of dead unknown age_groups were from 3rd class\n",
    "  * Surviver's Class | Total Pop%\n",
    "    * 1st 27% | 17% \n",
    "    * 2nd 8%  | 6%\n",
    "    * 3rd 65% | 77%\n",
    "\n",
    "__Class, AgeGroup, Sex v. Survival__\n",
    "* Death\n",
    "  * Adult Female | Male\n",
    "    * Rates: 1st (3%|63%), 2nd (10%|93%), 3rd (58%|87%)\n",
    "    * 93% (39/42) of dead female adults came from 3rd class | 33% of adult females were from 3rd class\n",
    "    * 56% of dead male adults were 3rd class   | 53% of adult males were 3rd class\n",
    "  * Child Female | Male\n",
    "    * Rates: 1st (13%|0%), 2nd (0%|18%), 3rd (46%|77%)\n",
    "    * 94% (16/17) of dead female children were 3rd class | 64% of female children were 3rd class\n",
    "    * 94% (33/35) of dead male children were 3rd class   | 74% of male children were 3rd class\n",
    "  * Unknown  Female | Male\n",
    "    * Rates: 1st (0%|76%), 2nd (0|78%), 3rd (40%|90%)\n",
    "    * 100% of dead females of unknown age were 3rd class | 58% of females of unknown age were 3rd class\n",
    "    * 79% of dead males of unknown age were 3rd class    | 76% of males of unknown age were 3rd class\n",
    "* Survival \n",
    "  * Breakdown (1% rounding error)\n",
    "    * Adults  \n",
    "     * 1st Class Female | Male: 22% | 10%\n",
    "     * 2nd Class Female | Male: 16% |  2%\n",
    "     * 3rd Class Female | Male:  8% |  8%\n",
    "   * Child\n",
    "     * 1st Class Female | Male:  2% |  1%\n",
    "     * 2nd Class Female | Male:  4% |  3%\n",
    "     * 3rd Class Female | Male:  6% |  3%\n",
    "   * Unknown\n",
    "     * 1st Class Female | Male:  3% |  1%\n",
    "     * 2nd Class Female | Male:  1% |  1%\n",
    "     * 3rd Class Female | Male:  7% |  3%\n",
    "    "
   ]
  },
  {
   "cell_type": "code",
   "execution_count": 346,
   "metadata": {
    "collapsed": false,
    "deletable": true,
    "editable": true
   },
   "outputs": [
    {
     "data": {
      "text/plain": [
       "103"
      ]
     },
     "execution_count": 346,
     "metadata": {},
     "output_type": "execute_result"
    }
   ],
   "source": [
    "47+17+17 #dead females\n",
    "17/81\n",
    "206+55+53 #total females\n",
    "53/314\n",
    "395+58+124 # total males\n",
    "124/577\n",
    "325+35+108 # dead males\n",
    "35/468\n",
    "111+62+56 #Surviving Adults\n",
    "56/229\n",
    "174+150+277 # adult totals\n",
    "277/601\n",
    "221/601\n",
    "11+21+29 # Surviving Chitrens\n",
    "29/61\n",
    "12+23+78 #child total\n",
    "78/113\n",
    "63+88+221 #dead adults\n",
    "221/372\n",
    "1+2+49 #dead children\n",
    "49/52\n",
    "16+7+102 #dead unkown \n",
    "102/125\n",
    "14+4+34\n",
    "34/52\n",
    "30+11+136\n",
    "136/177\n",
    "22 +11 +16 + 2+ 8 + 8 +2 +1 +4 +3 +6 +3 +3 +2 +1 +1 +7 +3"
   ]
  },
  {
   "cell_type": "code",
   "execution_count": 109,
   "metadata": {
    "collapsed": true,
    "deletable": true,
    "editable": true
   },
   "outputs": [
    {
     "data": {
      "text/plain": [
       "count      891\n",
       "unique       2\n",
       "top       Died\n",
       "freq       549\n",
       "Name: Survived, dtype: object"
      ]
     },
     "execution_count": 109,
     "metadata": {},
     "output_type": "execute_result"
    }
   ],
   "source": [
    "titanic['Survived'].describe()"
   ]
  },
  {
   "cell_type": "code",
   "execution_count": 110,
   "metadata": {
    "collapsed": true,
    "deletable": true,
    "editable": true
   },
   "outputs": [
    {
     "data": {
      "text/plain": [
       "[Died, Lived]\n",
       "Categories (2, object): [Died, Lived]"
      ]
     },
     "execution_count": 110,
     "metadata": {},
     "output_type": "execute_result"
    }
   ],
   "source": [
    "titanic['Survived'].unique()"
   ]
  },
  {
   "cell_type": "code",
   "execution_count": 111,
   "metadata": {
    "collapsed": true,
    "deletable": true,
    "editable": true
   },
   "outputs": [
    {
     "name": "stdout",
     "output_type": "stream",
     "text": [
      "\n",
      "-------------Counts------\n",
      " col_0     Count  All\n",
      "Survived            \n",
      "Died        549  549\n",
      "Lived       342  342\n",
      "All         891  891\n",
      "\n",
      "--------%Total-----------\n",
      " col_0        Count       All\n",
      "Survived                    \n",
      "Died      0.308081  0.308081\n",
      "Lived     0.191919  0.191919\n",
      "All       0.500000  0.500000\n"
     ]
    }
   ],
   "source": [
    "freq1(titanic['Survived'])"
   ]
  },
  {
   "cell_type": "markdown",
   "metadata": {
    "deletable": true,
    "editable": true
   },
   "source": [
    "_Survived by Sex_"
   ]
  },
  {
   "cell_type": "code",
   "execution_count": 112,
   "metadata": {
    "collapsed": true,
    "deletable": true,
    "editable": true
   },
   "outputs": [
    {
     "name": "stdout",
     "output_type": "stream",
     "text": [
      "\n",
      "-------Counts-------\n",
      "            female  male  RowTotals\n",
      "Died           81   468        549\n",
      "Lived         233   109        342\n",
      "ColTotals     314   577        891\n",
      "\n",
      "-------Row%--------\n",
      "              female      male  RowTotals\n",
      "Died       0.147541  0.852459        1.0\n",
      "Lived      0.681287  0.318713        1.0\n",
      "ColTotals  0.352413  0.647587        1.0\n",
      "\n",
      "-------Col%---------\n",
      "\n",
      "              female      male  RowTotals\n",
      "Died       0.257962  0.811092   0.616162\n",
      "Lived      0.742038  0.188908   0.383838\n",
      "ColTotals  1.000000  1.000000   1.000000\n",
      "\n",
      "------Stacked Bar Graph------\n",
      " Axes(0.125,0.125;0.775x0.755)\n"
     ]
    },
    {
     "data": {
      "image/png": "[encoded data removed]",
      "text/plain": [
       "<matplotlib.figure.Figure at 0x11490c908>"
      ]
     },
     "metadata": {},
     "output_type": "display_data"
    }
   ],
   "source": [
    "freq2(titanic['Survived'], titanic['Sex'])"
   ]
  },
  {
   "cell_type": "markdown",
   "metadata": {
    "deletable": true,
    "editable": true
   },
   "source": [
    "_Survived by AgeGroup_"
   ]
  },
  {
   "cell_type": "code",
   "execution_count": 113,
   "metadata": {
    "collapsed": true,
    "deletable": true,
    "editable": true
   },
   "outputs": [
    {
     "name": "stdout",
     "output_type": "stream",
     "text": [
      "\n",
      "-------Counts-------\n",
      "            Adult  Child  Unknown  RowTotals\n",
      "Died         372     52      125        549\n",
      "Lived        229     61       52        342\n",
      "ColTotals    601    113      177        891\n",
      "\n",
      "-------Row%--------\n",
      "               Adult     Child   Unknown  RowTotals\n",
      "Died       0.677596  0.094718  0.227687        1.0\n",
      "Lived      0.669591  0.178363  0.152047        1.0\n",
      "ColTotals  0.674523  0.126824  0.198653        1.0\n",
      "\n",
      "-------Col%---------\n",
      "\n",
      "               Adult     Child   Unknown  RowTotals\n",
      "Died       0.618968  0.460177  0.706215   0.616162\n",
      "Lived      0.381032  0.539823  0.293785   0.383838\n",
      "ColTotals  1.000000  1.000000  1.000000   1.000000\n",
      "\n",
      "------Stacked Bar Graph------\n",
      " Axes(0.125,0.125;0.775x0.755)\n"
     ]
    },
    {
     "data": {
      "image/png": "[encoded data removed]",
      "text/plain": [
       "<matplotlib.figure.Figure at 0x11490c358>"
      ]
     },
     "metadata": {},
     "output_type": "display_data"
    }
   ],
   "source": [
    "freq2(titanic['Survived'], titanic['age_group'])"
   ]
  },
  {
   "cell_type": "markdown",
   "metadata": {
    "deletable": true,
    "editable": true
   },
   "source": [
    "_Survived by Age_"
   ]
  },
  {
   "cell_type": "code",
   "execution_count": 362,
   "metadata": {
    "collapsed": true,
    "deletable": true,
    "editable": true
   },
   "outputs": [
    {
     "name": "stdout",
     "output_type": "stream",
     "text": [
      "--------Lived------\n",
      " count    290.000000\n",
      "mean      28.343690\n",
      "std       14.950952\n",
      "min        0.420000\n",
      "25%       19.000000\n",
      "50%       28.000000\n",
      "75%       36.000000\n",
      "max       80.000000\n",
      "Name: Age, dtype: float64\n",
      "\n",
      "--------Died--------\n",
      " count    424.000000\n",
      "mean      30.626179\n",
      "std       14.172110\n",
      "min        1.000000\n",
      "25%       21.000000\n",
      "50%       28.000000\n",
      "75%       39.000000\n",
      "max       74.000000\n",
      "Name: Age, dtype: float64\n"
     ]
    }
   ],
   "source": [
    "lived_age = titanic['Age'][titanic['Survived'] == 'Lived'].reset_index(drop=True)\n",
    "died_age = titanic['Age'][titanic['Survived'] == 'Died'].reset_index(drop=True)\n",
    "\n",
    "print('--------Lived------\\n', lived_age.describe(), end='\\n\\n')\n",
    "print('--------Died--------\\n',died_age.describe())"
   ]
  },
  {
   "cell_type": "code",
   "execution_count": 203,
   "metadata": {
    "collapsed": true,
    "deletable": true,
    "editable": true
   },
   "outputs": [
    {
     "data": {
      "text/plain": [
       "<matplotlib.axes._subplots.AxesSubplot at 0x111194198>"
      ]
     },
     "execution_count": 203,
     "metadata": {},
     "output_type": "execute_result"
    },
    {
     "data": {
      "image/png": "[encoded data removed]",
      "text/plain": [
       "<matplotlib.figure.Figure at 0x114b5dba8>"
      ]
     },
     "metadata": {},
     "output_type": "display_data"
    }
   ],
   "source": [
    "sns.boxplot(data=[lived_age, died_age])"
   ]
  },
  {
   "cell_type": "markdown",
   "metadata": {
    "deletable": true,
    "editable": true
   },
   "source": [
    "_Survival by Class_"
   ]
  },
  {
   "cell_type": "code",
   "execution_count": 204,
   "metadata": {
    "collapsed": true,
    "deletable": true,
    "editable": true
   },
   "outputs": [
    {
     "name": "stdout",
     "output_type": "stream",
     "text": [
      "\n",
      "-------Counts-------\n",
      "            1st  2nd  3rd  RowTotals\n",
      "Died        80   97  372        549\n",
      "Lived      136   87  119        342\n",
      "ColTotals  216  184  491        891\n",
      "\n",
      "-------Row%--------\n",
      "                 1st       2nd       3rd  RowTotals\n",
      "Died       0.145719  0.176685  0.677596        1.0\n",
      "Lived      0.397661  0.254386  0.347953        1.0\n",
      "ColTotals  0.242424  0.206510  0.551066        1.0\n",
      "\n",
      "-------Col%---------\n",
      "\n",
      "                1st       2nd       3rd  RowTotals\n",
      "Died       0.37037  0.527174  0.757637   0.616162\n",
      "Lived      0.62963  0.472826  0.242363   0.383838\n",
      "ColTotals  1.00000  1.000000  1.000000   1.000000\n",
      "\n",
      "------Stacked Bar Graph------\n",
      " Axes(0.125,0.125;0.775x0.755)\n"
     ]
    },
    {
     "data": {
      "image/png": "[encoded data removed]",
      "text/plain": [
       "<matplotlib.figure.Figure at 0x107f5e390>"
      ]
     },
     "metadata": {},
     "output_type": "display_data"
    }
   ],
   "source": [
    "freq2(titanic['Survived'], titanic['Pclass'])"
   ]
  },
  {
   "cell_type": "markdown",
   "metadata": {
    "deletable": true,
    "editable": true
   },
   "source": [
    "_Survival by FamilyStatus_"
   ]
  },
  {
   "cell_type": "code",
   "execution_count": 206,
   "metadata": {
    "collapsed": true,
    "deletable": true,
    "editable": true
   },
   "outputs": [
    {
     "name": "stdout",
     "output_type": "stream",
     "text": [
      "\n",
      "-------Counts-------\n",
      "            Family  Single  RowTotals\n",
      "Died          175     374        549\n",
      "Lived         179     163        342\n",
      "ColTotals     354     537        891\n",
      "\n",
      "-------Row%--------\n",
      "              Family    Single  RowTotals\n",
      "Died       0.318761  0.681239        1.0\n",
      "Lived      0.523392  0.476608        1.0\n",
      "ColTotals  0.397306  0.602694        1.0\n",
      "\n",
      "-------Col%---------\n",
      "\n",
      "             Family    Single  RowTotals\n",
      "Died       0.49435  0.696462   0.616162\n",
      "Lived      0.50565  0.303538   0.383838\n",
      "ColTotals  1.00000  1.000000   1.000000\n",
      "\n",
      "------Stacked Bar Graph------\n",
      " Axes(0.125,0.125;0.775x0.755)\n"
     ]
    },
    {
     "data": {
      "image/png": "[encoded data removed]",
      "text/plain": [
       "<matplotlib.figure.Figure at 0x114f54908>"
      ]
     },
     "metadata": {},
     "output_type": "display_data"
    }
   ],
   "source": [
    "freq2(titanic['Survived'], titanic['FamStatus'])"
   ]
  },
  {
   "cell_type": "markdown",
   "metadata": {
    "deletable": true,
    "editable": true
   },
   "source": [
    "_Survival by Port_"
   ]
  },
  {
   "cell_type": "code",
   "execution_count": 207,
   "metadata": {
    "collapsed": true,
    "deletable": true,
    "editable": true
   },
   "outputs": [
    {
     "name": "stdout",
     "output_type": "stream",
     "text": [
      "\n",
      "-------Counts-------\n",
      "              C   Q    S  RowTotals\n",
      "Died        75  47  427        549\n",
      "Lived       93  30  217        340\n",
      "ColTotals  168  77  644        889\n",
      "\n",
      "-------Row%--------\n",
      "                   C         Q         S  RowTotals\n",
      "Died       0.136612  0.085610  0.777778        1.0\n",
      "Lived      0.273529  0.088235  0.638235        1.0\n",
      "ColTotals  0.188976  0.086614  0.724409        1.0\n",
      "\n",
      "-------Col%---------\n",
      "\n",
      "                   C        Q         S  RowTotals\n",
      "Died       0.446429  0.61039  0.663043   0.617548\n",
      "Lived      0.553571  0.38961  0.336957   0.382452\n",
      "ColTotals  1.000000  1.00000  1.000000   1.000000\n",
      "\n",
      "------Stacked Bar Graph------\n",
      " Axes(0.125,0.125;0.775x0.755)\n"
     ]
    },
    {
     "data": {
      "image/png": "[encoded data removed]",
      "text/plain": [
       "<matplotlib.figure.Figure at 0x114fd5c50>"
      ]
     },
     "metadata": {},
     "output_type": "display_data"
    }
   ],
   "source": [
    "freq2(titanic['Survived'], titanic['Embarked'])"
   ]
  },
  {
   "cell_type": "markdown",
   "metadata": {
    "deletable": true,
    "editable": true
   },
   "source": [
    "_Survival by Fare_"
   ]
  },
  {
   "cell_type": "code",
   "execution_count": 366,
   "metadata": {
    "collapsed": true,
    "deletable": true,
    "editable": true
   },
   "outputs": [
    {
     "name": "stdout",
     "output_type": "stream",
     "text": [
      "\n",
      "--------------Lived-----------\n",
      " count    342.000000\n",
      "mean      48.395408\n",
      "std       66.596998\n",
      "min        0.000000\n",
      "25%       12.475000\n",
      "50%       26.000000\n",
      "75%       57.000000\n",
      "max      512.329200\n",
      "Name: Fare, dtype: float64\n",
      "\n",
      "--------------Died-------------\n",
      " count    549.000000\n",
      "mean      22.117887\n",
      "std       31.388207\n",
      "min        0.000000\n",
      "25%        7.854200\n",
      "50%       10.500000\n",
      "75%       26.000000\n",
      "max      263.000000\n",
      "Name: Fare, dtype: float64\n"
     ]
    }
   ],
   "source": [
    "lived_fares = titanic['Fare'][titanic['Survived']=='Lived'].reset_index(drop=True)\n",
    "died_fares = titanic['Fare'][titanic['Survived']=='Died'].reset_index(drop=True)\n",
    "\n",
    "print('\\n--------------Lived-----------\\n', lived_fares.describe())\n",
    "print('\\n--------------Died-------------\\n', died_fares.describe())"
   ]
  },
  {
   "cell_type": "code",
   "execution_count": 367,
   "metadata": {
    "collapsed": true,
    "deletable": true,
    "editable": true
   },
   "outputs": [
    {
     "data": {
      "text/plain": [
       "<matplotlib.axes._subplots.AxesSubplot at 0x1152cac18>"
      ]
     },
     "execution_count": 367,
     "metadata": {},
     "output_type": "execute_result"
    },
    {
     "data": {
      "image/png": "[encoded data removed]",
      "text/plain": [
       "<matplotlib.figure.Figure at 0x1152c9f60>"
      ]
     },
     "metadata": {},
     "output_type": "display_data"
    }
   ],
   "source": [
    "sns.boxplot(data=[lived_fares, died_fares])"
   ]
  },
  {
   "cell_type": "code",
   "execution_count": 373,
   "metadata": {
    "collapsed": true,
    "deletable": true,
    "editable": true
   },
   "outputs": [
    {
     "data": {
      "text/plain": [
       "<matplotlib.axes._subplots.AxesSubplot at 0x1158529b0>"
      ]
     },
     "execution_count": 373,
     "metadata": {},
     "output_type": "execute_result"
    },
    {
     "data": {
      "image/png": "[encoded data removed]",
      "text/plain": [
       "<matplotlib.figure.Figure at 0x115775b38>"
      ]
     },
     "metadata": {},
     "output_type": "display_data"
    }
   ],
   "source": [
    "sns.distplot(lived_fares, rug=True)"
   ]
  },
  {
   "cell_type": "code",
   "execution_count": 372,
   "metadata": {
    "collapsed": true,
    "deletable": true,
    "editable": true
   },
   "outputs": [
    {
     "data": {
      "text/plain": [
       "<matplotlib.axes._subplots.AxesSubplot at 0x1156bc7f0>"
      ]
     },
     "execution_count": 372,
     "metadata": {},
     "output_type": "execute_result"
    },
    {
     "data": {
      "image/png": "[encoded data removed]",
      "text/plain": [
       "<matplotlib.figure.Figure at 0x1157759e8>"
      ]
     },
     "metadata": {},
     "output_type": "display_data"
    }
   ],
   "source": [
    "sns.distplot(died_fares, rug=True)"
   ]
  },
  {
   "cell_type": "markdown",
   "metadata": {
    "deletable": true,
    "editable": true
   },
   "source": [
    "_Survival by Class & Sex_"
   ]
  },
  {
   "cell_type": "code",
   "execution_count": 243,
   "metadata": {
    "collapsed": true,
    "deletable": true,
    "editable": true
   },
   "outputs": [
    {
     "name": "stdout",
     "output_type": "stream",
     "text": [
      "\n",
      "------------Counts----------\n",
      " Pclass      1st         2nd         3rd       All\n",
      "Sex      female male female male female male     \n",
      "Survived                                         \n",
      "Died          3   77      6   91     72  300  549\n",
      "Lived        91   45     70   17     72   47  342\n",
      "All          94  122     76  108    144  347  891\n",
      "\n",
      "-----------Col%--------------\n",
      " Pclass         1st                 2nd              3rd                 All\n",
      "Sex         female      male    female      male female      male          \n",
      "Survived                                                                   \n",
      "Died      0.031915  0.631148  0.078947  0.842593    0.5  0.864553  0.616162\n",
      "Lived     0.968085  0.368852  0.921053  0.157407    0.5  0.135447  0.383838\n",
      "All       1.000000  1.000000  1.000000  1.000000    1.0  1.000000  1.000000\n"
     ]
    }
   ],
   "source": [
    "freq3(titanic['Survived'],titanic['Pclass'],titanic['Sex'])"
   ]
  },
  {
   "cell_type": "markdown",
   "metadata": {
    "deletable": true,
    "editable": true
   },
   "source": [
    "_Survival by AgeGroup & Sex_"
   ]
  },
  {
   "cell_type": "code",
   "execution_count": 244,
   "metadata": {
    "collapsed": true,
    "deletable": true,
    "editable": true
   },
   "outputs": [
    {
     "name": "stdout",
     "output_type": "stream",
     "text": [
      "\n",
      "------------Counts----------\n",
      " age_group  Adult       Child      Unknown       All\n",
      "Sex       female male female male  female male     \n",
      "Survived                                           \n",
      "Died          47  325     17   35      17  108  549\n",
      "Lived        159   70     38   23      36   16  342\n",
      "All          206  395     55   58      53  124  891\n",
      "\n",
      "-----------Col%--------------\n",
      " age_group     Adult               Child             Unknown            \\\n",
      "Sex          female      male    female      male    female      male   \n",
      "Survived                                                                \n",
      "Died       0.228155  0.822785  0.309091  0.603448  0.320755  0.870968   \n",
      "Lived      0.771845  0.177215  0.690909  0.396552  0.679245  0.129032   \n",
      "All        1.000000  1.000000  1.000000  1.000000  1.000000  1.000000   \n",
      "\n",
      "age_group       All  \n",
      "Sex                  \n",
      "Survived             \n",
      "Died       0.616162  \n",
      "Lived      0.383838  \n",
      "All        1.000000  \n"
     ]
    }
   ],
   "source": [
    "freq3(titanic['Survived'], titanic['age_group'], titanic['Sex'])"
   ]
  },
  {
   "cell_type": "markdown",
   "metadata": {
    "deletable": true,
    "editable": true
   },
   "source": [
    "_Survival by Class & AgeGroup_"
   ]
  },
  {
   "cell_type": "code",
   "execution_count": 374,
   "metadata": {
    "collapsed": true,
    "deletable": true,
    "editable": true
   },
   "outputs": [
    {
     "name": "stdout",
     "output_type": "stream",
     "text": [
      "\n",
      "------------Counts----------\n",
      " Pclass      1st                 2nd                 3rd                All\n",
      "age_group Adult Child Unknown Adult Child Unknown Adult Child Unknown     \n",
      "Survived                                                                  \n",
      "Died         63     1      16    88     2       7   221    49     102  549\n",
      "Lived       111    11      14    62    21       4    56    29      34  342\n",
      "All         174    12      30   150    23      11   277    78     136  891\n",
      "\n",
      "-----------Col%--------------\n",
      " Pclass          1st                           2nd                      \\\n",
      "age_group     Adult     Child   Unknown     Adult     Child   Unknown   \n",
      "Survived                                                                \n",
      "Died       0.362069  0.083333  0.533333  0.586667  0.086957  0.636364   \n",
      "Lived      0.637931  0.916667  0.466667  0.413333  0.913043  0.363636   \n",
      "All        1.000000  1.000000  1.000000  1.000000  1.000000  1.000000   \n",
      "\n",
      "Pclass          3rd                         All  \n",
      "age_group     Adult     Child Unknown            \n",
      "Survived                                         \n",
      "Died       0.797834  0.628205    0.75  0.616162  \n",
      "Lived      0.202166  0.371795    0.25  0.383838  \n",
      "All        1.000000  1.000000    1.00  1.000000  \n"
     ]
    }
   ],
   "source": [
    "freq3(titanic['Survived'], titanic['Pclass'], titanic['age_group'])"
   ]
  },
  {
   "cell_type": "markdown",
   "metadata": {
    "deletable": true,
    "editable": true
   },
   "source": [
    "_Survival by Class, Sex, AgeGroup_"
   ]
  },
  {
   "cell_type": "code",
   "execution_count": 385,
   "metadata": {
    "collapsed": false,
    "deletable": true,
    "editable": true
   },
   "outputs": [
    {
     "name": "stdout",
     "output_type": "stream",
     "text": [
      "\n",
      "----------Counts---------\n",
      "\n",
      " Pclass       1st                                  2nd                   \\\n",
      "age_group  Adult       Child      Unknown       Adult       Child        \n",
      "Sex       female male female male  female male female male female male   \n",
      "Survived                                                                 \n",
      "Died           2   61      1    0       0   16      6   82      0    2   \n",
      "Lived         75   36      7    4       9    5     56    6     12    9   \n",
      "All           77   97      8    4       9   21     62   88     12   11   \n",
      "\n",
      "Pclass                    3rd                                All  \n",
      "age_group Unknown       Adult       Child      Unknown            \n",
      "Sex        female male female male female male  female male       \n",
      "Survived                                                          \n",
      "Died            0    7     39  182     16   33      17   85  549  \n",
      "Lived           2    2     28   28     19   10      25    9  342  \n",
      "All             2    9     67  210     35   43      42   94  891  \n",
      "\n",
      "---------------Col%----------\n",
      " Pclass          1st                                               2nd  \\\n",
      "age_group     Adult            Child      Unknown               Adult   \n",
      "Sex          female      male female male  female      male    female   \n",
      "Survived                                                                \n",
      "Died       0.025974  0.628866  0.125  0.0     0.0  0.761905  0.096774   \n",
      "Lived      0.974026  0.371134  0.875  1.0     1.0  0.238095  0.903226   \n",
      "All        1.000000  1.000000  1.000  1.0     1.0  1.000000  1.000000   \n",
      "\n",
      "Pclass                                                      3rd            \\\n",
      "age_group            Child           Unknown              Adult             \n",
      "Sex            male female      male  female      male   female      male   \n",
      "Survived                                                                    \n",
      "Died       0.931818    0.0  0.181818     0.0  0.777778  0.58209  0.866667   \n",
      "Lived      0.068182    1.0  0.818182     1.0  0.222222  0.41791  0.133333   \n",
      "All        1.000000    1.0  1.000000     1.0  1.000000  1.00000  1.000000   \n",
      "\n",
      "Pclass                                                  All  \n",
      "age_group     Child             Unknown                      \n",
      "Sex          female      male    female      male            \n",
      "Survived                                                     \n",
      "Died       0.457143  0.767442  0.404762  0.904255  0.616162  \n",
      "Lived      0.542857  0.232558  0.595238  0.095745  0.383838  \n",
      "All        1.000000  1.000000  1.000000  1.000000  1.000000  \n"
     ]
    }
   ],
   "source": [
    "freq4 = pd.crosstab(index=titanic['Survived'],\n",
    "                   columns=[titanic['Pclass'],\n",
    "                           titanic['age_group'],\n",
    "                           titanic['Sex']],\n",
    "                   margins=True)\n",
    "\n",
    "print('\\n----------Counts---------\\n\\n', freq4)\n",
    "print('\\n---------------Col%----------\\n', freq4/freq4.ix['All'])"
   ]
  },
  {
   "cell_type": "code",
   "execution_count": 304,
   "metadata": {
    "collapsed": true,
    "deletable": true,
    "editable": true
   },
   "outputs": [
    {
     "data": {
      "text/html": [
       "<div>\n",
       "<table border=\"1\" class=\"dataframe\">\n",
       "  <thead>\n",
       "    <tr>\n",
       "      <th>age_group</th>\n",
       "      <th colspan=\"2\" halign=\"left\">Adult</th>\n",
       "      <th colspan=\"2\" halign=\"left\">Child</th>\n",
       "      <th colspan=\"2\" halign=\"left\">Unknown</th>\n",
       "    </tr>\n",
       "    <tr>\n",
       "      <th>Sex</th>\n",
       "      <th>female</th>\n",
       "      <th>male</th>\n",
       "      <th>female</th>\n",
       "      <th>male</th>\n",
       "      <th>female</th>\n",
       "      <th>male</th>\n",
       "    </tr>\n",
       "    <tr>\n",
       "      <th>Survived</th>\n",
       "      <th></th>\n",
       "      <th></th>\n",
       "      <th></th>\n",
       "      <th></th>\n",
       "      <th></th>\n",
       "      <th></th>\n",
       "    </tr>\n",
       "  </thead>\n",
       "  <tbody>\n",
       "    <tr>\n",
       "      <th>Died</th>\n",
       "      <td>0.025974</td>\n",
       "      <td>0.628866</td>\n",
       "      <td>0.125</td>\n",
       "      <td>0.0</td>\n",
       "      <td>0.0</td>\n",
       "      <td>0.761905</td>\n",
       "    </tr>\n",
       "    <tr>\n",
       "      <th>Lived</th>\n",
       "      <td>0.974026</td>\n",
       "      <td>0.371134</td>\n",
       "      <td>0.875</td>\n",
       "      <td>1.0</td>\n",
       "      <td>1.0</td>\n",
       "      <td>0.238095</td>\n",
       "    </tr>\n",
       "    <tr>\n",
       "      <th>All</th>\n",
       "      <td>1.000000</td>\n",
       "      <td>1.000000</td>\n",
       "      <td>1.000</td>\n",
       "      <td>1.0</td>\n",
       "      <td>1.0</td>\n",
       "      <td>1.000000</td>\n",
       "    </tr>\n",
       "  </tbody>\n",
       "</table>\n",
       "</div>"
      ],
      "text/plain": [
       "age_group     Adult            Child      Unknown          \n",
       "Sex          female      male female male  female      male\n",
       "Survived                                                   \n",
       "Died       0.025974  0.628866  0.125  0.0     0.0  0.761905\n",
       "Lived      0.974026  0.371134  0.875  1.0     1.0  0.238095\n",
       "All        1.000000  1.000000  1.000  1.0     1.0  1.000000"
      ]
     },
     "execution_count": 304,
     "metadata": {},
     "output_type": "execute_result"
    }
   ],
   "source": [
    "freq4['1st']/freq4['1st'].ix['All']"
   ]
  },
  {
   "cell_type": "code",
   "execution_count": 305,
   "metadata": {
    "collapsed": true,
    "deletable": true,
    "editable": true
   },
   "outputs": [
    {
     "data": {
      "text/html": [
       "<div>\n",
       "<table border=\"1\" class=\"dataframe\">\n",
       "  <thead>\n",
       "    <tr>\n",
       "      <th>age_group</th>\n",
       "      <th colspan=\"2\" halign=\"left\">Adult</th>\n",
       "      <th colspan=\"2\" halign=\"left\">Child</th>\n",
       "      <th colspan=\"2\" halign=\"left\">Unknown</th>\n",
       "    </tr>\n",
       "    <tr>\n",
       "      <th>Sex</th>\n",
       "      <th>female</th>\n",
       "      <th>male</th>\n",
       "      <th>female</th>\n",
       "      <th>male</th>\n",
       "      <th>female</th>\n",
       "      <th>male</th>\n",
       "    </tr>\n",
       "    <tr>\n",
       "      <th>Survived</th>\n",
       "      <th></th>\n",
       "      <th></th>\n",
       "      <th></th>\n",
       "      <th></th>\n",
       "      <th></th>\n",
       "      <th></th>\n",
       "    </tr>\n",
       "  </thead>\n",
       "  <tbody>\n",
       "    <tr>\n",
       "      <th>Died</th>\n",
       "      <td>0.096774</td>\n",
       "      <td>0.931818</td>\n",
       "      <td>0.0</td>\n",
       "      <td>0.181818</td>\n",
       "      <td>0.0</td>\n",
       "      <td>0.777778</td>\n",
       "    </tr>\n",
       "    <tr>\n",
       "      <th>Lived</th>\n",
       "      <td>0.903226</td>\n",
       "      <td>0.068182</td>\n",
       "      <td>1.0</td>\n",
       "      <td>0.818182</td>\n",
       "      <td>1.0</td>\n",
       "      <td>0.222222</td>\n",
       "    </tr>\n",
       "    <tr>\n",
       "      <th>All</th>\n",
       "      <td>1.000000</td>\n",
       "      <td>1.000000</td>\n",
       "      <td>1.0</td>\n",
       "      <td>1.000000</td>\n",
       "      <td>1.0</td>\n",
       "      <td>1.000000</td>\n",
       "    </tr>\n",
       "  </tbody>\n",
       "</table>\n",
       "</div>"
      ],
      "text/plain": [
       "age_group     Adult            Child           Unknown          \n",
       "Sex          female      male female      male  female      male\n",
       "Survived                                                        \n",
       "Died       0.096774  0.931818    0.0  0.181818     0.0  0.777778\n",
       "Lived      0.903226  0.068182    1.0  0.818182     1.0  0.222222\n",
       "All        1.000000  1.000000    1.0  1.000000     1.0  1.000000"
      ]
     },
     "execution_count": 305,
     "metadata": {},
     "output_type": "execute_result"
    }
   ],
   "source": [
    "freq4['2nd']/freq4['2nd'].ix['All']"
   ]
  },
  {
   "cell_type": "code",
   "execution_count": 306,
   "metadata": {
    "collapsed": true,
    "deletable": true,
    "editable": true
   },
   "outputs": [
    {
     "data": {
      "text/html": [
       "<div>\n",
       "<table border=\"1\" class=\"dataframe\">\n",
       "  <thead>\n",
       "    <tr>\n",
       "      <th>age_group</th>\n",
       "      <th colspan=\"2\" halign=\"left\">Adult</th>\n",
       "      <th colspan=\"2\" halign=\"left\">Child</th>\n",
       "      <th colspan=\"2\" halign=\"left\">Unknown</th>\n",
       "    </tr>\n",
       "    <tr>\n",
       "      <th>Sex</th>\n",
       "      <th>female</th>\n",
       "      <th>male</th>\n",
       "      <th>female</th>\n",
       "      <th>male</th>\n",
       "      <th>female</th>\n",
       "      <th>male</th>\n",
       "    </tr>\n",
       "    <tr>\n",
       "      <th>Survived</th>\n",
       "      <th></th>\n",
       "      <th></th>\n",
       "      <th></th>\n",
       "      <th></th>\n",
       "      <th></th>\n",
       "      <th></th>\n",
       "    </tr>\n",
       "  </thead>\n",
       "  <tbody>\n",
       "    <tr>\n",
       "      <th>Died</th>\n",
       "      <td>0.58209</td>\n",
       "      <td>0.866667</td>\n",
       "      <td>0.457143</td>\n",
       "      <td>0.767442</td>\n",
       "      <td>0.404762</td>\n",
       "      <td>0.904255</td>\n",
       "    </tr>\n",
       "    <tr>\n",
       "      <th>Lived</th>\n",
       "      <td>0.41791</td>\n",
       "      <td>0.133333</td>\n",
       "      <td>0.542857</td>\n",
       "      <td>0.232558</td>\n",
       "      <td>0.595238</td>\n",
       "      <td>0.095745</td>\n",
       "    </tr>\n",
       "    <tr>\n",
       "      <th>All</th>\n",
       "      <td>1.00000</td>\n",
       "      <td>1.000000</td>\n",
       "      <td>1.000000</td>\n",
       "      <td>1.000000</td>\n",
       "      <td>1.000000</td>\n",
       "      <td>1.000000</td>\n",
       "    </tr>\n",
       "  </tbody>\n",
       "</table>\n",
       "</div>"
      ],
      "text/plain": [
       "age_group    Adult               Child             Unknown          \n",
       "Sex         female      male    female      male    female      male\n",
       "Survived                                                            \n",
       "Died       0.58209  0.866667  0.457143  0.767442  0.404762  0.904255\n",
       "Lived      0.41791  0.133333  0.542857  0.232558  0.595238  0.095745\n",
       "All        1.00000  1.000000  1.000000  1.000000  1.000000  1.000000"
      ]
     },
     "execution_count": 306,
     "metadata": {},
     "output_type": "execute_result"
    }
   ],
   "source": [
    "freq4['3rd']/freq4['3rd'].ix['All']"
   ]
  },
  {
   "cell_type": "code",
   "execution_count": null,
   "metadata": {
    "collapsed": true,
    "deletable": true,
    "editable": true
   },
   "outputs": [],
   "source": []
  }
 ],
 "metadata": {
  "anaconda-cloud": {},
  "kernelspec": {
   "display_name": "Python [conda env:udacity_p2]",
   "language": "python",
   "name": "conda-env-udacity_p2-py"
  },
  "language_info": {
   "codemirror_mode": {
    "name": "ipython",
    "version": 3
   },
   "file_extension": ".py",
   "mimetype": "text/x-python",
   "name": "python",
   "nbconvert_exporter": "python",
   "pygments_lexer": "ipython3",
   "version": "3.6.1"
  }
 },
 "nbformat": 4,
 "nbformat_minor": 2
}
